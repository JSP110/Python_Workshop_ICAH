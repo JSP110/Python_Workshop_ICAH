{
 "cells": [
  {
   "cell_type": "markdown",
   "metadata": {},
   "source": [
    "# Python Workshop\n",
    "\n",
    "###  This workshop is oganiased for the Chemical Biology Winter School 2016 and given by the [Imperial College Advanced Hackspace](www.icah.org.uk).  \n",
    "\n",
    "<img src=\"../ICAH.png\" alt=\"jupyter\" style=\"width: 400px;\"/>\n",
    "\n",
    "### Instructor: [Dr. Ariadna Blanca Romero](starignus.github.io)\n",
    "### email: ariadna@starignus.com \n",
    "### Twitter: @starignus\n",
    "\n",
    "\n",
    "# Introduction\n",
    "\n",
    "Remember that you are intelligent and you can learn, but the computer is simple and very fast, but can not learn by itself. Therefore, in order for you to communicate instructions to the computer it is easier for you to learn a computer Language (e.g. Python) than for the computer to learn English.\n",
    "\n",
    "<img src=\"Fig1.png\" alt=\"jupyter\" style=\"width: 500px;\"/>\n",
    "\n",
    "## About Python Language  \n",
    "\n",
    "It was created by [Guido van Rossum](https://en.wikipedia.org/wiki/Guido_van_Rossum) during 1985- 1990. There are two main python versions: 2.7 and 3. For this course we will use 2.7 since it is the most common or popular used. It is a open source project which is maintained by a large and active comunity.  \n",
    "\n",
    "<img src=\"GuidoVanRossum.png\" alt=\"jupyter\" style=\"width: 200px;\"/>\n",
    "\n",
    "## What is Python?\n",
    "\n",
    "The short answer is that it is **an open source, high-level, dynamic scripting language**.\n",
    "\n",
    "* Open source: free! (both binaries and source files) It is maintained by a large and active comunity. \n",
    "* High-level: **general-purpose** interpreted (not compiled)\n",
    "* Dynamic: Things that usually happen in other languages at compile time occurs at run time (e.g. dynamic typing when a type of a variable is not set and can change throughout the program execution)\n",
    "* Scripting language: Automate the execution of tasks that could alternatively be executed one-by-one by a human operator.\n",
    "* It is an object-oriented programming language (OOP): It is a language model organised around objects rather than \"actions\". The objects may contain data, in the form of fields or attributes; and code, in the form of procedures, often known as methods. \n",
    "\n",
    "\n",
    "## Why python?\n",
    "\n",
    "#### Strengths \n",
    "\n",
    "* Python's most **important strength is that it is easy to learn and easy to use**.   \n",
    "* Strength of its design: The syntax looks like pseudocode, and it is explicitly meant to be\n",
    "**clear, compact, and easy to read**.\n",
    "* This design philosophy is codified in PEP8 (the [Python style guide](https://www.python.org/dev/peps/pep-0008/)) and PEP20 (the [Zen of Python](https://www.python.org/dev/peps/pep-0020/)).\n",
    "* General-purpose language that we can use in many areas: Prototyping e.g. Raspberry Pi, web app servers, scientific research, data science, etc.  \n",
    "\n",
    "#### Weekness \n",
    "\n",
    "* For one thing, Python is slower than a lower-level language (but keep in mind that this is a conscious tradeoff).\n",
    "\n",
    "## Resources\n",
    "\n",
    "<img src=\"Books.png\" alt=\"jupyter\" style=\"width: 600px;\"/>\n",
    "\n",
    "* [Codecademy](https://www.codecademy.com)\n",
    "* [Stack Overflow](stackoverflow.com/)\n",
    "* [Python Cheat Sheet](http://sleet.aos.wisc.edu/~gpetty/wp/wp-content/uploads/2011/10/Python_qr.pdf)\n",
    "* [Python Tutorial](https://www.tutorialspoint.com/python/index.htm)"
   ]
  },
  {
   "cell_type": "markdown",
   "metadata": {},
   "source": [
    "# A quick tour of IPython Notebook"
   ]
  },
  {
   "cell_type": "markdown",
   "metadata": {
    "collapsed": true
   },
   "source": [
    "First, we need to explain how to run cells. Try to run the cell below!"
   ]
  },
  {
   "cell_type": "code",
   "execution_count": null,
   "metadata": {
    "collapsed": false
   },
   "outputs": [],
   "source": [
    "print \"Hi! This is a cell. Press the ▶ button above to run it\""
   ]
  },
  {
   "cell_type": "markdown",
   "metadata": {},
   "source": [
    "You can also run a cell with Ctrl+Enter or **Shift+Enter**. Experiment a bit with that.\n",
    "\n",
    "One of the most useful things about Jupyter Notebook is its **tab** completion."
   ]
  },
  {
   "cell_type": "code",
   "execution_count": null,
   "metadata": {
    "collapsed": true
   },
   "outputs": [],
   "source": [
    "pr"
   ]
  },
  {
   "cell_type": "code",
   "execution_count": null,
   "metadata": {
    "collapsed": false
   },
   "outputs": [],
   "source": [
    "import pandas as pd"
   ]
  },
  {
   "cell_type": "markdown",
   "metadata": {},
   "source": [
    "1. Try tab completion for function names. \n",
    "2. Press **Shift+Tab** just after read_csv( "
   ]
  },
  {
   "cell_type": "code",
   "execution_count": null,
   "metadata": {
    "collapsed": true
   },
   "outputs": [],
   "source": [
    "pd.read_"
   ]
  },
  {
   "cell_type": "markdown",
   "metadata": {},
   "source": [
    "The notebook autosaves your cahnges."
   ]
  },
  {
   "cell_type": "markdown",
   "metadata": {
    "collapsed": true
   },
   "source": [
    "<img src=\"Jokexcsd.png\" alt=\"jupyter\" style=\"width: 500px;\"/>\n",
    "\n",
    "[xkcd](https://xkcd.com/353/)"
   ]
  },
  {
   "cell_type": "code",
   "execution_count": null,
   "metadata": {
    "collapsed": true
   },
   "outputs": [],
   "source": []
  }
 ],
 "metadata": {
  "anaconda-cloud": {},
  "kernelspec": {
   "display_name": "Python [conda root]",
   "language": "python",
   "name": "conda-root-py"
  },
  "language_info": {
   "codemirror_mode": {
    "name": "ipython",
    "version": 2
   },
   "file_extension": ".py",
   "mimetype": "text/x-python",
   "name": "python",
   "nbconvert_exporter": "python",
   "pygments_lexer": "ipython2",
   "version": "2.7.12"
  }
 },
 "nbformat": 4,
 "nbformat_minor": 1
}
