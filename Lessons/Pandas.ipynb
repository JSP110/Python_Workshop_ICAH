{
 "cells": [
  {
   "cell_type": "markdown",
   "metadata": {},
   "source": [
    "# Pandas"
   ]
  },
  {
   "cell_type": "markdown",
   "metadata": {},
   "source": [
    "One of the best options for working with data in Python is to use the [Python Data Analysis Library](http://pandas.pydata.org/) (popularly called Pandas). The Pandas library provides data structures, produces high-quality plots with matplotlib and integrates nicely with other libraries that use NumPy.\n",
    "\n",
    "For this lesson we will use public data from the [ Portal Project Teaching Database](https://figshare.com/articles/Portal_Project_Teaching_Database/1314459). The subset comes from Ernst *et al.* [Long-term monitoring and experimental manipulation of a Chihuahuan Desert ecosystem near Portal, Arizona, USA](http://www.esapubs.org/archive/ecol/E090/118/default.htm)\n",
    "\n",
    "This section will use the **surveys.csv** file that it is already in this directory. It was downloaded from this [link](https://ndownloader.figshare.com/files/2292172). Note: *csv* stands  for comma separated values.  \n",
    "\n",
    "The csv file contains the data of the study of species and weight of animals caught in plots in the study area mentioned above. Each row holds information for a single animal, and the columns represent:\n",
    "\n",
    "|**Column**|   **Description**|\n",
    "|:--------:|:-----------:|\n",
    "|record_id|\tUnique id for the observation|\n",
    "|month|\tmonth of observation|\n",
    "|day|\tday of observation|\n",
    "|year|\tyear of observation|\n",
    "|plot_id|\tID of a particular plot|\n",
    "|species_id|\t2-letter code|\n",
    "|sex|\tsex of animal (\"M\", \"F\")|\n",
    "|hindfoot_length|\tlength of the hindfoot in mm|\n",
    "|weight|\tweight of the animal in grams|\n",
    "\n",
    "First let's import pandas"
   ]
  },
  {
   "cell_type": "code",
   "execution_count": 1,
   "metadata": {
    "collapsed": false
   },
   "outputs": [
    {
     "name": "stderr",
     "output_type": "stream",
     "text": [
      "/Users/starignus/anaconda/lib/python2.7/site-packages/matplotlib/font_manager.py:273: UserWarning: Matplotlib is building the font cache using fc-list. This may take a moment.\n",
      "  warnings.warn('Matplotlib is building the font cache using fc-list. This may take a moment.')\n"
     ]
    }
   ],
   "source": [
    "# import numpy\n",
    "import numpy as np\n",
    "# Import pandas\n",
    "import pandas as pd\n",
    "import matplotlib.pyplot as plt\n",
    "# Make figures appear in-line within the notebook\n",
    "%matplotlib inline"
   ]
  },
  {
   "cell_type": "markdown",
   "metadata": {},
   "source": [
    "## Reading CSV Data Using Pandas\n",
    "\n",
    "Pandas has a function to read csv formated files ```read.csv()``` that pulls the file directly into a [DataFrame](http://pandas.pydata.org/pandas-docs/stable/dsintro.html#dataframe). "
   ]
  },
  {
   "cell_type": "markdown",
   "metadata": {},
   "source": [
    "A DataFrame is a 2-dimensional data structure that can store data of different types (including characters, integers, floating point values, factors and more) in columns. It is similar to a spreadsheet or an SQL table or the data.frame in R. A DataFrame always has an index (0-based). An index refers to the position of an element in the data structure as we already seen during the lectures.\n",
    "\n",
    "<img src=\"DF.png\" alt=\"jupyter\" style=\"width: 500px;\"/>"
   ]
  },
  {
   "cell_type": "code",
   "execution_count": 2,
   "metadata": {
    "collapsed": false
   },
   "outputs": [],
   "source": [
    "# Assign in a variable a Data Frame\n",
    "df_survey = pd.read_csv(\"surveys.csv\")"
   ]
  },
  {
   "cell_type": "code",
   "execution_count": 3,
   "metadata": {
    "collapsed": false
   },
   "outputs": [
    {
     "data": {
      "text/plain": [
       "pandas.core.frame.DataFrame"
      ]
     },
     "execution_count": 3,
     "metadata": {},
     "output_type": "execute_result"
    }
   ],
   "source": [
    "type(df_survey)"
   ]
  },
  {
   "cell_type": "code",
   "execution_count": 4,
   "metadata": {
    "collapsed": false
   },
   "outputs": [
    {
     "data": {
      "text/html": [
       "<div>\n",
       "<table border=\"1\" class=\"dataframe\">\n",
       "  <thead>\n",
       "    <tr style=\"text-align: right;\">\n",
       "      <th></th>\n",
       "      <th>record_id</th>\n",
       "      <th>month</th>\n",
       "      <th>day</th>\n",
       "      <th>year</th>\n",
       "      <th>plot_id</th>\n",
       "      <th>species_id</th>\n",
       "      <th>sex</th>\n",
       "      <th>hindfoot_length</th>\n",
       "      <th>weight</th>\n",
       "    </tr>\n",
       "  </thead>\n",
       "  <tbody>\n",
       "    <tr>\n",
       "      <th>0</th>\n",
       "      <td>1</td>\n",
       "      <td>7</td>\n",
       "      <td>16</td>\n",
       "      <td>1977</td>\n",
       "      <td>2</td>\n",
       "      <td>NL</td>\n",
       "      <td>M</td>\n",
       "      <td>32.0</td>\n",
       "      <td>NaN</td>\n",
       "    </tr>\n",
       "    <tr>\n",
       "      <th>1</th>\n",
       "      <td>2</td>\n",
       "      <td>7</td>\n",
       "      <td>16</td>\n",
       "      <td>1977</td>\n",
       "      <td>3</td>\n",
       "      <td>NL</td>\n",
       "      <td>M</td>\n",
       "      <td>33.0</td>\n",
       "      <td>NaN</td>\n",
       "    </tr>\n",
       "    <tr>\n",
       "      <th>2</th>\n",
       "      <td>3</td>\n",
       "      <td>7</td>\n",
       "      <td>16</td>\n",
       "      <td>1977</td>\n",
       "      <td>2</td>\n",
       "      <td>DM</td>\n",
       "      <td>F</td>\n",
       "      <td>37.0</td>\n",
       "      <td>NaN</td>\n",
       "    </tr>\n",
       "    <tr>\n",
       "      <th>3</th>\n",
       "      <td>4</td>\n",
       "      <td>7</td>\n",
       "      <td>16</td>\n",
       "      <td>1977</td>\n",
       "      <td>7</td>\n",
       "      <td>DM</td>\n",
       "      <td>M</td>\n",
       "      <td>36.0</td>\n",
       "      <td>NaN</td>\n",
       "    </tr>\n",
       "    <tr>\n",
       "      <th>4</th>\n",
       "      <td>5</td>\n",
       "      <td>7</td>\n",
       "      <td>16</td>\n",
       "      <td>1977</td>\n",
       "      <td>3</td>\n",
       "      <td>DM</td>\n",
       "      <td>M</td>\n",
       "      <td>35.0</td>\n",
       "      <td>NaN</td>\n",
       "    </tr>\n",
       "  </tbody>\n",
       "</table>\n",
       "</div>"
      ],
      "text/plain": [
       "   record_id  month  day  year  plot_id species_id sex  hindfoot_length  \\\n",
       "0          1      7   16  1977        2         NL   M             32.0   \n",
       "1          2      7   16  1977        3         NL   M             33.0   \n",
       "2          3      7   16  1977        2         DM   F             37.0   \n",
       "3          4      7   16  1977        7         DM   M             36.0   \n",
       "4          5      7   16  1977        3         DM   M             35.0   \n",
       "\n",
       "   weight  \n",
       "0     NaN  \n",
       "1     NaN  \n",
       "2     NaN  \n",
       "3     NaN  \n",
       "4     NaN  "
      ]
     },
     "execution_count": 4,
     "metadata": {},
     "output_type": "execute_result"
    }
   ],
   "source": [
    "# Use the head() method to exlpore the first rows \n",
    "df_survey.head()"
   ]
  },
  {
   "cell_type": "code",
   "execution_count": 5,
   "metadata": {
    "collapsed": false
   },
   "outputs": [
    {
     "data": {
      "text/html": [
       "<div>\n",
       "<table border=\"1\" class=\"dataframe\">\n",
       "  <thead>\n",
       "    <tr style=\"text-align: right;\">\n",
       "      <th></th>\n",
       "      <th>record_id</th>\n",
       "      <th>month</th>\n",
       "      <th>day</th>\n",
       "      <th>year</th>\n",
       "      <th>plot_id</th>\n",
       "      <th>species_id</th>\n",
       "      <th>sex</th>\n",
       "      <th>hindfoot_length</th>\n",
       "      <th>weight</th>\n",
       "    </tr>\n",
       "  </thead>\n",
       "  <tbody>\n",
       "    <tr>\n",
       "      <th>0</th>\n",
       "      <td>1</td>\n",
       "      <td>7</td>\n",
       "      <td>16</td>\n",
       "      <td>1977</td>\n",
       "      <td>2</td>\n",
       "      <td>NL</td>\n",
       "      <td>M</td>\n",
       "      <td>32.0</td>\n",
       "      <td>NaN</td>\n",
       "    </tr>\n",
       "    <tr>\n",
       "      <th>1</th>\n",
       "      <td>2</td>\n",
       "      <td>7</td>\n",
       "      <td>16</td>\n",
       "      <td>1977</td>\n",
       "      <td>3</td>\n",
       "      <td>NL</td>\n",
       "      <td>M</td>\n",
       "      <td>33.0</td>\n",
       "      <td>NaN</td>\n",
       "    </tr>\n",
       "  </tbody>\n",
       "</table>\n",
       "</div>"
      ],
      "text/plain": [
       "   record_id  month  day  year  plot_id species_id sex  hindfoot_length  \\\n",
       "0          1      7   16  1977        2         NL   M             32.0   \n",
       "1          2      7   16  1977        3         NL   M             33.0   \n",
       "\n",
       "   weight  \n",
       "0     NaN  \n",
       "1     NaN  "
      ]
     },
     "execution_count": 5,
     "metadata": {},
     "output_type": "execute_result"
    }
   ],
   "source": [
    "df_survey.head(n=2)"
   ]
  },
  {
   "cell_type": "markdown",
   "metadata": {},
   "source": [
    "## Manipulating data\n",
    "First we will check the data type of the data stored with the ```type``` method and the type of the items in each column with the fucntion ```dtypes```."
   ]
  },
  {
   "cell_type": "code",
   "execution_count": 6,
   "metadata": {
    "collapsed": false
   },
   "outputs": [
    {
     "data": {
      "text/plain": [
       "pandas.core.frame.DataFrame"
      ]
     },
     "execution_count": 6,
     "metadata": {},
     "output_type": "execute_result"
    }
   ],
   "source": [
    "# We will get the type of object of the varialbe \n",
    "type(df_survey)"
   ]
  },
  {
   "cell_type": "code",
   "execution_count": 7,
   "metadata": {
    "collapsed": false
   },
   "outputs": [
    {
     "data": {
      "text/plain": [
       "record_id            int64\n",
       "month                int64\n",
       "day                  int64\n",
       "year                 int64\n",
       "plot_id              int64\n",
       "species_id          object\n",
       "sex                 object\n",
       "hindfoot_length    float64\n",
       "weight             float64\n",
       "dtype: object"
      ]
     },
     "execution_count": 7,
     "metadata": {},
     "output_type": "execute_result"
    }
   ],
   "source": [
    "# Let's check the type of the elements in the Data Frame (DF)\n",
    "df_survey.dtypes"
   ]
  },
  {
   "cell_type": "markdown",
   "metadata": {},
   "source": [
    "There are other ways to visualise objects in the Data Frame. We already seen head(), but there are some other that are usefull when exploring our data."
   ]
  },
  {
   "cell_type": "code",
   "execution_count": 8,
   "metadata": {
    "collapsed": false
   },
   "outputs": [
    {
     "data": {
      "text/plain": [
       "Index([u'record_id', u'month', u'day', u'year', u'plot_id', u'species_id',\n",
       "       u'sex', u'hindfoot_length', u'weight'],\n",
       "      dtype='object')"
      ]
     },
     "execution_count": 8,
     "metadata": {},
     "output_type": "execute_result"
    }
   ],
   "source": [
    "# .columns provides the an index of all of the column names in DF. They are return in a unicode format\n",
    "df_survey.columns"
   ]
  },
  {
   "cell_type": "code",
   "execution_count": 9,
   "metadata": {
    "collapsed": false
   },
   "outputs": [
    {
     "data": {
      "text/html": [
       "<div>\n",
       "<table border=\"1\" class=\"dataframe\">\n",
       "  <thead>\n",
       "    <tr style=\"text-align: right;\">\n",
       "      <th></th>\n",
       "      <th>record_id</th>\n",
       "      <th>month</th>\n",
       "      <th>day</th>\n",
       "      <th>year</th>\n",
       "      <th>plot_id</th>\n",
       "      <th>species_id</th>\n",
       "      <th>sex</th>\n",
       "      <th>hindfoot_length</th>\n",
       "      <th>weight</th>\n",
       "    </tr>\n",
       "  </thead>\n",
       "  <tbody>\n",
       "    <tr>\n",
       "      <th>35544</th>\n",
       "      <td>35545</td>\n",
       "      <td>12</td>\n",
       "      <td>31</td>\n",
       "      <td>2002</td>\n",
       "      <td>15</td>\n",
       "      <td>AH</td>\n",
       "      <td>NaN</td>\n",
       "      <td>NaN</td>\n",
       "      <td>NaN</td>\n",
       "    </tr>\n",
       "    <tr>\n",
       "      <th>35545</th>\n",
       "      <td>35546</td>\n",
       "      <td>12</td>\n",
       "      <td>31</td>\n",
       "      <td>2002</td>\n",
       "      <td>15</td>\n",
       "      <td>AH</td>\n",
       "      <td>NaN</td>\n",
       "      <td>NaN</td>\n",
       "      <td>NaN</td>\n",
       "    </tr>\n",
       "    <tr>\n",
       "      <th>35546</th>\n",
       "      <td>35547</td>\n",
       "      <td>12</td>\n",
       "      <td>31</td>\n",
       "      <td>2002</td>\n",
       "      <td>10</td>\n",
       "      <td>RM</td>\n",
       "      <td>F</td>\n",
       "      <td>15.0</td>\n",
       "      <td>14.0</td>\n",
       "    </tr>\n",
       "    <tr>\n",
       "      <th>35547</th>\n",
       "      <td>35548</td>\n",
       "      <td>12</td>\n",
       "      <td>31</td>\n",
       "      <td>2002</td>\n",
       "      <td>7</td>\n",
       "      <td>DO</td>\n",
       "      <td>M</td>\n",
       "      <td>36.0</td>\n",
       "      <td>51.0</td>\n",
       "    </tr>\n",
       "    <tr>\n",
       "      <th>35548</th>\n",
       "      <td>35549</td>\n",
       "      <td>12</td>\n",
       "      <td>31</td>\n",
       "      <td>2002</td>\n",
       "      <td>5</td>\n",
       "      <td>NaN</td>\n",
       "      <td>NaN</td>\n",
       "      <td>NaN</td>\n",
       "      <td>NaN</td>\n",
       "    </tr>\n",
       "  </tbody>\n",
       "</table>\n",
       "</div>"
      ],
      "text/plain": [
       "       record_id  month  day  year  plot_id species_id  sex  hindfoot_length  \\\n",
       "35544      35545     12   31  2002       15         AH  NaN              NaN   \n",
       "35545      35546     12   31  2002       15         AH  NaN              NaN   \n",
       "35546      35547     12   31  2002       10         RM    F             15.0   \n",
       "35547      35548     12   31  2002        7         DO    M             36.0   \n",
       "35548      35549     12   31  2002        5        NaN  NaN              NaN   \n",
       "\n",
       "       weight  \n",
       "35544     NaN  \n",
       "35545     NaN  \n",
       "35546    14.0  \n",
       "35547    51.0  \n",
       "35548     NaN  "
      ]
     },
     "execution_count": 9,
     "metadata": {},
     "output_type": "execute_result"
    }
   ],
   "source": [
    "# WE can see the end of the DF with .tail()\n",
    "df_survey.tail()"
   ]
  },
  {
   "cell_type": "code",
   "execution_count": 10,
   "metadata": {
    "collapsed": false
   },
   "outputs": [
    {
     "data": {
      "text/html": [
       "<div>\n",
       "<table border=\"1\" class=\"dataframe\">\n",
       "  <thead>\n",
       "    <tr style=\"text-align: right;\">\n",
       "      <th></th>\n",
       "      <th>record_id</th>\n",
       "      <th>month</th>\n",
       "      <th>day</th>\n",
       "      <th>year</th>\n",
       "      <th>plot_id</th>\n",
       "      <th>species_id</th>\n",
       "      <th>sex</th>\n",
       "      <th>hindfoot_length</th>\n",
       "      <th>weight</th>\n",
       "    </tr>\n",
       "  </thead>\n",
       "  <tbody>\n",
       "    <tr>\n",
       "      <th>35547</th>\n",
       "      <td>35548</td>\n",
       "      <td>12</td>\n",
       "      <td>31</td>\n",
       "      <td>2002</td>\n",
       "      <td>7</td>\n",
       "      <td>DO</td>\n",
       "      <td>M</td>\n",
       "      <td>36.0</td>\n",
       "      <td>51.0</td>\n",
       "    </tr>\n",
       "    <tr>\n",
       "      <th>35548</th>\n",
       "      <td>35549</td>\n",
       "      <td>12</td>\n",
       "      <td>31</td>\n",
       "      <td>2002</td>\n",
       "      <td>5</td>\n",
       "      <td>NaN</td>\n",
       "      <td>NaN</td>\n",
       "      <td>NaN</td>\n",
       "      <td>NaN</td>\n",
       "    </tr>\n",
       "  </tbody>\n",
       "</table>\n",
       "</div>"
      ],
      "text/plain": [
       "       record_id  month  day  year  plot_id species_id  sex  hindfoot_length  \\\n",
       "35547      35548     12   31  2002        7         DO    M             36.0   \n",
       "35548      35549     12   31  2002        5        NaN  NaN              NaN   \n",
       "\n",
       "       weight  \n",
       "35547    51.0  \n",
       "35548     NaN  "
      ]
     },
     "execution_count": 10,
     "metadata": {},
     "output_type": "execute_result"
    }
   ],
   "source": [
    "df_survey.tail(n=2)"
   ]
  },
  {
   "cell_type": "markdown",
   "metadata": {},
   "source": [
    "We will perform some quick summary statistics to learn more about the data that we're working with. We might want to know how many animals were collected in each plot, or how many of each species were caught. We can perform summary stats quickly using groups. But first we need to figure out what we want to group by"
   ]
  },
  {
   "cell_type": "code",
   "execution_count": 11,
   "metadata": {
    "collapsed": false
   },
   "outputs": [
    {
     "data": {
      "text/plain": [
       "array(['record_id', 'month', 'day', 'year', 'plot_id', 'species_id', 'sex',\n",
       "       'hindfoot_length', 'weight'], dtype=object)"
      ]
     },
     "execution_count": 11,
     "metadata": {},
     "output_type": "execute_result"
    }
   ],
   "source": [
    "# Exploring the data\n",
    "df_survey.columns.values"
   ]
  },
  {
   "cell_type": "code",
   "execution_count": 12,
   "metadata": {
    "collapsed": false
   },
   "outputs": [
    {
     "data": {
      "text/plain": [
       "array(['NL', 'DM', 'PF', 'PE', 'DS', 'PP', 'SH', 'OT', 'DO', 'OX', 'SS',\n",
       "       'OL', 'RM', nan, 'SA', 'PM', 'AH', 'DX', 'AB', 'CB', 'CM', 'CQ',\n",
       "       'RF', 'PC', 'PG', 'PH', 'PU', 'CV', 'UR', 'UP', 'ZL', 'UL', 'CS',\n",
       "       'SC', 'BA', 'SF', 'RO', 'AS', 'SO', 'PI', 'ST', 'CU', 'SU', 'RX',\n",
       "       'PB', 'PL', 'PX', 'CT', 'US'], dtype=object)"
      ]
     },
     "execution_count": 12,
     "metadata": {},
     "output_type": "execute_result"
    }
   ],
   "source": [
    "# Let's get a list of all the species. The pd.unique function tells us all of the unique values \n",
    "# in the species_id column.\n",
    "pd.unique(df_survey['species_id'])"
   ]
  },
  {
   "cell_type": "code",
   "execution_count": 13,
   "metadata": {
    "collapsed": false
   },
   "outputs": [],
   "source": [
    "# Let's get a list of all the species. The pd.unique function tells us all of the unique \n",
    "# values in the species_id column.\n",
    "specie_id = pd.unique(df_survey['species_id'])"
   ]
  },
  {
   "cell_type": "code",
   "execution_count": 14,
   "metadata": {
    "collapsed": false
   },
   "outputs": [
    {
     "data": {
      "text/plain": [
       "array(['NL', 'DM', 'PF', 'PE', 'DS', 'PP', 'SH', 'OT', 'DO', 'OX', 'SS',\n",
       "       'OL', 'RM', nan, 'SA', 'PM', 'AH', 'DX', 'AB', 'CB', 'CM', 'CQ',\n",
       "       'RF', 'PC', 'PG', 'PH', 'PU', 'CV', 'UR', 'UP', 'ZL', 'UL', 'CS',\n",
       "       'SC', 'BA', 'SF', 'RO', 'AS', 'SO', 'PI', 'ST', 'CU', 'SU', 'RX',\n",
       "       'PB', 'PL', 'PX', 'CT', 'US'], dtype=object)"
      ]
     },
     "execution_count": 14,
     "metadata": {},
     "output_type": "execute_result"
    }
   ],
   "source": [
    "specie_id"
   ]
  },
  {
   "cell_type": "code",
   "execution_count": 16,
   "metadata": {
    "collapsed": false
   },
   "outputs": [
    {
     "data": {
      "text/plain": [
       "48"
      ]
     },
     "execution_count": 16,
     "metadata": {},
     "output_type": "execute_result"
    }
   ],
   "source": [
    "## To filter the nan values\n",
    "specie_id[pd.notnull(specie_id)]\n",
    "len(specie_id[pd.notnull(specie_id)])"
   ]
  },
  {
   "cell_type": "markdown",
   "metadata": {},
   "source": [
    "### Challenge\n",
    "* Create a list of unique plot ID's found in the surveys data. Call it plot_names. How many unique plots are there in the data? How many unique species are in the data?"
   ]
  },
  {
   "cell_type": "code",
   "execution_count": null,
   "metadata": {
    "collapsed": false
   },
   "outputs": [],
   "source": [
    "plot_names ="
   ]
  },
  {
   "cell_type": "markdown",
   "metadata": {},
   "source": [
    "## Groups in Pandas\n",
    "We can get a summary statistics grouped by subsets or attributes within fields of our data. For example, we might want to calculate the average weight of all individuals per plot.\n",
    "\n",
    "We can calculate basic statistics for all records in a single column:"
   ]
  },
  {
   "cell_type": "code",
   "execution_count": 17,
   "metadata": {
    "collapsed": false
   },
   "outputs": [
    {
     "data": {
      "text/plain": [
       "count    32283.000000\n",
       "mean        42.672428\n",
       "std         36.631259\n",
       "min          4.000000\n",
       "25%         20.000000\n",
       "50%         37.000000\n",
       "75%         48.000000\n",
       "max        280.000000\n",
       "Name: weight, dtype: float64"
      ]
     },
     "execution_count": 17,
     "metadata": {},
     "output_type": "execute_result"
    }
   ],
   "source": [
    "df_survey['weight'].describe()"
   ]
  },
  {
   "cell_type": "markdown",
   "metadata": {},
   "source": [
    "Also, it is possible to get the individual metrics"
   ]
  },
  {
   "cell_type": "code",
   "execution_count": 18,
   "metadata": {
    "collapsed": false
   },
   "outputs": [
    {
     "data": {
      "text/plain": [
       "4.0"
      ]
     },
     "execution_count": 18,
     "metadata": {},
     "output_type": "execute_result"
    }
   ],
   "source": [
    "df_survey['weight'].min()"
   ]
  },
  {
   "cell_type": "code",
   "execution_count": 19,
   "metadata": {
    "collapsed": false
   },
   "outputs": [
    {
     "data": {
      "text/plain": [
       "280.0"
      ]
     },
     "execution_count": 19,
     "metadata": {},
     "output_type": "execute_result"
    }
   ],
   "source": [
    "df_survey['weight'].max()"
   ]
  },
  {
   "cell_type": "code",
   "execution_count": 20,
   "metadata": {
    "collapsed": false
   },
   "outputs": [
    {
     "data": {
      "text/plain": [
       "42.672428212991356"
      ]
     },
     "execution_count": 20,
     "metadata": {},
     "output_type": "execute_result"
    }
   ],
   "source": [
    "df_survey['weight'].mean()"
   ]
  },
  {
   "cell_type": "code",
   "execution_count": 21,
   "metadata": {
    "collapsed": false
   },
   "outputs": [
    {
     "data": {
      "text/plain": [
       "36.63125947458399"
      ]
     },
     "execution_count": 21,
     "metadata": {},
     "output_type": "execute_result"
    }
   ],
   "source": [
    "df_survey['weight'].std()"
   ]
  },
  {
   "cell_type": "code",
   "execution_count": 22,
   "metadata": {
    "collapsed": false
   },
   "outputs": [
    {
     "data": {
      "text/plain": [
       "32283"
      ]
     },
     "execution_count": 22,
     "metadata": {},
     "output_type": "execute_result"
    }
   ],
   "source": [
    "df_survey['weight'].count()"
   ]
  },
  {
   "cell_type": "markdown",
   "metadata": {},
   "source": [
    "In case we want to get a summary statistics by one or more variables we can use ```.groupby()``` method. This grouped variable is now a *GroupBy object*. It has not computed anything yet except for some intermediate data about the group key df['key1']. The idea is that **this object has all of the information needed to apply some operation to each of the groups**."
   ]
  },
  {
   "cell_type": "code",
   "execution_count": 23,
   "metadata": {
    "collapsed": true
   },
   "outputs": [],
   "source": [
    "group_by_sex = df_survey.groupby('sex')"
   ]
  },
  {
   "cell_type": "code",
   "execution_count": 24,
   "metadata": {
    "collapsed": false
   },
   "outputs": [
    {
     "data": {
      "text/plain": [
       "pandas.core.groupby.DataFrameGroupBy"
      ]
     },
     "execution_count": 24,
     "metadata": {},
     "output_type": "execute_result"
    }
   ],
   "source": [
    "type(group_by_sex)"
   ]
  },
  {
   "cell_type": "markdown",
   "metadata": {},
   "source": [
    "Pandas' ```describe()``` method will only return summary values for columns containing numeric data."
   ]
  },
  {
   "cell_type": "code",
   "execution_count": 25,
   "metadata": {
    "collapsed": false
   },
   "outputs": [
    {
     "data": {
      "text/html": [
       "<div>\n",
       "<table border=\"1\" class=\"dataframe\">\n",
       "  <thead>\n",
       "    <tr style=\"text-align: right;\">\n",
       "      <th></th>\n",
       "      <th></th>\n",
       "      <th>day</th>\n",
       "      <th>hindfoot_length</th>\n",
       "      <th>month</th>\n",
       "      <th>plot_id</th>\n",
       "      <th>record_id</th>\n",
       "      <th>weight</th>\n",
       "      <th>year</th>\n",
       "    </tr>\n",
       "    <tr>\n",
       "      <th>sex</th>\n",
       "      <th></th>\n",
       "      <th></th>\n",
       "      <th></th>\n",
       "      <th></th>\n",
       "      <th></th>\n",
       "      <th></th>\n",
       "      <th></th>\n",
       "      <th></th>\n",
       "    </tr>\n",
       "  </thead>\n",
       "  <tbody>\n",
       "    <tr>\n",
       "      <th rowspan=\"8\" valign=\"top\">F</th>\n",
       "      <th>count</th>\n",
       "      <td>15690.000000</td>\n",
       "      <td>14894.000000</td>\n",
       "      <td>15690.000000</td>\n",
       "      <td>15690.000000</td>\n",
       "      <td>15690.000000</td>\n",
       "      <td>15303.000000</td>\n",
       "      <td>15690.000000</td>\n",
       "    </tr>\n",
       "    <tr>\n",
       "      <th>mean</th>\n",
       "      <td>16.007138</td>\n",
       "      <td>28.836780</td>\n",
       "      <td>6.583047</td>\n",
       "      <td>11.440854</td>\n",
       "      <td>18036.412046</td>\n",
       "      <td>42.170555</td>\n",
       "      <td>1990.644997</td>\n",
       "    </tr>\n",
       "    <tr>\n",
       "      <th>std</th>\n",
       "      <td>8.271144</td>\n",
       "      <td>9.463789</td>\n",
       "      <td>3.367350</td>\n",
       "      <td>6.870684</td>\n",
       "      <td>10423.089000</td>\n",
       "      <td>36.847958</td>\n",
       "      <td>7.598725</td>\n",
       "    </tr>\n",
       "    <tr>\n",
       "      <th>min</th>\n",
       "      <td>1.000000</td>\n",
       "      <td>7.000000</td>\n",
       "      <td>1.000000</td>\n",
       "      <td>1.000000</td>\n",
       "      <td>3.000000</td>\n",
       "      <td>4.000000</td>\n",
       "      <td>1977.000000</td>\n",
       "    </tr>\n",
       "    <tr>\n",
       "      <th>25%</th>\n",
       "      <td>9.000000</td>\n",
       "      <td>21.000000</td>\n",
       "      <td>4.000000</td>\n",
       "      <td>5.000000</td>\n",
       "      <td>8917.500000</td>\n",
       "      <td>20.000000</td>\n",
       "      <td>1984.000000</td>\n",
       "    </tr>\n",
       "    <tr>\n",
       "      <th>50%</th>\n",
       "      <td>16.000000</td>\n",
       "      <td>27.000000</td>\n",
       "      <td>7.000000</td>\n",
       "      <td>12.000000</td>\n",
       "      <td>18075.500000</td>\n",
       "      <td>34.000000</td>\n",
       "      <td>1990.000000</td>\n",
       "    </tr>\n",
       "    <tr>\n",
       "      <th>75%</th>\n",
       "      <td>23.000000</td>\n",
       "      <td>36.000000</td>\n",
       "      <td>10.000000</td>\n",
       "      <td>17.000000</td>\n",
       "      <td>27250.000000</td>\n",
       "      <td>46.000000</td>\n",
       "      <td>1997.000000</td>\n",
       "    </tr>\n",
       "    <tr>\n",
       "      <th>max</th>\n",
       "      <td>31.000000</td>\n",
       "      <td>64.000000</td>\n",
       "      <td>12.000000</td>\n",
       "      <td>24.000000</td>\n",
       "      <td>35547.000000</td>\n",
       "      <td>274.000000</td>\n",
       "      <td>2002.000000</td>\n",
       "    </tr>\n",
       "    <tr>\n",
       "      <th rowspan=\"8\" valign=\"top\">M</th>\n",
       "      <th>count</th>\n",
       "      <td>17348.000000</td>\n",
       "      <td>16476.000000</td>\n",
       "      <td>17348.000000</td>\n",
       "      <td>17348.000000</td>\n",
       "      <td>17348.000000</td>\n",
       "      <td>16879.000000</td>\n",
       "      <td>17348.000000</td>\n",
       "    </tr>\n",
       "    <tr>\n",
       "      <th>mean</th>\n",
       "      <td>16.184286</td>\n",
       "      <td>29.709578</td>\n",
       "      <td>6.392668</td>\n",
       "      <td>11.098282</td>\n",
       "      <td>17754.835601</td>\n",
       "      <td>42.995379</td>\n",
       "      <td>1990.480401</td>\n",
       "    </tr>\n",
       "    <tr>\n",
       "      <th>std</th>\n",
       "      <td>8.199274</td>\n",
       "      <td>9.629246</td>\n",
       "      <td>3.420806</td>\n",
       "      <td>6.728713</td>\n",
       "      <td>10132.203323</td>\n",
       "      <td>36.184981</td>\n",
       "      <td>7.403655</td>\n",
       "    </tr>\n",
       "    <tr>\n",
       "      <th>min</th>\n",
       "      <td>1.000000</td>\n",
       "      <td>2.000000</td>\n",
       "      <td>1.000000</td>\n",
       "      <td>1.000000</td>\n",
       "      <td>1.000000</td>\n",
       "      <td>4.000000</td>\n",
       "      <td>1977.000000</td>\n",
       "    </tr>\n",
       "    <tr>\n",
       "      <th>25%</th>\n",
       "      <td>9.000000</td>\n",
       "      <td>21.000000</td>\n",
       "      <td>3.000000</td>\n",
       "      <td>5.000000</td>\n",
       "      <td>8969.750000</td>\n",
       "      <td>20.000000</td>\n",
       "      <td>1984.000000</td>\n",
       "    </tr>\n",
       "    <tr>\n",
       "      <th>50%</th>\n",
       "      <td>16.000000</td>\n",
       "      <td>34.000000</td>\n",
       "      <td>6.000000</td>\n",
       "      <td>11.000000</td>\n",
       "      <td>17727.500000</td>\n",
       "      <td>39.000000</td>\n",
       "      <td>1990.000000</td>\n",
       "    </tr>\n",
       "    <tr>\n",
       "      <th>75%</th>\n",
       "      <td>23.000000</td>\n",
       "      <td>36.000000</td>\n",
       "      <td>9.000000</td>\n",
       "      <td>17.000000</td>\n",
       "      <td>26454.250000</td>\n",
       "      <td>49.000000</td>\n",
       "      <td>1997.000000</td>\n",
       "    </tr>\n",
       "    <tr>\n",
       "      <th>max</th>\n",
       "      <td>31.000000</td>\n",
       "      <td>58.000000</td>\n",
       "      <td>12.000000</td>\n",
       "      <td>24.000000</td>\n",
       "      <td>35548.000000</td>\n",
       "      <td>280.000000</td>\n",
       "      <td>2002.000000</td>\n",
       "    </tr>\n",
       "  </tbody>\n",
       "</table>\n",
       "</div>"
      ],
      "text/plain": [
       "                    day  hindfoot_length         month       plot_id  \\\n",
       "sex                                                                    \n",
       "F   count  15690.000000     14894.000000  15690.000000  15690.000000   \n",
       "    mean      16.007138        28.836780      6.583047     11.440854   \n",
       "    std        8.271144         9.463789      3.367350      6.870684   \n",
       "    min        1.000000         7.000000      1.000000      1.000000   \n",
       "    25%        9.000000        21.000000      4.000000      5.000000   \n",
       "    50%       16.000000        27.000000      7.000000     12.000000   \n",
       "    75%       23.000000        36.000000     10.000000     17.000000   \n",
       "    max       31.000000        64.000000     12.000000     24.000000   \n",
       "M   count  17348.000000     16476.000000  17348.000000  17348.000000   \n",
       "    mean      16.184286        29.709578      6.392668     11.098282   \n",
       "    std        8.199274         9.629246      3.420806      6.728713   \n",
       "    min        1.000000         2.000000      1.000000      1.000000   \n",
       "    25%        9.000000        21.000000      3.000000      5.000000   \n",
       "    50%       16.000000        34.000000      6.000000     11.000000   \n",
       "    75%       23.000000        36.000000      9.000000     17.000000   \n",
       "    max       31.000000        58.000000     12.000000     24.000000   \n",
       "\n",
       "              record_id        weight          year  \n",
       "sex                                                  \n",
       "F   count  15690.000000  15303.000000  15690.000000  \n",
       "    mean   18036.412046     42.170555   1990.644997  \n",
       "    std    10423.089000     36.847958      7.598725  \n",
       "    min        3.000000      4.000000   1977.000000  \n",
       "    25%     8917.500000     20.000000   1984.000000  \n",
       "    50%    18075.500000     34.000000   1990.000000  \n",
       "    75%    27250.000000     46.000000   1997.000000  \n",
       "    max    35547.000000    274.000000   2002.000000  \n",
       "M   count  17348.000000  16879.000000  17348.000000  \n",
       "    mean   17754.835601     42.995379   1990.480401  \n",
       "    std    10132.203323     36.184981      7.403655  \n",
       "    min        1.000000      4.000000   1977.000000  \n",
       "    25%     8969.750000     20.000000   1984.000000  \n",
       "    50%    17727.500000     39.000000   1990.000000  \n",
       "    75%    26454.250000     49.000000   1997.000000  \n",
       "    max    35548.000000    280.000000   2002.000000  "
      ]
     },
     "execution_count": 25,
     "metadata": {},
     "output_type": "execute_result"
    }
   ],
   "source": [
    "# summary statistics for all numeric columns by sex\n",
    "group_by_sex.describe()"
   ]
  },
  {
   "cell_type": "code",
   "execution_count": 26,
   "metadata": {
    "collapsed": false
   },
   "outputs": [
    {
     "data": {
      "text/html": [
       "<div>\n",
       "<table border=\"1\" class=\"dataframe\">\n",
       "  <thead>\n",
       "    <tr style=\"text-align: right;\">\n",
       "      <th></th>\n",
       "      <th>record_id</th>\n",
       "      <th>month</th>\n",
       "      <th>day</th>\n",
       "      <th>year</th>\n",
       "      <th>plot_id</th>\n",
       "      <th>species_id</th>\n",
       "      <th>sex</th>\n",
       "      <th>hindfoot_length</th>\n",
       "      <th>weight</th>\n",
       "    </tr>\n",
       "  </thead>\n",
       "  <tbody>\n",
       "    <tr>\n",
       "      <th>0</th>\n",
       "      <td>1</td>\n",
       "      <td>7</td>\n",
       "      <td>16</td>\n",
       "      <td>1977</td>\n",
       "      <td>2</td>\n",
       "      <td>NL</td>\n",
       "      <td>M</td>\n",
       "      <td>32.0</td>\n",
       "      <td>NaN</td>\n",
       "    </tr>\n",
       "    <tr>\n",
       "      <th>1</th>\n",
       "      <td>2</td>\n",
       "      <td>7</td>\n",
       "      <td>16</td>\n",
       "      <td>1977</td>\n",
       "      <td>3</td>\n",
       "      <td>NL</td>\n",
       "      <td>M</td>\n",
       "      <td>33.0</td>\n",
       "      <td>NaN</td>\n",
       "    </tr>\n",
       "  </tbody>\n",
       "</table>\n",
       "</div>"
      ],
      "text/plain": [
       "   record_id  month  day  year  plot_id species_id sex  hindfoot_length  \\\n",
       "0          1      7   16  1977        2         NL   M             32.0   \n",
       "1          2      7   16  1977        3         NL   M             33.0   \n",
       "\n",
       "   weight  \n",
       "0     NaN  \n",
       "1     NaN  "
      ]
     },
     "execution_count": 26,
     "metadata": {},
     "output_type": "execute_result"
    }
   ],
   "source": [
    "df_survey.head(2)"
   ]
  },
  {
   "cell_type": "code",
   "execution_count": 27,
   "metadata": {
    "collapsed": false
   },
   "outputs": [
    {
     "data": {
      "text/html": [
       "<div>\n",
       "<table border=\"1\" class=\"dataframe\">\n",
       "  <thead>\n",
       "    <tr style=\"text-align: right;\">\n",
       "      <th></th>\n",
       "      <th>record_id</th>\n",
       "      <th>month</th>\n",
       "      <th>day</th>\n",
       "      <th>year</th>\n",
       "      <th>plot_id</th>\n",
       "      <th>hindfoot_length</th>\n",
       "      <th>weight</th>\n",
       "    </tr>\n",
       "    <tr>\n",
       "      <th>sex</th>\n",
       "      <th></th>\n",
       "      <th></th>\n",
       "      <th></th>\n",
       "      <th></th>\n",
       "      <th></th>\n",
       "      <th></th>\n",
       "      <th></th>\n",
       "    </tr>\n",
       "  </thead>\n",
       "  <tbody>\n",
       "    <tr>\n",
       "      <th>F</th>\n",
       "      <td>18036.412046</td>\n",
       "      <td>6.583047</td>\n",
       "      <td>16.007138</td>\n",
       "      <td>1990.644997</td>\n",
       "      <td>11.440854</td>\n",
       "      <td>28.836780</td>\n",
       "      <td>42.170555</td>\n",
       "    </tr>\n",
       "    <tr>\n",
       "      <th>M</th>\n",
       "      <td>17754.835601</td>\n",
       "      <td>6.392668</td>\n",
       "      <td>16.184286</td>\n",
       "      <td>1990.480401</td>\n",
       "      <td>11.098282</td>\n",
       "      <td>29.709578</td>\n",
       "      <td>42.995379</td>\n",
       "    </tr>\n",
       "  </tbody>\n",
       "</table>\n",
       "</div>"
      ],
      "text/plain": [
       "        record_id     month        day         year    plot_id  \\\n",
       "sex                                                              \n",
       "F    18036.412046  6.583047  16.007138  1990.644997  11.440854   \n",
       "M    17754.835601  6.392668  16.184286  1990.480401  11.098282   \n",
       "\n",
       "     hindfoot_length     weight  \n",
       "sex                              \n",
       "F          28.836780  42.170555  \n",
       "M          29.709578  42.995379  "
      ]
     },
     "execution_count": 27,
     "metadata": {},
     "output_type": "execute_result"
    }
   ],
   "source": [
    "# provide the mean for each numeric column by sex\n",
    "group_by_sex.mean()"
   ]
  },
  {
   "cell_type": "code",
   "execution_count": 28,
   "metadata": {
    "collapsed": false
   },
   "outputs": [
    {
     "data": {
      "text/html": [
       "<div>\n",
       "<table border=\"1\" class=\"dataframe\">\n",
       "  <thead>\n",
       "    <tr style=\"text-align: right;\">\n",
       "      <th></th>\n",
       "      <th>record_id</th>\n",
       "      <th>month</th>\n",
       "      <th>day</th>\n",
       "      <th>year</th>\n",
       "      <th>plot_id</th>\n",
       "      <th>species_id</th>\n",
       "      <th>hindfoot_length</th>\n",
       "      <th>weight</th>\n",
       "    </tr>\n",
       "    <tr>\n",
       "      <th>sex</th>\n",
       "      <th></th>\n",
       "      <th></th>\n",
       "      <th></th>\n",
       "      <th></th>\n",
       "      <th></th>\n",
       "      <th></th>\n",
       "      <th></th>\n",
       "      <th></th>\n",
       "    </tr>\n",
       "  </thead>\n",
       "  <tbody>\n",
       "    <tr>\n",
       "      <th>F</th>\n",
       "      <td>15690</td>\n",
       "      <td>15690</td>\n",
       "      <td>15690</td>\n",
       "      <td>15690</td>\n",
       "      <td>15690</td>\n",
       "      <td>15690</td>\n",
       "      <td>14894</td>\n",
       "      <td>15303</td>\n",
       "    </tr>\n",
       "    <tr>\n",
       "      <th>M</th>\n",
       "      <td>17348</td>\n",
       "      <td>17348</td>\n",
       "      <td>17348</td>\n",
       "      <td>17348</td>\n",
       "      <td>17348</td>\n",
       "      <td>17348</td>\n",
       "      <td>16476</td>\n",
       "      <td>16879</td>\n",
       "    </tr>\n",
       "  </tbody>\n",
       "</table>\n",
       "</div>"
      ],
      "text/plain": [
       "     record_id  month    day   year  plot_id  species_id  hindfoot_length  \\\n",
       "sex                                                                         \n",
       "F        15690  15690  15690  15690    15690       15690            14894   \n",
       "M        17348  17348  17348  17348    17348       17348            16476   \n",
       "\n",
       "     weight  \n",
       "sex          \n",
       "F     15303  \n",
       "M     16879  "
      ]
     },
     "execution_count": 28,
     "metadata": {},
     "output_type": "execute_result"
    }
   ],
   "source": [
    "group_by_sex.count()"
   ]
  },
  {
   "cell_type": "markdown",
   "metadata": {},
   "source": [
    "## Challenge "
   ]
  },
  {
   "cell_type": "markdown",
   "metadata": {},
   "source": [
    "* How many specimens are female F and how many male M?\n",
    "* What happens when you group by two columns and then grab mean values:\n",
    "\n",
    "  * ``` grop_by_sex_plot = df_survey.groupby(['plot_id','sex'])```\n",
    "  * ``` grop_by_sex_plot.mean()```\n",
    "  \n",
    "* Summarize weight values for each plot id in your data. A hint is to use something like:\n",
    "  ```grop_by_plot['weight'].describe()```\n",
    "\n",
    "You should get something like:\n",
    "```\n",
    "plot_id       \n",
    "1        count    1903.000000\n",
    "         mean       51.822911\n",
    "         std        38.176670\n",
    "         min         4.000000\n",
    "         25%        30.000000\n",
    "         50%        44.000000\n",
    "         75%        53.000000\n",
    "         max       231.000000\n",
    "```"
   ]
  },
  {
   "cell_type": "code",
   "execution_count": 29,
   "metadata": {
    "collapsed": false
   },
   "outputs": [],
   "source": [
    "grop_by_sex_plot = df_survey.groupby(['plot_id','sex'])"
   ]
  },
  {
   "cell_type": "code",
   "execution_count": 30,
   "metadata": {
    "collapsed": false
   },
   "outputs": [
    {
     "data": {
      "text/html": [
       "<div>\n",
       "<table border=\"1\" class=\"dataframe\">\n",
       "  <thead>\n",
       "    <tr style=\"text-align: right;\">\n",
       "      <th></th>\n",
       "      <th></th>\n",
       "      <th>record_id</th>\n",
       "      <th>month</th>\n",
       "      <th>day</th>\n",
       "      <th>year</th>\n",
       "      <th>hindfoot_length</th>\n",
       "      <th>weight</th>\n",
       "    </tr>\n",
       "    <tr>\n",
       "      <th>plot_id</th>\n",
       "      <th>sex</th>\n",
       "      <th></th>\n",
       "      <th></th>\n",
       "      <th></th>\n",
       "      <th></th>\n",
       "      <th></th>\n",
       "      <th></th>\n",
       "    </tr>\n",
       "  </thead>\n",
       "  <tbody>\n",
       "    <tr>\n",
       "      <th rowspan=\"2\" valign=\"top\">1</th>\n",
       "      <th>F</th>\n",
       "      <td>18390.384434</td>\n",
       "      <td>6.597877</td>\n",
       "      <td>15.338443</td>\n",
       "      <td>1990.933962</td>\n",
       "      <td>31.733911</td>\n",
       "      <td>46.311138</td>\n",
       "    </tr>\n",
       "    <tr>\n",
       "      <th>M</th>\n",
       "      <td>17197.740639</td>\n",
       "      <td>6.121461</td>\n",
       "      <td>15.905936</td>\n",
       "      <td>1990.091324</td>\n",
       "      <td>34.302770</td>\n",
       "      <td>55.950560</td>\n",
       "    </tr>\n",
       "    <tr>\n",
       "      <th rowspan=\"2\" valign=\"top\">2</th>\n",
       "      <th>F</th>\n",
       "      <td>17714.753608</td>\n",
       "      <td>6.426804</td>\n",
       "      <td>16.288660</td>\n",
       "      <td>1990.449485</td>\n",
       "      <td>30.161220</td>\n",
       "      <td>52.561845</td>\n",
       "    </tr>\n",
       "    <tr>\n",
       "      <th>M</th>\n",
       "      <td>18085.458042</td>\n",
       "      <td>6.340035</td>\n",
       "      <td>15.440559</td>\n",
       "      <td>1990.756119</td>\n",
       "      <td>30.353760</td>\n",
       "      <td>51.391382</td>\n",
       "    </tr>\n",
       "    <tr>\n",
       "      <th rowspan=\"2\" valign=\"top\">3</th>\n",
       "      <th>F</th>\n",
       "      <td>19888.783875</td>\n",
       "      <td>6.604703</td>\n",
       "      <td>16.161254</td>\n",
       "      <td>1992.013438</td>\n",
       "      <td>23.774044</td>\n",
       "      <td>31.215349</td>\n",
       "    </tr>\n",
       "    <tr>\n",
       "      <th>M</th>\n",
       "      <td>20226.767857</td>\n",
       "      <td>6.271429</td>\n",
       "      <td>16.450000</td>\n",
       "      <td>1992.275000</td>\n",
       "      <td>23.833744</td>\n",
       "      <td>34.163241</td>\n",
       "    </tr>\n",
       "    <tr>\n",
       "      <th rowspan=\"2\" valign=\"top\">4</th>\n",
       "      <th>F</th>\n",
       "      <td>17489.205275</td>\n",
       "      <td>6.442661</td>\n",
       "      <td>15.746560</td>\n",
       "      <td>1990.235092</td>\n",
       "      <td>33.249102</td>\n",
       "      <td>46.818824</td>\n",
       "    </tr>\n",
       "    <tr>\n",
       "      <th>M</th>\n",
       "      <td>18493.841748</td>\n",
       "      <td>6.430097</td>\n",
       "      <td>16.507767</td>\n",
       "      <td>1991.000971</td>\n",
       "      <td>34.097959</td>\n",
       "      <td>48.888119</td>\n",
       "    </tr>\n",
       "    <tr>\n",
       "      <th rowspan=\"2\" valign=\"top\">5</th>\n",
       "      <th>F</th>\n",
       "      <td>12280.793169</td>\n",
       "      <td>6.142315</td>\n",
       "      <td>15.722960</td>\n",
       "      <td>1986.485769</td>\n",
       "      <td>28.921844</td>\n",
       "      <td>40.974806</td>\n",
       "    </tr>\n",
       "    <tr>\n",
       "      <th>M</th>\n",
       "      <td>12798.426621</td>\n",
       "      <td>6.194539</td>\n",
       "      <td>15.703072</td>\n",
       "      <td>1986.817406</td>\n",
       "      <td>29.694794</td>\n",
       "      <td>40.708551</td>\n",
       "    </tr>\n",
       "    <tr>\n",
       "      <th rowspan=\"2\" valign=\"top\">6</th>\n",
       "      <th>F</th>\n",
       "      <td>19406.503392</td>\n",
       "      <td>6.628223</td>\n",
       "      <td>16.313433</td>\n",
       "      <td>1991.579376</td>\n",
       "      <td>26.981322</td>\n",
       "      <td>36.352288</td>\n",
       "    </tr>\n",
       "    <tr>\n",
       "      <th>M</th>\n",
       "      <td>17849.574607</td>\n",
       "      <td>6.035340</td>\n",
       "      <td>16.091623</td>\n",
       "      <td>1990.556283</td>\n",
       "      <td>27.425591</td>\n",
       "      <td>36.867388</td>\n",
       "    </tr>\n",
       "    <tr>\n",
       "      <th rowspan=\"2\" valign=\"top\">7</th>\n",
       "      <th>F</th>\n",
       "      <td>19069.668657</td>\n",
       "      <td>6.385075</td>\n",
       "      <td>15.313433</td>\n",
       "      <td>1991.441791</td>\n",
       "      <td>19.779553</td>\n",
       "      <td>20.006135</td>\n",
       "    </tr>\n",
       "    <tr>\n",
       "      <th>M</th>\n",
       "      <td>19188.729642</td>\n",
       "      <td>6.719870</td>\n",
       "      <td>15.778502</td>\n",
       "      <td>1991.462541</td>\n",
       "      <td>20.536667</td>\n",
       "      <td>21.194719</td>\n",
       "    </tr>\n",
       "    <tr>\n",
       "      <th rowspan=\"2\" valign=\"top\">8</th>\n",
       "      <th>F</th>\n",
       "      <td>18920.276190</td>\n",
       "      <td>6.632143</td>\n",
       "      <td>15.836905</td>\n",
       "      <td>1991.267857</td>\n",
       "      <td>32.187578</td>\n",
       "      <td>45.623011</td>\n",
       "    </tr>\n",
       "    <tr>\n",
       "      <th>M</th>\n",
       "      <td>19452.109868</td>\n",
       "      <td>6.571719</td>\n",
       "      <td>15.854527</td>\n",
       "      <td>1991.686673</td>\n",
       "      <td>33.751059</td>\n",
       "      <td>49.641372</td>\n",
       "    </tr>\n",
       "    <tr>\n",
       "      <th rowspan=\"2\" valign=\"top\">9</th>\n",
       "      <th>F</th>\n",
       "      <td>16217.497069</td>\n",
       "      <td>6.499414</td>\n",
       "      <td>15.555686</td>\n",
       "      <td>1989.303634</td>\n",
       "      <td>35.126092</td>\n",
       "      <td>53.618469</td>\n",
       "    </tr>\n",
       "    <tr>\n",
       "      <th>M</th>\n",
       "      <td>18000.710159</td>\n",
       "      <td>6.361554</td>\n",
       "      <td>15.209163</td>\n",
       "      <td>1990.632470</td>\n",
       "      <td>34.175732</td>\n",
       "      <td>49.519309</td>\n",
       "    </tr>\n",
       "    <tr>\n",
       "      <th rowspan=\"2\" valign=\"top\">10</th>\n",
       "      <th>F</th>\n",
       "      <td>16001.496454</td>\n",
       "      <td>5.588652</td>\n",
       "      <td>16.964539</td>\n",
       "      <td>1989.248227</td>\n",
       "      <td>18.641791</td>\n",
       "      <td>17.094203</td>\n",
       "    </tr>\n",
       "    <tr>\n",
       "      <th>M</th>\n",
       "      <td>15708.704225</td>\n",
       "      <td>5.718310</td>\n",
       "      <td>16.739437</td>\n",
       "      <td>1989.007042</td>\n",
       "      <td>19.567164</td>\n",
       "      <td>19.971223</td>\n",
       "    </tr>\n",
       "    <tr>\n",
       "      <th rowspan=\"2\" valign=\"top\">11</th>\n",
       "      <th>F</th>\n",
       "      <td>16994.962287</td>\n",
       "      <td>6.759124</td>\n",
       "      <td>16.283455</td>\n",
       "      <td>1989.836983</td>\n",
       "      <td>32.029299</td>\n",
       "      <td>43.515075</td>\n",
       "    </tr>\n",
       "    <tr>\n",
       "      <th>M</th>\n",
       "      <td>16933.909621</td>\n",
       "      <td>6.374150</td>\n",
       "      <td>15.974733</td>\n",
       "      <td>1989.856171</td>\n",
       "      <td>32.078014</td>\n",
       "      <td>43.366197</td>\n",
       "    </tr>\n",
       "    <tr>\n",
       "      <th rowspan=\"2\" valign=\"top\">12</th>\n",
       "      <th>F</th>\n",
       "      <td>17457.966981</td>\n",
       "      <td>6.509434</td>\n",
       "      <td>16.305660</td>\n",
       "      <td>1990.266981</td>\n",
       "      <td>30.975124</td>\n",
       "      <td>49.831731</td>\n",
       "    </tr>\n",
       "    <tr>\n",
       "      <th>M</th>\n",
       "      <td>17592.327500</td>\n",
       "      <td>6.304167</td>\n",
       "      <td>16.367500</td>\n",
       "      <td>1990.400833</td>\n",
       "      <td>31.762489</td>\n",
       "      <td>48.909710</td>\n",
       "    </tr>\n",
       "    <tr>\n",
       "      <th rowspan=\"2\" valign=\"top\">13</th>\n",
       "      <th>F</th>\n",
       "      <td>18033.100318</td>\n",
       "      <td>6.802548</td>\n",
       "      <td>16.229299</td>\n",
       "      <td>1990.619427</td>\n",
       "      <td>27.201014</td>\n",
       "      <td>40.524590</td>\n",
       "    </tr>\n",
       "    <tr>\n",
       "      <th>M</th>\n",
       "      <td>16969.044700</td>\n",
       "      <td>6.480204</td>\n",
       "      <td>16.005109</td>\n",
       "      <td>1989.911877</td>\n",
       "      <td>27.893793</td>\n",
       "      <td>40.097754</td>\n",
       "    </tr>\n",
       "    <tr>\n",
       "      <th rowspan=\"2\" valign=\"top\">14</th>\n",
       "      <th>F</th>\n",
       "      <td>17097.145275</td>\n",
       "      <td>6.510578</td>\n",
       "      <td>16.681241</td>\n",
       "      <td>1989.974612</td>\n",
       "      <td>32.973373</td>\n",
       "      <td>47.355491</td>\n",
       "    </tr>\n",
       "    <tr>\n",
       "      <th>M</th>\n",
       "      <td>17891.948598</td>\n",
       "      <td>6.660748</td>\n",
       "      <td>16.504673</td>\n",
       "      <td>1990.587850</td>\n",
       "      <td>32.961802</td>\n",
       "      <td>45.159378</td>\n",
       "    </tr>\n",
       "    <tr>\n",
       "      <th rowspan=\"2\" valign=\"top\">15</th>\n",
       "      <th>F</th>\n",
       "      <td>20602.449064</td>\n",
       "      <td>6.569647</td>\n",
       "      <td>16.162162</td>\n",
       "      <td>1992.523909</td>\n",
       "      <td>21.949891</td>\n",
       "      <td>26.670236</td>\n",
       "    </tr>\n",
       "    <tr>\n",
       "      <th>M</th>\n",
       "      <td>18104.019560</td>\n",
       "      <td>6.185819</td>\n",
       "      <td>17.413203</td>\n",
       "      <td>1990.770171</td>\n",
       "      <td>21.803109</td>\n",
       "      <td>27.523691</td>\n",
       "    </tr>\n",
       "    <tr>\n",
       "      <th rowspan=\"2\" valign=\"top\">16</th>\n",
       "      <th>F</th>\n",
       "      <td>19002.445946</td>\n",
       "      <td>6.360360</td>\n",
       "      <td>16.819820</td>\n",
       "      <td>1991.351351</td>\n",
       "      <td>23.144928</td>\n",
       "      <td>25.810427</td>\n",
       "    </tr>\n",
       "    <tr>\n",
       "      <th>M</th>\n",
       "      <td>18434.714286</td>\n",
       "      <td>6.201465</td>\n",
       "      <td>16.622711</td>\n",
       "      <td>1990.926740</td>\n",
       "      <td>23.480916</td>\n",
       "      <td>23.811321</td>\n",
       "    </tr>\n",
       "    <tr>\n",
       "      <th rowspan=\"2\" valign=\"top\">17</th>\n",
       "      <th>F</th>\n",
       "      <td>18234.322870</td>\n",
       "      <td>6.650224</td>\n",
       "      <td>15.892377</td>\n",
       "      <td>1990.785874</td>\n",
       "      <td>30.918536</td>\n",
       "      <td>48.176201</td>\n",
       "    </tr>\n",
       "    <tr>\n",
       "      <th>M</th>\n",
       "      <td>18857.651472</td>\n",
       "      <td>6.569801</td>\n",
       "      <td>16.183286</td>\n",
       "      <td>1991.331434</td>\n",
       "      <td>32.227634</td>\n",
       "      <td>47.558853</td>\n",
       "    </tr>\n",
       "    <tr>\n",
       "      <th rowspan=\"2\" valign=\"top\">18</th>\n",
       "      <th>F</th>\n",
       "      <td>17940.875497</td>\n",
       "      <td>6.698013</td>\n",
       "      <td>15.960265</td>\n",
       "      <td>1990.536424</td>\n",
       "      <td>26.690341</td>\n",
       "      <td>36.963514</td>\n",
       "    </tr>\n",
       "    <tr>\n",
       "      <th>M</th>\n",
       "      <td>15106.718850</td>\n",
       "      <td>6.610224</td>\n",
       "      <td>16.797125</td>\n",
       "      <td>1988.551118</td>\n",
       "      <td>27.703072</td>\n",
       "      <td>43.546952</td>\n",
       "    </tr>\n",
       "    <tr>\n",
       "      <th rowspan=\"2\" valign=\"top\">19</th>\n",
       "      <th>F</th>\n",
       "      <td>21848.216475</td>\n",
       "      <td>6.701149</td>\n",
       "      <td>15.226054</td>\n",
       "      <td>1993.417625</td>\n",
       "      <td>21.257937</td>\n",
       "      <td>21.978599</td>\n",
       "    </tr>\n",
       "    <tr>\n",
       "      <th>M</th>\n",
       "      <td>19470.779690</td>\n",
       "      <td>6.533563</td>\n",
       "      <td>16.647160</td>\n",
       "      <td>1991.740103</td>\n",
       "      <td>21.071685</td>\n",
       "      <td>20.306878</td>\n",
       "    </tr>\n",
       "    <tr>\n",
       "      <th rowspan=\"2\" valign=\"top\">20</th>\n",
       "      <th>F</th>\n",
       "      <td>17510.769231</td>\n",
       "      <td>6.743077</td>\n",
       "      <td>16.026154</td>\n",
       "      <td>1990.253846</td>\n",
       "      <td>27.069193</td>\n",
       "      <td>52.624406</td>\n",
       "    </tr>\n",
       "    <tr>\n",
       "      <th>M</th>\n",
       "      <td>16076.192496</td>\n",
       "      <td>6.489396</td>\n",
       "      <td>16.375204</td>\n",
       "      <td>1989.243067</td>\n",
       "      <td>27.908451</td>\n",
       "      <td>44.197279</td>\n",
       "    </tr>\n",
       "    <tr>\n",
       "      <th rowspan=\"2\" valign=\"top\">21</th>\n",
       "      <th>F</th>\n",
       "      <td>22452.636661</td>\n",
       "      <td>6.860884</td>\n",
       "      <td>16.307692</td>\n",
       "      <td>1993.878887</td>\n",
       "      <td>22.366554</td>\n",
       "      <td>25.974832</td>\n",
       "    </tr>\n",
       "    <tr>\n",
       "      <th>M</th>\n",
       "      <td>20120.399113</td>\n",
       "      <td>6.671840</td>\n",
       "      <td>16.203991</td>\n",
       "      <td>1992.199557</td>\n",
       "      <td>21.736721</td>\n",
       "      <td>22.772622</td>\n",
       "    </tr>\n",
       "    <tr>\n",
       "      <th rowspan=\"2\" valign=\"top\">22</th>\n",
       "      <th>F</th>\n",
       "      <td>18499.695976</td>\n",
       "      <td>6.651267</td>\n",
       "      <td>15.521610</td>\n",
       "      <td>1990.973174</td>\n",
       "      <td>34.108320</td>\n",
       "      <td>53.647059</td>\n",
       "    </tr>\n",
       "    <tr>\n",
       "      <th>M</th>\n",
       "      <td>18015.365527</td>\n",
       "      <td>6.381872</td>\n",
       "      <td>16.682021</td>\n",
       "      <td>1990.650817</td>\n",
       "      <td>33.359746</td>\n",
       "      <td>54.572531</td>\n",
       "    </tr>\n",
       "    <tr>\n",
       "      <th rowspan=\"2\" valign=\"top\">23</th>\n",
       "      <th>F</th>\n",
       "      <td>15863.193939</td>\n",
       "      <td>6.860606</td>\n",
       "      <td>16.036364</td>\n",
       "      <td>1989.024242</td>\n",
       "      <td>20.051948</td>\n",
       "      <td>20.564417</td>\n",
       "    </tr>\n",
       "    <tr>\n",
       "      <th>M</th>\n",
       "      <td>17091.338164</td>\n",
       "      <td>6.391304</td>\n",
       "      <td>16.077295</td>\n",
       "      <td>1989.961353</td>\n",
       "      <td>19.850000</td>\n",
       "      <td>18.941463</td>\n",
       "    </tr>\n",
       "    <tr>\n",
       "      <th rowspan=\"2\" valign=\"top\">24</th>\n",
       "      <th>F</th>\n",
       "      <td>13702.224280</td>\n",
       "      <td>6.596708</td>\n",
       "      <td>16.393004</td>\n",
       "      <td>1987.485597</td>\n",
       "      <td>26.993377</td>\n",
       "      <td>47.914405</td>\n",
       "    </tr>\n",
       "    <tr>\n",
       "      <th>M</th>\n",
       "      <td>15208.136082</td>\n",
       "      <td>6.360825</td>\n",
       "      <td>16.971134</td>\n",
       "      <td>1988.641237</td>\n",
       "      <td>25.786996</td>\n",
       "      <td>39.321503</td>\n",
       "    </tr>\n",
       "  </tbody>\n",
       "</table>\n",
       "</div>"
      ],
      "text/plain": [
       "                record_id     month        day         year  hindfoot_length  \\\n",
       "plot_id sex                                                                    \n",
       "1       F    18390.384434  6.597877  15.338443  1990.933962        31.733911   \n",
       "        M    17197.740639  6.121461  15.905936  1990.091324        34.302770   \n",
       "2       F    17714.753608  6.426804  16.288660  1990.449485        30.161220   \n",
       "        M    18085.458042  6.340035  15.440559  1990.756119        30.353760   \n",
       "3       F    19888.783875  6.604703  16.161254  1992.013438        23.774044   \n",
       "        M    20226.767857  6.271429  16.450000  1992.275000        23.833744   \n",
       "4       F    17489.205275  6.442661  15.746560  1990.235092        33.249102   \n",
       "        M    18493.841748  6.430097  16.507767  1991.000971        34.097959   \n",
       "5       F    12280.793169  6.142315  15.722960  1986.485769        28.921844   \n",
       "        M    12798.426621  6.194539  15.703072  1986.817406        29.694794   \n",
       "6       F    19406.503392  6.628223  16.313433  1991.579376        26.981322   \n",
       "        M    17849.574607  6.035340  16.091623  1990.556283        27.425591   \n",
       "7       F    19069.668657  6.385075  15.313433  1991.441791        19.779553   \n",
       "        M    19188.729642  6.719870  15.778502  1991.462541        20.536667   \n",
       "8       F    18920.276190  6.632143  15.836905  1991.267857        32.187578   \n",
       "        M    19452.109868  6.571719  15.854527  1991.686673        33.751059   \n",
       "9       F    16217.497069  6.499414  15.555686  1989.303634        35.126092   \n",
       "        M    18000.710159  6.361554  15.209163  1990.632470        34.175732   \n",
       "10      F    16001.496454  5.588652  16.964539  1989.248227        18.641791   \n",
       "        M    15708.704225  5.718310  16.739437  1989.007042        19.567164   \n",
       "11      F    16994.962287  6.759124  16.283455  1989.836983        32.029299   \n",
       "        M    16933.909621  6.374150  15.974733  1989.856171        32.078014   \n",
       "12      F    17457.966981  6.509434  16.305660  1990.266981        30.975124   \n",
       "        M    17592.327500  6.304167  16.367500  1990.400833        31.762489   \n",
       "13      F    18033.100318  6.802548  16.229299  1990.619427        27.201014   \n",
       "        M    16969.044700  6.480204  16.005109  1989.911877        27.893793   \n",
       "14      F    17097.145275  6.510578  16.681241  1989.974612        32.973373   \n",
       "        M    17891.948598  6.660748  16.504673  1990.587850        32.961802   \n",
       "15      F    20602.449064  6.569647  16.162162  1992.523909        21.949891   \n",
       "        M    18104.019560  6.185819  17.413203  1990.770171        21.803109   \n",
       "16      F    19002.445946  6.360360  16.819820  1991.351351        23.144928   \n",
       "        M    18434.714286  6.201465  16.622711  1990.926740        23.480916   \n",
       "17      F    18234.322870  6.650224  15.892377  1990.785874        30.918536   \n",
       "        M    18857.651472  6.569801  16.183286  1991.331434        32.227634   \n",
       "18      F    17940.875497  6.698013  15.960265  1990.536424        26.690341   \n",
       "        M    15106.718850  6.610224  16.797125  1988.551118        27.703072   \n",
       "19      F    21848.216475  6.701149  15.226054  1993.417625        21.257937   \n",
       "        M    19470.779690  6.533563  16.647160  1991.740103        21.071685   \n",
       "20      F    17510.769231  6.743077  16.026154  1990.253846        27.069193   \n",
       "        M    16076.192496  6.489396  16.375204  1989.243067        27.908451   \n",
       "21      F    22452.636661  6.860884  16.307692  1993.878887        22.366554   \n",
       "        M    20120.399113  6.671840  16.203991  1992.199557        21.736721   \n",
       "22      F    18499.695976  6.651267  15.521610  1990.973174        34.108320   \n",
       "        M    18015.365527  6.381872  16.682021  1990.650817        33.359746   \n",
       "23      F    15863.193939  6.860606  16.036364  1989.024242        20.051948   \n",
       "        M    17091.338164  6.391304  16.077295  1989.961353        19.850000   \n",
       "24      F    13702.224280  6.596708  16.393004  1987.485597        26.993377   \n",
       "        M    15208.136082  6.360825  16.971134  1988.641237        25.786996   \n",
       "\n",
       "                weight  \n",
       "plot_id sex             \n",
       "1       F    46.311138  \n",
       "        M    55.950560  \n",
       "2       F    52.561845  \n",
       "        M    51.391382  \n",
       "3       F    31.215349  \n",
       "        M    34.163241  \n",
       "4       F    46.818824  \n",
       "        M    48.888119  \n",
       "5       F    40.974806  \n",
       "        M    40.708551  \n",
       "6       F    36.352288  \n",
       "        M    36.867388  \n",
       "7       F    20.006135  \n",
       "        M    21.194719  \n",
       "8       F    45.623011  \n",
       "        M    49.641372  \n",
       "9       F    53.618469  \n",
       "        M    49.519309  \n",
       "10      F    17.094203  \n",
       "        M    19.971223  \n",
       "11      F    43.515075  \n",
       "        M    43.366197  \n",
       "12      F    49.831731  \n",
       "        M    48.909710  \n",
       "13      F    40.524590  \n",
       "        M    40.097754  \n",
       "14      F    47.355491  \n",
       "        M    45.159378  \n",
       "15      F    26.670236  \n",
       "        M    27.523691  \n",
       "16      F    25.810427  \n",
       "        M    23.811321  \n",
       "17      F    48.176201  \n",
       "        M    47.558853  \n",
       "18      F    36.963514  \n",
       "        M    43.546952  \n",
       "19      F    21.978599  \n",
       "        M    20.306878  \n",
       "20      F    52.624406  \n",
       "        M    44.197279  \n",
       "21      F    25.974832  \n",
       "        M    22.772622  \n",
       "22      F    53.647059  \n",
       "        M    54.572531  \n",
       "23      F    20.564417  \n",
       "        M    18.941463  \n",
       "24      F    47.914405  \n",
       "        M    39.321503  "
      ]
     },
     "execution_count": 30,
     "metadata": {},
     "output_type": "execute_result"
    }
   ],
   "source": [
    "grop_by_sex_plot.mean()"
   ]
  },
  {
   "cell_type": "code",
   "execution_count": 31,
   "metadata": {
    "collapsed": false
   },
   "outputs": [],
   "source": [
    "grop_by_plot = df_survey.groupby('plot_id')"
   ]
  },
  {
   "cell_type": "code",
   "execution_count": 32,
   "metadata": {
    "collapsed": false
   },
   "outputs": [
    {
     "data": {
      "text/plain": [
       "plot_id       \n",
       "1        count    1903.000000\n",
       "         mean       51.822911\n",
       "         std        38.176670\n",
       "         min         4.000000\n",
       "         25%        30.000000\n",
       "         50%        44.000000\n",
       "         75%        53.000000\n",
       "         max       231.000000\n",
       "2        count    2074.000000\n",
       "         mean       52.251688\n",
       "         std        46.503602\n",
       "         min         5.000000\n",
       "         25%        24.000000\n",
       "         50%        41.000000\n",
       "         75%        50.000000\n",
       "         max       278.000000\n",
       "3        count    1710.000000\n",
       "         mean       32.654386\n",
       "         std        35.641630\n",
       "         min         4.000000\n",
       "         25%        14.000000\n",
       "         50%        23.000000\n",
       "         75%        36.000000\n",
       "         max       250.000000\n",
       "4        count    1866.000000\n",
       "         mean       47.928189\n",
       "         std        32.886598\n",
       "         min         4.000000\n",
       "         25%        30.000000\n",
       "         50%        43.000000\n",
       "                     ...     \n",
       "21       std        21.199819\n",
       "         min         4.000000\n",
       "         25%        10.000000\n",
       "         50%        22.000000\n",
       "         75%        31.000000\n",
       "         max       190.000000\n",
       "22       count    1298.000000\n",
       "         mean       54.146379\n",
       "         std        38.743967\n",
       "         min         5.000000\n",
       "         25%        29.000000\n",
       "         50%        42.000000\n",
       "         75%        54.000000\n",
       "         max       212.000000\n",
       "23       count     369.000000\n",
       "         mean       19.634146\n",
       "         std        18.382678\n",
       "         min         4.000000\n",
       "         25%        10.000000\n",
       "         50%        14.000000\n",
       "         75%        23.000000\n",
       "         max       199.000000\n",
       "24       count     960.000000\n",
       "         mean       43.679167\n",
       "         std        45.936588\n",
       "         min         4.000000\n",
       "         25%        19.000000\n",
       "         50%        27.500000\n",
       "         75%        45.000000\n",
       "         max       251.000000\n",
       "Name: weight, dtype: float64"
      ]
     },
     "execution_count": 32,
     "metadata": {},
     "output_type": "execute_result"
    }
   ],
   "source": [
    "grop_by_plot['weight'].describe()"
   ]
  },
  {
   "cell_type": "markdown",
   "metadata": {},
   "source": [
    "### Summary counts and  basic math operations\n",
    "If we want to count the number of *samples* by *species* we can do it in different ways using the ```groupby()``` combined with ```count()```."
   ]
  },
  {
   "cell_type": "code",
   "execution_count": 33,
   "metadata": {
    "collapsed": false
   },
   "outputs": [
    {
     "data": {
      "text/html": [
       "<div>\n",
       "<table border=\"1\" class=\"dataframe\">\n",
       "  <thead>\n",
       "    <tr style=\"text-align: right;\">\n",
       "      <th></th>\n",
       "      <th>record_id</th>\n",
       "      <th>month</th>\n",
       "      <th>day</th>\n",
       "      <th>year</th>\n",
       "      <th>plot_id</th>\n",
       "      <th>species_id</th>\n",
       "      <th>sex</th>\n",
       "      <th>hindfoot_length</th>\n",
       "      <th>weight</th>\n",
       "    </tr>\n",
       "  </thead>\n",
       "  <tbody>\n",
       "    <tr>\n",
       "      <th>0</th>\n",
       "      <td>1</td>\n",
       "      <td>7</td>\n",
       "      <td>16</td>\n",
       "      <td>1977</td>\n",
       "      <td>2</td>\n",
       "      <td>NL</td>\n",
       "      <td>M</td>\n",
       "      <td>32.0</td>\n",
       "      <td>NaN</td>\n",
       "    </tr>\n",
       "    <tr>\n",
       "      <th>1</th>\n",
       "      <td>2</td>\n",
       "      <td>7</td>\n",
       "      <td>16</td>\n",
       "      <td>1977</td>\n",
       "      <td>3</td>\n",
       "      <td>NL</td>\n",
       "      <td>M</td>\n",
       "      <td>33.0</td>\n",
       "      <td>NaN</td>\n",
       "    </tr>\n",
       "    <tr>\n",
       "      <th>2</th>\n",
       "      <td>3</td>\n",
       "      <td>7</td>\n",
       "      <td>16</td>\n",
       "      <td>1977</td>\n",
       "      <td>2</td>\n",
       "      <td>DM</td>\n",
       "      <td>F</td>\n",
       "      <td>37.0</td>\n",
       "      <td>NaN</td>\n",
       "    </tr>\n",
       "  </tbody>\n",
       "</table>\n",
       "</div>"
      ],
      "text/plain": [
       "   record_id  month  day  year  plot_id species_id sex  hindfoot_length  \\\n",
       "0          1      7   16  1977        2         NL   M             32.0   \n",
       "1          2      7   16  1977        3         NL   M             33.0   \n",
       "2          3      7   16  1977        2         DM   F             37.0   \n",
       "\n",
       "   weight  \n",
       "0     NaN  \n",
       "1     NaN  \n",
       "2     NaN  "
      ]
     },
     "execution_count": 33,
     "metadata": {},
     "output_type": "execute_result"
    }
   ],
   "source": [
    "df_survey.head(3)"
   ]
  },
  {
   "cell_type": "code",
   "execution_count": 34,
   "metadata": {
    "collapsed": false
   },
   "outputs": [],
   "source": [
    "# We can slice the groupby object\n",
    "count_species = df_survey.groupby('species_id')['plot_id'].count()"
   ]
  },
  {
   "cell_type": "code",
   "execution_count": 35,
   "metadata": {
    "collapsed": false
   },
   "outputs": [
    {
     "data": {
      "text/plain": [
       "species_id\n",
       "AB      303\n",
       "AH      437\n",
       "AS        2\n",
       "BA       46\n",
       "CB       50\n",
       "CM       13\n",
       "CQ       16\n",
       "CS        1\n",
       "CT        1\n",
       "CU        1\n",
       "CV        1\n",
       "DM    10596\n",
       "DO     3027\n",
       "DS     2504\n",
       "DX       40\n",
       "NL     1252\n",
       "OL     1006\n",
       "OT     2249\n",
       "OX       12\n",
       "PB     2891\n",
       "PC       39\n",
       "PE     1299\n",
       "PF     1597\n",
       "PG        8\n",
       "PH       32\n",
       "PI        9\n",
       "PL       36\n",
       "PM      899\n",
       "PP     3123\n",
       "PU        5\n",
       "PX        6\n",
       "RF       75\n",
       "RM     2609\n",
       "RO        8\n",
       "RX        2\n",
       "SA       75\n",
       "SC        1\n",
       "SF       43\n",
       "SH      147\n",
       "SO       43\n",
       "SS      248\n",
       "ST        1\n",
       "SU        5\n",
       "UL        4\n",
       "UP        8\n",
       "UR       10\n",
       "US        4\n",
       "ZL        2\n",
       "Name: plot_id, dtype: int64"
      ]
     },
     "execution_count": 35,
     "metadata": {},
     "output_type": "execute_result"
    }
   ],
   "source": [
    "count_species"
   ]
  },
  {
   "cell_type": "code",
   "execution_count": 36,
   "metadata": {
    "collapsed": false
   },
   "outputs": [
    {
     "data": {
      "text/plain": [
       "303"
      ]
     },
     "execution_count": 36,
     "metadata": {},
     "output_type": "execute_result"
    }
   ],
   "source": [
    "# We can also selsect an specific splecie \"AB\"\n",
    "df_survey.groupby('species_id')['plot_id'].count()['AB']"
   ]
  },
  {
   "cell_type": "markdown",
   "metadata": {},
   "source": [
    "We can carry out a mathematical operation on an entire column: weight * 2.\n",
    "We could use this to normalise data according to the mean, area, or other property calculated from our data."
   ]
  },
  {
   "cell_type": "code",
   "execution_count": 37,
   "metadata": {
    "collapsed": false
   },
   "outputs": [
    {
     "data": {
      "text/plain": [
       "0          NaN\n",
       "1          NaN\n",
       "2          NaN\n",
       "3          NaN\n",
       "4          NaN\n",
       "5          NaN\n",
       "6          NaN\n",
       "7          NaN\n",
       "8          NaN\n",
       "9          NaN\n",
       "10         NaN\n",
       "11         NaN\n",
       "12         NaN\n",
       "13         NaN\n",
       "14         NaN\n",
       "15         NaN\n",
       "16         NaN\n",
       "17         NaN\n",
       "18         NaN\n",
       "19         NaN\n",
       "20         NaN\n",
       "21         NaN\n",
       "22         NaN\n",
       "23         NaN\n",
       "24         NaN\n",
       "25         NaN\n",
       "26         NaN\n",
       "27         NaN\n",
       "28         NaN\n",
       "29         NaN\n",
       "         ...  \n",
       "35519     72.0\n",
       "35520     96.0\n",
       "35521     90.0\n",
       "35522     88.0\n",
       "35523     54.0\n",
       "35524     52.0\n",
       "35525     48.0\n",
       "35526     86.0\n",
       "35527      NaN\n",
       "35528     50.0\n",
       "35529      NaN\n",
       "35530      NaN\n",
       "35531     86.0\n",
       "35532     96.0\n",
       "35533    112.0\n",
       "35534    106.0\n",
       "35535     84.0\n",
       "35536     92.0\n",
       "35537     62.0\n",
       "35538    136.0\n",
       "35539     46.0\n",
       "35540     62.0\n",
       "35541     58.0\n",
       "35542     68.0\n",
       "35543      NaN\n",
       "35544      NaN\n",
       "35545      NaN\n",
       "35546     28.0\n",
       "35547    102.0\n",
       "35548      NaN\n",
       "Name: weight, dtype: float64"
      ]
     },
     "execution_count": 37,
     "metadata": {},
     "output_type": "execute_result"
    }
   ],
   "source": [
    "df_survey['weight'] * 2"
   ]
  },
  {
   "cell_type": "markdown",
   "metadata": {},
   "source": [
    "## Quick Plotting with Pandas\n",
    "\n",
    "One thing that we can do and is really useful, it is to plot our summary statisitcs. Therefore, we will use Pandas' ```plot()``` [method](http://pandas.pydata.org/pandas-docs/stable/generated/pandas.DataFrame.plot.html). "
   ]
  },
  {
   "cell_type": "code",
   "execution_count": 38,
   "metadata": {
    "collapsed": false
   },
   "outputs": [
    {
     "data": {
      "text/plain": [
       "<matplotlib.axes._subplots.AxesSubplot at 0x112678e50>"
      ]
     },
     "execution_count": 38,
     "metadata": {},
     "output_type": "execute_result"
    },
    {
     "data": {
      "image/png": "[encoded data removed]",
      "text/plain": [
       "<matplotlib.figure.Figure at 0x11262ef90>"
      ]
     },
     "metadata": {},
     "output_type": "display_data"
    }
   ],
   "source": [
    "# Creating a bar chart of specimens by specie\n",
    "count_species.plot(kind='bar')"
   ]
  },
  {
   "cell_type": "code",
   "execution_count": 39,
   "metadata": {
    "collapsed": true
   },
   "outputs": [],
   "source": [
    "# How many specimens where captured in each plot (how many unique record correspond to each plot and count)\n",
    "total_specimens = df_survey['record_id'].groupby(df_survey['plot_id']).nunique()"
   ]
  },
  {
   "cell_type": "code",
   "execution_count": 40,
   "metadata": {
    "collapsed": false
   },
   "outputs": [
    {
     "data": {
      "text/plain": [
       "plot_id\n",
       "1     1995\n",
       "2     2194\n",
       "3     1828\n",
       "4     1969\n",
       "5     1194\n",
       "6     1582\n",
       "7      816\n",
       "8     1891\n",
       "9     1936\n",
       "10     469\n",
       "11    1918\n",
       "12    2365\n",
       "13    1538\n",
       "14    1885\n",
       "15    1069\n",
       "16     646\n",
       "17    2039\n",
       "18    1445\n",
       "19    1189\n",
       "20    1390\n",
       "21    1173\n",
       "22    1399\n",
       "23     571\n",
       "24    1048\n",
       "Name: record_id, dtype: int64"
      ]
     },
     "execution_count": 40,
     "metadata": {},
     "output_type": "execute_result"
    }
   ],
   "source": [
    "total_specimens"
   ]
  },
  {
   "cell_type": "code",
   "execution_count": 41,
   "metadata": {
    "collapsed": false
   },
   "outputs": [
    {
     "data": {
      "text/plain": [
       "<matplotlib.axes._subplots.AxesSubplot at 0x1136d7d90>"
      ]
     },
     "execution_count": 41,
     "metadata": {},
     "output_type": "execute_result"
    },
    {
     "data": {
      "image/png": "[encoded data removed]",
      "text/plain": [
       "<matplotlib.figure.Figure at 0x1137ddf90>"
      ]
     },
     "metadata": {},
     "output_type": "display_data"
    }
   ],
   "source": [
    "total_specimens.plot(kind='bar')"
   ]
  },
  {
   "cell_type": "markdown",
   "metadata": {},
   "source": [
    "Now let's create:\n",
    "* Create a plot of average weight across all species per plot.\n",
    "* Create a plot of total males versus total females for the entire dataset."
   ]
  },
  {
   "cell_type": "code",
   "execution_count": 42,
   "metadata": {
    "collapsed": true
   },
   "outputs": [],
   "source": [
    "by_plot = df_survey.groupby('plot_id')"
   ]
  },
  {
   "cell_type": "code",
   "execution_count": 43,
   "metadata": {
    "collapsed": true
   },
   "outputs": [],
   "source": [
    "by_plot_weight = by_plot['weight'].mean()"
   ]
  },
  {
   "cell_type": "code",
   "execution_count": 44,
   "metadata": {
    "collapsed": false
   },
   "outputs": [
    {
     "data": {
      "text/plain": [
       "plot_id\n",
       "1     51.822911\n",
       "2     52.251688\n",
       "3     32.654386\n",
       "4     47.928189\n",
       "5     40.947802\n",
       "6     36.738893\n",
       "7     20.663009\n",
       "8     47.758001\n",
       "9     51.432358\n",
       "10    18.541219\n",
       "11    43.451757\n",
       "12    49.496169\n",
       "13    40.445660\n",
       "14    46.277199\n",
       "15    27.042578\n",
       "16    24.585417\n",
       "17    47.889593\n",
       "18    40.005922\n",
       "19    21.105166\n",
       "20    48.665303\n",
       "21    24.627794\n",
       "22    54.146379\n",
       "23    19.634146\n",
       "24    43.679167\n",
       "Name: weight, dtype: float64"
      ]
     },
     "execution_count": 44,
     "metadata": {},
     "output_type": "execute_result"
    }
   ],
   "source": [
    "by_plot_weight"
   ]
  },
  {
   "cell_type": "code",
   "execution_count": 45,
   "metadata": {
    "collapsed": false
   },
   "outputs": [
    {
     "data": {
      "text/plain": [
       "<matplotlib.axes._subplots.AxesSubplot at 0x113de0cd0>"
      ]
     },
     "execution_count": 45,
     "metadata": {},
     "output_type": "execute_result"
    },
    {
     "data": {
      "image/png": "[encoded data removed]",
      "text/plain": [
       "<matplotlib.figure.Figure at 0x112645f50>"
      ]
     },
     "metadata": {},
     "output_type": "display_data"
    }
   ],
   "source": [
    "by_plot_weight.plot(kind='bar')"
   ]
  },
  {
   "cell_type": "markdown",
   "metadata": {},
   "source": [
    "First we group data by plot and by sex, and then calculate a total weigth for each plot."
   ]
  },
  {
   "cell_type": "code",
   "execution_count": 46,
   "metadata": {
    "collapsed": true
   },
   "outputs": [],
   "source": [
    "by_plot_sex = df_survey.groupby(['plot_id','sex'])"
   ]
  },
  {
   "cell_type": "code",
   "execution_count": 52,
   "metadata": {
    "collapsed": false
   },
   "outputs": [
    {
     "data": {
      "text/html": [
       "<div>\n",
       "<table border=\"1\" class=\"dataframe\">\n",
       "  <thead>\n",
       "    <tr style=\"text-align: right;\">\n",
       "      <th></th>\n",
       "      <th></th>\n",
       "      <th>record_id</th>\n",
       "      <th>month</th>\n",
       "      <th>day</th>\n",
       "      <th>year</th>\n",
       "      <th>hindfoot_length</th>\n",
       "      <th>weight</th>\n",
       "    </tr>\n",
       "    <tr>\n",
       "      <th>plot_id</th>\n",
       "      <th>sex</th>\n",
       "      <th></th>\n",
       "      <th></th>\n",
       "      <th></th>\n",
       "      <th></th>\n",
       "      <th></th>\n",
       "      <th></th>\n",
       "    </tr>\n",
       "  </thead>\n",
       "  <tbody>\n",
       "    <tr>\n",
       "      <th rowspan=\"2\" valign=\"top\">1</th>\n",
       "      <th>F</th>\n",
       "      <td>18390.384434</td>\n",
       "      <td>6.597877</td>\n",
       "      <td>15.338443</td>\n",
       "      <td>1990.933962</td>\n",
       "      <td>31.733911</td>\n",
       "      <td>46.311138</td>\n",
       "    </tr>\n",
       "    <tr>\n",
       "      <th>M</th>\n",
       "      <td>17197.740639</td>\n",
       "      <td>6.121461</td>\n",
       "      <td>15.905936</td>\n",
       "      <td>1990.091324</td>\n",
       "      <td>34.302770</td>\n",
       "      <td>55.950560</td>\n",
       "    </tr>\n",
       "    <tr>\n",
       "      <th rowspan=\"2\" valign=\"top\">2</th>\n",
       "      <th>F</th>\n",
       "      <td>17714.753608</td>\n",
       "      <td>6.426804</td>\n",
       "      <td>16.288660</td>\n",
       "      <td>1990.449485</td>\n",
       "      <td>30.161220</td>\n",
       "      <td>52.561845</td>\n",
       "    </tr>\n",
       "    <tr>\n",
       "      <th>M</th>\n",
       "      <td>18085.458042</td>\n",
       "      <td>6.340035</td>\n",
       "      <td>15.440559</td>\n",
       "      <td>1990.756119</td>\n",
       "      <td>30.353760</td>\n",
       "      <td>51.391382</td>\n",
       "    </tr>\n",
       "    <tr>\n",
       "      <th rowspan=\"2\" valign=\"top\">3</th>\n",
       "      <th>F</th>\n",
       "      <td>19888.783875</td>\n",
       "      <td>6.604703</td>\n",
       "      <td>16.161254</td>\n",
       "      <td>1992.013438</td>\n",
       "      <td>23.774044</td>\n",
       "      <td>31.215349</td>\n",
       "    </tr>\n",
       "    <tr>\n",
       "      <th>M</th>\n",
       "      <td>20226.767857</td>\n",
       "      <td>6.271429</td>\n",
       "      <td>16.450000</td>\n",
       "      <td>1992.275000</td>\n",
       "      <td>23.833744</td>\n",
       "      <td>34.163241</td>\n",
       "    </tr>\n",
       "    <tr>\n",
       "      <th rowspan=\"2\" valign=\"top\">4</th>\n",
       "      <th>F</th>\n",
       "      <td>17489.205275</td>\n",
       "      <td>6.442661</td>\n",
       "      <td>15.746560</td>\n",
       "      <td>1990.235092</td>\n",
       "      <td>33.249102</td>\n",
       "      <td>46.818824</td>\n",
       "    </tr>\n",
       "    <tr>\n",
       "      <th>M</th>\n",
       "      <td>18493.841748</td>\n",
       "      <td>6.430097</td>\n",
       "      <td>16.507767</td>\n",
       "      <td>1991.000971</td>\n",
       "      <td>34.097959</td>\n",
       "      <td>48.888119</td>\n",
       "    </tr>\n",
       "    <tr>\n",
       "      <th rowspan=\"2\" valign=\"top\">5</th>\n",
       "      <th>F</th>\n",
       "      <td>12280.793169</td>\n",
       "      <td>6.142315</td>\n",
       "      <td>15.722960</td>\n",
       "      <td>1986.485769</td>\n",
       "      <td>28.921844</td>\n",
       "      <td>40.974806</td>\n",
       "    </tr>\n",
       "    <tr>\n",
       "      <th>M</th>\n",
       "      <td>12798.426621</td>\n",
       "      <td>6.194539</td>\n",
       "      <td>15.703072</td>\n",
       "      <td>1986.817406</td>\n",
       "      <td>29.694794</td>\n",
       "      <td>40.708551</td>\n",
       "    </tr>\n",
       "    <tr>\n",
       "      <th rowspan=\"2\" valign=\"top\">6</th>\n",
       "      <th>F</th>\n",
       "      <td>19406.503392</td>\n",
       "      <td>6.628223</td>\n",
       "      <td>16.313433</td>\n",
       "      <td>1991.579376</td>\n",
       "      <td>26.981322</td>\n",
       "      <td>36.352288</td>\n",
       "    </tr>\n",
       "    <tr>\n",
       "      <th>M</th>\n",
       "      <td>17849.574607</td>\n",
       "      <td>6.035340</td>\n",
       "      <td>16.091623</td>\n",
       "      <td>1990.556283</td>\n",
       "      <td>27.425591</td>\n",
       "      <td>36.867388</td>\n",
       "    </tr>\n",
       "    <tr>\n",
       "      <th rowspan=\"2\" valign=\"top\">7</th>\n",
       "      <th>F</th>\n",
       "      <td>19069.668657</td>\n",
       "      <td>6.385075</td>\n",
       "      <td>15.313433</td>\n",
       "      <td>1991.441791</td>\n",
       "      <td>19.779553</td>\n",
       "      <td>20.006135</td>\n",
       "    </tr>\n",
       "    <tr>\n",
       "      <th>M</th>\n",
       "      <td>19188.729642</td>\n",
       "      <td>6.719870</td>\n",
       "      <td>15.778502</td>\n",
       "      <td>1991.462541</td>\n",
       "      <td>20.536667</td>\n",
       "      <td>21.194719</td>\n",
       "    </tr>\n",
       "    <tr>\n",
       "      <th rowspan=\"2\" valign=\"top\">8</th>\n",
       "      <th>F</th>\n",
       "      <td>18920.276190</td>\n",
       "      <td>6.632143</td>\n",
       "      <td>15.836905</td>\n",
       "      <td>1991.267857</td>\n",
       "      <td>32.187578</td>\n",
       "      <td>45.623011</td>\n",
       "    </tr>\n",
       "    <tr>\n",
       "      <th>M</th>\n",
       "      <td>19452.109868</td>\n",
       "      <td>6.571719</td>\n",
       "      <td>15.854527</td>\n",
       "      <td>1991.686673</td>\n",
       "      <td>33.751059</td>\n",
       "      <td>49.641372</td>\n",
       "    </tr>\n",
       "    <tr>\n",
       "      <th rowspan=\"2\" valign=\"top\">9</th>\n",
       "      <th>F</th>\n",
       "      <td>16217.497069</td>\n",
       "      <td>6.499414</td>\n",
       "      <td>15.555686</td>\n",
       "      <td>1989.303634</td>\n",
       "      <td>35.126092</td>\n",
       "      <td>53.618469</td>\n",
       "    </tr>\n",
       "    <tr>\n",
       "      <th>M</th>\n",
       "      <td>18000.710159</td>\n",
       "      <td>6.361554</td>\n",
       "      <td>15.209163</td>\n",
       "      <td>1990.632470</td>\n",
       "      <td>34.175732</td>\n",
       "      <td>49.519309</td>\n",
       "    </tr>\n",
       "    <tr>\n",
       "      <th rowspan=\"2\" valign=\"top\">10</th>\n",
       "      <th>F</th>\n",
       "      <td>16001.496454</td>\n",
       "      <td>5.588652</td>\n",
       "      <td>16.964539</td>\n",
       "      <td>1989.248227</td>\n",
       "      <td>18.641791</td>\n",
       "      <td>17.094203</td>\n",
       "    </tr>\n",
       "    <tr>\n",
       "      <th>M</th>\n",
       "      <td>15708.704225</td>\n",
       "      <td>5.718310</td>\n",
       "      <td>16.739437</td>\n",
       "      <td>1989.007042</td>\n",
       "      <td>19.567164</td>\n",
       "      <td>19.971223</td>\n",
       "    </tr>\n",
       "    <tr>\n",
       "      <th rowspan=\"2\" valign=\"top\">11</th>\n",
       "      <th>F</th>\n",
       "      <td>16994.962287</td>\n",
       "      <td>6.759124</td>\n",
       "      <td>16.283455</td>\n",
       "      <td>1989.836983</td>\n",
       "      <td>32.029299</td>\n",
       "      <td>43.515075</td>\n",
       "    </tr>\n",
       "    <tr>\n",
       "      <th>M</th>\n",
       "      <td>16933.909621</td>\n",
       "      <td>6.374150</td>\n",
       "      <td>15.974733</td>\n",
       "      <td>1989.856171</td>\n",
       "      <td>32.078014</td>\n",
       "      <td>43.366197</td>\n",
       "    </tr>\n",
       "    <tr>\n",
       "      <th rowspan=\"2\" valign=\"top\">12</th>\n",
       "      <th>F</th>\n",
       "      <td>17457.966981</td>\n",
       "      <td>6.509434</td>\n",
       "      <td>16.305660</td>\n",
       "      <td>1990.266981</td>\n",
       "      <td>30.975124</td>\n",
       "      <td>49.831731</td>\n",
       "    </tr>\n",
       "    <tr>\n",
       "      <th>M</th>\n",
       "      <td>17592.327500</td>\n",
       "      <td>6.304167</td>\n",
       "      <td>16.367500</td>\n",
       "      <td>1990.400833</td>\n",
       "      <td>31.762489</td>\n",
       "      <td>48.909710</td>\n",
       "    </tr>\n",
       "    <tr>\n",
       "      <th rowspan=\"2\" valign=\"top\">13</th>\n",
       "      <th>F</th>\n",
       "      <td>18033.100318</td>\n",
       "      <td>6.802548</td>\n",
       "      <td>16.229299</td>\n",
       "      <td>1990.619427</td>\n",
       "      <td>27.201014</td>\n",
       "      <td>40.524590</td>\n",
       "    </tr>\n",
       "    <tr>\n",
       "      <th>M</th>\n",
       "      <td>16969.044700</td>\n",
       "      <td>6.480204</td>\n",
       "      <td>16.005109</td>\n",
       "      <td>1989.911877</td>\n",
       "      <td>27.893793</td>\n",
       "      <td>40.097754</td>\n",
       "    </tr>\n",
       "    <tr>\n",
       "      <th rowspan=\"2\" valign=\"top\">14</th>\n",
       "      <th>F</th>\n",
       "      <td>17097.145275</td>\n",
       "      <td>6.510578</td>\n",
       "      <td>16.681241</td>\n",
       "      <td>1989.974612</td>\n",
       "      <td>32.973373</td>\n",
       "      <td>47.355491</td>\n",
       "    </tr>\n",
       "    <tr>\n",
       "      <th>M</th>\n",
       "      <td>17891.948598</td>\n",
       "      <td>6.660748</td>\n",
       "      <td>16.504673</td>\n",
       "      <td>1990.587850</td>\n",
       "      <td>32.961802</td>\n",
       "      <td>45.159378</td>\n",
       "    </tr>\n",
       "    <tr>\n",
       "      <th rowspan=\"2\" valign=\"top\">15</th>\n",
       "      <th>F</th>\n",
       "      <td>20602.449064</td>\n",
       "      <td>6.569647</td>\n",
       "      <td>16.162162</td>\n",
       "      <td>1992.523909</td>\n",
       "      <td>21.949891</td>\n",
       "      <td>26.670236</td>\n",
       "    </tr>\n",
       "    <tr>\n",
       "      <th>M</th>\n",
       "      <td>18104.019560</td>\n",
       "      <td>6.185819</td>\n",
       "      <td>17.413203</td>\n",
       "      <td>1990.770171</td>\n",
       "      <td>21.803109</td>\n",
       "      <td>27.523691</td>\n",
       "    </tr>\n",
       "    <tr>\n",
       "      <th rowspan=\"2\" valign=\"top\">16</th>\n",
       "      <th>F</th>\n",
       "      <td>19002.445946</td>\n",
       "      <td>6.360360</td>\n",
       "      <td>16.819820</td>\n",
       "      <td>1991.351351</td>\n",
       "      <td>23.144928</td>\n",
       "      <td>25.810427</td>\n",
       "    </tr>\n",
       "    <tr>\n",
       "      <th>M</th>\n",
       "      <td>18434.714286</td>\n",
       "      <td>6.201465</td>\n",
       "      <td>16.622711</td>\n",
       "      <td>1990.926740</td>\n",
       "      <td>23.480916</td>\n",
       "      <td>23.811321</td>\n",
       "    </tr>\n",
       "    <tr>\n",
       "      <th rowspan=\"2\" valign=\"top\">17</th>\n",
       "      <th>F</th>\n",
       "      <td>18234.322870</td>\n",
       "      <td>6.650224</td>\n",
       "      <td>15.892377</td>\n",
       "      <td>1990.785874</td>\n",
       "      <td>30.918536</td>\n",
       "      <td>48.176201</td>\n",
       "    </tr>\n",
       "    <tr>\n",
       "      <th>M</th>\n",
       "      <td>18857.651472</td>\n",
       "      <td>6.569801</td>\n",
       "      <td>16.183286</td>\n",
       "      <td>1991.331434</td>\n",
       "      <td>32.227634</td>\n",
       "      <td>47.558853</td>\n",
       "    </tr>\n",
       "    <tr>\n",
       "      <th rowspan=\"2\" valign=\"top\">18</th>\n",
       "      <th>F</th>\n",
       "      <td>17940.875497</td>\n",
       "      <td>6.698013</td>\n",
       "      <td>15.960265</td>\n",
       "      <td>1990.536424</td>\n",
       "      <td>26.690341</td>\n",
       "      <td>36.963514</td>\n",
       "    </tr>\n",
       "    <tr>\n",
       "      <th>M</th>\n",
       "      <td>15106.718850</td>\n",
       "      <td>6.610224</td>\n",
       "      <td>16.797125</td>\n",
       "      <td>1988.551118</td>\n",
       "      <td>27.703072</td>\n",
       "      <td>43.546952</td>\n",
       "    </tr>\n",
       "    <tr>\n",
       "      <th rowspan=\"2\" valign=\"top\">19</th>\n",
       "      <th>F</th>\n",
       "      <td>21848.216475</td>\n",
       "      <td>6.701149</td>\n",
       "      <td>15.226054</td>\n",
       "      <td>1993.417625</td>\n",
       "      <td>21.257937</td>\n",
       "      <td>21.978599</td>\n",
       "    </tr>\n",
       "    <tr>\n",
       "      <th>M</th>\n",
       "      <td>19470.779690</td>\n",
       "      <td>6.533563</td>\n",
       "      <td>16.647160</td>\n",
       "      <td>1991.740103</td>\n",
       "      <td>21.071685</td>\n",
       "      <td>20.306878</td>\n",
       "    </tr>\n",
       "    <tr>\n",
       "      <th rowspan=\"2\" valign=\"top\">20</th>\n",
       "      <th>F</th>\n",
       "      <td>17510.769231</td>\n",
       "      <td>6.743077</td>\n",
       "      <td>16.026154</td>\n",
       "      <td>1990.253846</td>\n",
       "      <td>27.069193</td>\n",
       "      <td>52.624406</td>\n",
       "    </tr>\n",
       "    <tr>\n",
       "      <th>M</th>\n",
       "      <td>16076.192496</td>\n",
       "      <td>6.489396</td>\n",
       "      <td>16.375204</td>\n",
       "      <td>1989.243067</td>\n",
       "      <td>27.908451</td>\n",
       "      <td>44.197279</td>\n",
       "    </tr>\n",
       "    <tr>\n",
       "      <th rowspan=\"2\" valign=\"top\">21</th>\n",
       "      <th>F</th>\n",
       "      <td>22452.636661</td>\n",
       "      <td>6.860884</td>\n",
       "      <td>16.307692</td>\n",
       "      <td>1993.878887</td>\n",
       "      <td>22.366554</td>\n",
       "      <td>25.974832</td>\n",
       "    </tr>\n",
       "    <tr>\n",
       "      <th>M</th>\n",
       "      <td>20120.399113</td>\n",
       "      <td>6.671840</td>\n",
       "      <td>16.203991</td>\n",
       "      <td>1992.199557</td>\n",
       "      <td>21.736721</td>\n",
       "      <td>22.772622</td>\n",
       "    </tr>\n",
       "    <tr>\n",
       "      <th rowspan=\"2\" valign=\"top\">22</th>\n",
       "      <th>F</th>\n",
       "      <td>18499.695976</td>\n",
       "      <td>6.651267</td>\n",
       "      <td>15.521610</td>\n",
       "      <td>1990.973174</td>\n",
       "      <td>34.108320</td>\n",
       "      <td>53.647059</td>\n",
       "    </tr>\n",
       "    <tr>\n",
       "      <th>M</th>\n",
       "      <td>18015.365527</td>\n",
       "      <td>6.381872</td>\n",
       "      <td>16.682021</td>\n",
       "      <td>1990.650817</td>\n",
       "      <td>33.359746</td>\n",
       "      <td>54.572531</td>\n",
       "    </tr>\n",
       "    <tr>\n",
       "      <th rowspan=\"2\" valign=\"top\">23</th>\n",
       "      <th>F</th>\n",
       "      <td>15863.193939</td>\n",
       "      <td>6.860606</td>\n",
       "      <td>16.036364</td>\n",
       "      <td>1989.024242</td>\n",
       "      <td>20.051948</td>\n",
       "      <td>20.564417</td>\n",
       "    </tr>\n",
       "    <tr>\n",
       "      <th>M</th>\n",
       "      <td>17091.338164</td>\n",
       "      <td>6.391304</td>\n",
       "      <td>16.077295</td>\n",
       "      <td>1989.961353</td>\n",
       "      <td>19.850000</td>\n",
       "      <td>18.941463</td>\n",
       "    </tr>\n",
       "    <tr>\n",
       "      <th rowspan=\"2\" valign=\"top\">24</th>\n",
       "      <th>F</th>\n",
       "      <td>13702.224280</td>\n",
       "      <td>6.596708</td>\n",
       "      <td>16.393004</td>\n",
       "      <td>1987.485597</td>\n",
       "      <td>26.993377</td>\n",
       "      <td>47.914405</td>\n",
       "    </tr>\n",
       "    <tr>\n",
       "      <th>M</th>\n",
       "      <td>15208.136082</td>\n",
       "      <td>6.360825</td>\n",
       "      <td>16.971134</td>\n",
       "      <td>1988.641237</td>\n",
       "      <td>25.786996</td>\n",
       "      <td>39.321503</td>\n",
       "    </tr>\n",
       "  </tbody>\n",
       "</table>\n",
       "</div>"
      ],
      "text/plain": [
       "                record_id     month        day         year  hindfoot_length  \\\n",
       "plot_id sex                                                                    \n",
       "1       F    18390.384434  6.597877  15.338443  1990.933962        31.733911   \n",
       "        M    17197.740639  6.121461  15.905936  1990.091324        34.302770   \n",
       "2       F    17714.753608  6.426804  16.288660  1990.449485        30.161220   \n",
       "        M    18085.458042  6.340035  15.440559  1990.756119        30.353760   \n",
       "3       F    19888.783875  6.604703  16.161254  1992.013438        23.774044   \n",
       "        M    20226.767857  6.271429  16.450000  1992.275000        23.833744   \n",
       "4       F    17489.205275  6.442661  15.746560  1990.235092        33.249102   \n",
       "        M    18493.841748  6.430097  16.507767  1991.000971        34.097959   \n",
       "5       F    12280.793169  6.142315  15.722960  1986.485769        28.921844   \n",
       "        M    12798.426621  6.194539  15.703072  1986.817406        29.694794   \n",
       "6       F    19406.503392  6.628223  16.313433  1991.579376        26.981322   \n",
       "        M    17849.574607  6.035340  16.091623  1990.556283        27.425591   \n",
       "7       F    19069.668657  6.385075  15.313433  1991.441791        19.779553   \n",
       "        M    19188.729642  6.719870  15.778502  1991.462541        20.536667   \n",
       "8       F    18920.276190  6.632143  15.836905  1991.267857        32.187578   \n",
       "        M    19452.109868  6.571719  15.854527  1991.686673        33.751059   \n",
       "9       F    16217.497069  6.499414  15.555686  1989.303634        35.126092   \n",
       "        M    18000.710159  6.361554  15.209163  1990.632470        34.175732   \n",
       "10      F    16001.496454  5.588652  16.964539  1989.248227        18.641791   \n",
       "        M    15708.704225  5.718310  16.739437  1989.007042        19.567164   \n",
       "11      F    16994.962287  6.759124  16.283455  1989.836983        32.029299   \n",
       "        M    16933.909621  6.374150  15.974733  1989.856171        32.078014   \n",
       "12      F    17457.966981  6.509434  16.305660  1990.266981        30.975124   \n",
       "        M    17592.327500  6.304167  16.367500  1990.400833        31.762489   \n",
       "13      F    18033.100318  6.802548  16.229299  1990.619427        27.201014   \n",
       "        M    16969.044700  6.480204  16.005109  1989.911877        27.893793   \n",
       "14      F    17097.145275  6.510578  16.681241  1989.974612        32.973373   \n",
       "        M    17891.948598  6.660748  16.504673  1990.587850        32.961802   \n",
       "15      F    20602.449064  6.569647  16.162162  1992.523909        21.949891   \n",
       "        M    18104.019560  6.185819  17.413203  1990.770171        21.803109   \n",
       "16      F    19002.445946  6.360360  16.819820  1991.351351        23.144928   \n",
       "        M    18434.714286  6.201465  16.622711  1990.926740        23.480916   \n",
       "17      F    18234.322870  6.650224  15.892377  1990.785874        30.918536   \n",
       "        M    18857.651472  6.569801  16.183286  1991.331434        32.227634   \n",
       "18      F    17940.875497  6.698013  15.960265  1990.536424        26.690341   \n",
       "        M    15106.718850  6.610224  16.797125  1988.551118        27.703072   \n",
       "19      F    21848.216475  6.701149  15.226054  1993.417625        21.257937   \n",
       "        M    19470.779690  6.533563  16.647160  1991.740103        21.071685   \n",
       "20      F    17510.769231  6.743077  16.026154  1990.253846        27.069193   \n",
       "        M    16076.192496  6.489396  16.375204  1989.243067        27.908451   \n",
       "21      F    22452.636661  6.860884  16.307692  1993.878887        22.366554   \n",
       "        M    20120.399113  6.671840  16.203991  1992.199557        21.736721   \n",
       "22      F    18499.695976  6.651267  15.521610  1990.973174        34.108320   \n",
       "        M    18015.365527  6.381872  16.682021  1990.650817        33.359746   \n",
       "23      F    15863.193939  6.860606  16.036364  1989.024242        20.051948   \n",
       "        M    17091.338164  6.391304  16.077295  1989.961353        19.850000   \n",
       "24      F    13702.224280  6.596708  16.393004  1987.485597        26.993377   \n",
       "        M    15208.136082  6.360825  16.971134  1988.641237        25.786996   \n",
       "\n",
       "                weight  \n",
       "plot_id sex             \n",
       "1       F    46.311138  \n",
       "        M    55.950560  \n",
       "2       F    52.561845  \n",
       "        M    51.391382  \n",
       "3       F    31.215349  \n",
       "        M    34.163241  \n",
       "4       F    46.818824  \n",
       "        M    48.888119  \n",
       "5       F    40.974806  \n",
       "        M    40.708551  \n",
       "6       F    36.352288  \n",
       "        M    36.867388  \n",
       "7       F    20.006135  \n",
       "        M    21.194719  \n",
       "8       F    45.623011  \n",
       "        M    49.641372  \n",
       "9       F    53.618469  \n",
       "        M    49.519309  \n",
       "10      F    17.094203  \n",
       "        M    19.971223  \n",
       "11      F    43.515075  \n",
       "        M    43.366197  \n",
       "12      F    49.831731  \n",
       "        M    48.909710  \n",
       "13      F    40.524590  \n",
       "        M    40.097754  \n",
       "14      F    47.355491  \n",
       "        M    45.159378  \n",
       "15      F    26.670236  \n",
       "        M    27.523691  \n",
       "16      F    25.810427  \n",
       "        M    23.811321  \n",
       "17      F    48.176201  \n",
       "        M    47.558853  \n",
       "18      F    36.963514  \n",
       "        M    43.546952  \n",
       "19      F    21.978599  \n",
       "        M    20.306878  \n",
       "20      F    52.624406  \n",
       "        M    44.197279  \n",
       "21      F    25.974832  \n",
       "        M    22.772622  \n",
       "22      F    53.647059  \n",
       "        M    54.572531  \n",
       "23      F    20.564417  \n",
       "        M    18.941463  \n",
       "24      F    47.914405  \n",
       "        M    39.321503  "
      ]
     },
     "execution_count": 52,
     "metadata": {},
     "output_type": "execute_result"
    }
   ],
   "source": [
    "by_plot_sex.mean()"
   ]
  },
  {
   "cell_type": "code",
   "execution_count": 53,
   "metadata": {
    "collapsed": true
   },
   "outputs": [],
   "source": [
    "# Sum weigth\n",
    "plot_sex_sum_weight = by_plot_sex['weight'].sum()"
   ]
  },
  {
   "cell_type": "code",
   "execution_count": 54,
   "metadata": {
    "collapsed": false
   },
   "outputs": [
    {
     "ename": "NameError",
     "evalue": "name 'plot_sex_count_weight' is not defined",
     "output_type": "error",
     "traceback": [
      "\u001b[0;31m---------------------------------------------------------------------------\u001b[0m",
      "\u001b[0;31mNameError\u001b[0m                                 Traceback (most recent call last)",
      "\u001b[0;32m<ipython-input-54-5e2db1d4c1a2>\u001b[0m in \u001b[0;36m<module>\u001b[0;34m()\u001b[0m\n\u001b[0;32m----> 1\u001b[0;31m \u001b[0mplot_sex_count_weight\u001b[0m\u001b[0;34m.\u001b[0m\u001b[0msum\u001b[0m\u001b[0;34m(\u001b[0m\u001b[0;34m)\u001b[0m\u001b[0;34m\u001b[0m\u001b[0m\n\u001b[0m",
      "\u001b[0;31mNameError\u001b[0m: name 'plot_sex_count_weight' is not defined"
     ]
    }
   ],
   "source": [
    "plot_sex_count_weight.sum()"
   ]
  },
  {
   "cell_type": "markdown",
   "metadata": {},
   "source": [
    "We will use the ```unstack()``` method on our grouped data to figure out the total weight that each sex contributed to each plot."
   ]
  },
  {
   "cell_type": "code",
   "execution_count": 55,
   "metadata": {
    "collapsed": false
   },
   "outputs": [
    {
     "data": {
      "text/html": [
       "<div>\n",
       "<table border=\"1\" class=\"dataframe\">\n",
       "  <thead>\n",
       "    <tr style=\"text-align: right;\">\n",
       "      <th>sex</th>\n",
       "      <th>F</th>\n",
       "      <th>M</th>\n",
       "    </tr>\n",
       "    <tr>\n",
       "      <th>plot_id</th>\n",
       "      <th></th>\n",
       "      <th></th>\n",
       "    </tr>\n",
       "  </thead>\n",
       "  <tbody>\n",
       "    <tr>\n",
       "      <th>1</th>\n",
       "      <td>38253.0</td>\n",
       "      <td>59979.0</td>\n",
       "    </tr>\n",
       "    <tr>\n",
       "      <th>2</th>\n",
       "      <td>50144.0</td>\n",
       "      <td>57250.0</td>\n",
       "    </tr>\n",
       "    <tr>\n",
       "      <th>3</th>\n",
       "      <td>27251.0</td>\n",
       "      <td>28253.0</td>\n",
       "    </tr>\n",
       "    <tr>\n",
       "      <th>4</th>\n",
       "      <td>39796.0</td>\n",
       "      <td>49377.0</td>\n",
       "    </tr>\n",
       "    <tr>\n",
       "      <th>5</th>\n",
       "      <td>21143.0</td>\n",
       "      <td>23326.0</td>\n",
       "    </tr>\n",
       "    <tr>\n",
       "      <th>6</th>\n",
       "      <td>26210.0</td>\n",
       "      <td>27245.0</td>\n",
       "    </tr>\n",
       "    <tr>\n",
       "      <th>7</th>\n",
       "      <td>6522.0</td>\n",
       "      <td>6422.0</td>\n",
       "    </tr>\n",
       "    <tr>\n",
       "      <th>8</th>\n",
       "      <td>37274.0</td>\n",
       "      <td>47755.0</td>\n",
       "    </tr>\n",
       "    <tr>\n",
       "      <th>9</th>\n",
       "      <td>44128.0</td>\n",
       "      <td>48727.0</td>\n",
       "    </tr>\n",
       "    <tr>\n",
       "      <th>10</th>\n",
       "      <td>2359.0</td>\n",
       "      <td>2776.0</td>\n",
       "    </tr>\n",
       "    <tr>\n",
       "      <th>11</th>\n",
       "      <td>34638.0</td>\n",
       "      <td>43106.0</td>\n",
       "    </tr>\n",
       "    <tr>\n",
       "      <th>12</th>\n",
       "      <td>51825.0</td>\n",
       "      <td>57420.0</td>\n",
       "    </tr>\n",
       "    <tr>\n",
       "      <th>13</th>\n",
       "      <td>24720.0</td>\n",
       "      <td>30354.0</td>\n",
       "    </tr>\n",
       "    <tr>\n",
       "      <th>14</th>\n",
       "      <td>32770.0</td>\n",
       "      <td>46469.0</td>\n",
       "    </tr>\n",
       "    <tr>\n",
       "      <th>15</th>\n",
       "      <td>12455.0</td>\n",
       "      <td>11037.0</td>\n",
       "    </tr>\n",
       "    <tr>\n",
       "      <th>16</th>\n",
       "      <td>5446.0</td>\n",
       "      <td>6310.0</td>\n",
       "    </tr>\n",
       "    <tr>\n",
       "      <th>17</th>\n",
       "      <td>42106.0</td>\n",
       "      <td>48082.0</td>\n",
       "    </tr>\n",
       "    <tr>\n",
       "      <th>18</th>\n",
       "      <td>27353.0</td>\n",
       "      <td>26433.0</td>\n",
       "    </tr>\n",
       "    <tr>\n",
       "      <th>19</th>\n",
       "      <td>11297.0</td>\n",
       "      <td>11514.0</td>\n",
       "    </tr>\n",
       "    <tr>\n",
       "      <th>20</th>\n",
       "      <td>33206.0</td>\n",
       "      <td>25988.0</td>\n",
       "    </tr>\n",
       "    <tr>\n",
       "      <th>21</th>\n",
       "      <td>15481.0</td>\n",
       "      <td>9815.0</td>\n",
       "    </tr>\n",
       "    <tr>\n",
       "      <th>22</th>\n",
       "      <td>34656.0</td>\n",
       "      <td>35363.0</td>\n",
       "    </tr>\n",
       "    <tr>\n",
       "      <th>23</th>\n",
       "      <td>3352.0</td>\n",
       "      <td>3883.0</td>\n",
       "    </tr>\n",
       "    <tr>\n",
       "      <th>24</th>\n",
       "      <td>22951.0</td>\n",
       "      <td>18835.0</td>\n",
       "    </tr>\n",
       "  </tbody>\n",
       "</table>\n",
       "</div>"
      ],
      "text/plain": [
       "sex            F        M\n",
       "plot_id                  \n",
       "1        38253.0  59979.0\n",
       "2        50144.0  57250.0\n",
       "3        27251.0  28253.0\n",
       "4        39796.0  49377.0\n",
       "5        21143.0  23326.0\n",
       "6        26210.0  27245.0\n",
       "7         6522.0   6422.0\n",
       "8        37274.0  47755.0\n",
       "9        44128.0  48727.0\n",
       "10        2359.0   2776.0\n",
       "11       34638.0  43106.0\n",
       "12       51825.0  57420.0\n",
       "13       24720.0  30354.0\n",
       "14       32770.0  46469.0\n",
       "15       12455.0  11037.0\n",
       "16        5446.0   6310.0\n",
       "17       42106.0  48082.0\n",
       "18       27353.0  26433.0\n",
       "19       11297.0  11514.0\n",
       "20       33206.0  25988.0\n",
       "21       15481.0   9815.0\n",
       "22       34656.0  35363.0\n",
       "23        3352.0   3883.0\n",
       "24       22951.0  18835.0"
      ]
     },
     "execution_count": 55,
     "metadata": {},
     "output_type": "execute_result"
    }
   ],
   "source": [
    "plot_sex_sum_weight.unstack()"
   ]
  },
  {
   "cell_type": "markdown",
   "metadata": {},
   "source": [
    "Now let's plot a ed bar plot with the weights for each sex stacked by plot_id."
   ]
  },
  {
   "cell_type": "code",
   "execution_count": 56,
   "metadata": {
    "collapsed": true
   },
   "outputs": [],
   "source": [
    "# Asigning to a variabl our DF\n",
    "weight_sex_plot_id = plot_sex_sum_weight.unstack()"
   ]
  },
  {
   "cell_type": "code",
   "execution_count": 57,
   "metadata": {
    "collapsed": false
   },
   "outputs": [
    {
     "data": {
      "text/plain": [
       "<matplotlib.text.Text at 0x114fd7d10>"
      ]
     },
     "execution_count": 57,
     "metadata": {},
     "output_type": "execute_result"
    },
    {
     "data": {
      "image/png": "[encoded data removed]",
      "text/plain": [
       "<matplotlib.figure.Figure at 0x114f7aa50>"
      ]
     },
     "metadata": {},
     "output_type": "display_data"
    }
   ],
   "source": [
    "# ploting \n",
    "wsp = weight_sex_plot_id.plot(kind='bar',stacked=True,title=\"Total weight by plot and sex\")\n",
    "wsp.set_ylabel(\"Weight\")\n",
    "wsp.set_xlabel(\"Plot id\")"
   ]
  },
  {
   "cell_type": "markdown",
   "metadata": {},
   "source": [
    "Resources\n",
    "* [Pandas](http://pandas.pydata.org/pandas-docs/stable/index.html)\n",
    "* http://stackoverflow.com/"
   ]
  },
  {
   "cell_type": "code",
   "execution_count": null,
   "metadata": {
    "collapsed": true
   },
   "outputs": [],
   "source": []
  }
 ],
 "metadata": {
  "anaconda-cloud": {},
  "kernelspec": {
   "display_name": "Python [conda root]",
   "language": "python",
   "name": "conda-root-py"
  },
  "language_info": {
   "codemirror_mode": {
    "name": "ipython",
    "version": 2
   },
   "file_extension": ".py",
   "mimetype": "text/x-python",
   "name": "python",
   "nbconvert_exporter": "python",
   "pygments_lexer": "ipython2",
   "version": "2.7.12"
  }
 },
 "nbformat": 4,
 "nbformat_minor": 1
}
