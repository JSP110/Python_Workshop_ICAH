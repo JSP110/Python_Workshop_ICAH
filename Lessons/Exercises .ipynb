{
 "cells": [
  {
   "cell_type": "markdown",
   "metadata": {},
   "source": [
    "## Data Structures"
   ]
  },
  {
   "cell_type": "code",
   "execution_count": 101,
   "metadata": {
    "collapsed": false
   },
   "outputs": [
    {
     "data": {
      "text/plain": [
       "'y'"
      ]
     },
     "execution_count": 101,
     "metadata": {},
     "output_type": "execute_result"
    }
   ],
   "source": [
    "# Given the string 'Hello Python' give an index command that returns 'y'. Use the code below:\n",
    "s = 'Hello Python'\n",
    "# Code here\n",
    "s[7]"
   ]
  },
  {
   "cell_type": "code",
   "execution_count": 102,
   "metadata": {
    "collapsed": false
   },
   "outputs": [
    {
     "data": {
      "text/plain": [
       "'nohtyP olleH'"
      ]
     },
     "execution_count": 102,
     "metadata": {},
     "output_type": "execute_result"
    }
   ],
   "source": [
    "# Reverse the string using indexing\n",
    "s[::-1]"
   ]
  },
  {
   "cell_type": "code",
   "execution_count": 103,
   "metadata": {
    "collapsed": false
   },
   "outputs": [
    {
     "data": {
      "text/plain": [
       "'l'"
      ]
     },
     "execution_count": 103,
     "metadata": {},
     "output_type": "execute_result"
    }
   ],
   "source": [
    "# Give two methods of producing the letter 'l' using indexing.\n",
    "# Method 1\n",
    "s[2]"
   ]
  },
  {
   "cell_type": "code",
   "execution_count": 104,
   "metadata": {
    "collapsed": false
   },
   "outputs": [
    {
     "data": {
      "text/plain": [
       "'l'"
      ]
     },
     "execution_count": 104,
     "metadata": {},
     "output_type": "execute_result"
    }
   ],
   "source": [
    "s[-9]"
   ]
  },
  {
   "cell_type": "code",
   "execution_count": 14,
   "metadata": {
    "collapsed": false
   },
   "outputs": [
    {
     "data": {
      "text/plain": [
       "[0, 0, 0]"
      ]
     },
     "execution_count": 14,
     "metadata": {},
     "output_type": "execute_result"
    }
   ],
   "source": [
    "# Build this list [0,0,0] using two different methods\n",
    "# Method 1\n",
    "zero_list = [0] * 3\n",
    "zero_list"
   ]
  },
  {
   "cell_type": "code",
   "execution_count": 12,
   "metadata": {
    "collapsed": false
   },
   "outputs": [
    {
     "data": {
      "text/plain": [
       "[0, 0, 0]"
      ]
     },
     "execution_count": 12,
     "metadata": {},
     "output_type": "execute_result"
    }
   ],
   "source": [
    "# Method 2\n",
    "[0 for i in range(3)]"
   ]
  },
  {
   "cell_type": "code",
   "execution_count": 105,
   "metadata": {
    "collapsed": false
   },
   "outputs": [
    {
     "data": {
      "text/plain": [
       "[0, 1, 2]"
      ]
     },
     "execution_count": 105,
     "metadata": {},
     "output_type": "execute_result"
    }
   ],
   "source": [
    "range(3)"
   ]
  },
  {
   "cell_type": "code",
   "execution_count": 106,
   "metadata": {
    "collapsed": false
   },
   "outputs": [
    {
     "data": {
      "text/plain": [
       "['a', 'b', [3, 4, 'Java']]"
      ]
     },
     "execution_count": 106,
     "metadata": {},
     "output_type": "execute_result"
    }
   ],
   "source": [
    "# Reassign 'Python' in this nested list to say 'Java' item in this list.\n",
    "l = ['a', 'b',[3, 4,'Python']]\n",
    "l[2][2] = 'Java'\n",
    "l"
   ]
  },
  {
   "cell_type": "code",
   "execution_count": 107,
   "metadata": {
    "collapsed": false
   },
   "outputs": [
    {
     "data": {
      "text/plain": [
       "['Python']"
      ]
     },
     "execution_count": 107,
     "metadata": {},
     "output_type": "execute_result"
    }
   ],
   "source": [
    "# Using keys and indexing, grab the 'Python' from the following dictionary\n",
    "d = {'First_key':[{'Nest_key':['Deep_key',['Python']]}]}\n",
    "d['First_key'][0]['Nest_key'][1]"
   ]
  },
  {
   "cell_type": "markdown",
   "metadata": {},
   "source": [
    "Q: Can you sort a dictionary? Why or why not?\n",
    "\n",
    "R: You can't sort a dictionary because it is not an iterable or sequence, it is mapping."
   ]
  },
  {
   "cell_type": "markdown",
   "metadata": {},
   "source": [
    "Q: What is the major difference between tuples and lists?\n",
    "\n",
    "R: Tupples are inmutable, you can not change their elements. In a list you can change their elements."
   ]
  },
  {
   "cell_type": "code",
   "execution_count": 108,
   "metadata": {
    "collapsed": false
   },
   "outputs": [
    {
     "data": {
      "text/plain": [
       "(1, 2, 3)"
      ]
     },
     "execution_count": 108,
     "metadata": {},
     "output_type": "execute_result"
    }
   ],
   "source": [
    "# How do you create a tuple?\n",
    "example_tuple = tuple([1, 2, 3])\n",
    "example_tuple"
   ]
  },
  {
   "cell_type": "code",
   "execution_count": 29,
   "metadata": {
    "collapsed": false
   },
   "outputs": [
    {
     "data": {
      "text/plain": [
       "True"
      ]
     },
     "execution_count": 29,
     "metadata": {},
     "output_type": "execute_result"
    }
   ],
   "source": [
    "# Final Question: What is the boolean output of the cell block below? \n",
    "# two nested lists\n",
    "list_one = [5, 6,[7, 4]]\n",
    "list_two = [1,2,{'key':4}]\n",
    "\n",
    "#True or False?\n",
    "list_one[2][0] >= list_two[2]['key']"
   ]
  },
  {
   "cell_type": "markdown",
   "metadata": {},
   "source": [
    "## Python Statements "
   ]
  },
  {
   "cell_type": "code",
   "execution_count": 35,
   "metadata": {
    "collapsed": false
   },
   "outputs": [
    {
     "name": "stdout",
     "output_type": "stream",
     "text": [
      "start\n",
      "s\n",
      "sentence\n"
     ]
    }
   ],
   "source": [
    "# Use for, split(), and if to create a Statement that will print out words that start with 's'\n",
    "st = 'Print only the words that start with s in this sentence'\n",
    "for item in st.split():\n",
    "    if item.startswith('s'):\n",
    "        print item"
   ]
  },
  {
   "cell_type": "code",
   "execution_count": 37,
   "metadata": {
    "collapsed": false
   },
   "outputs": [
    {
     "name": "stdout",
     "output_type": "stream",
     "text": [
      "0\n",
      "2\n",
      "4\n",
      "6\n",
      "8\n"
     ]
    }
   ],
   "source": [
    "# Use range() to print all the even numbers from 0 to 10.\n",
    "for item in range(0, 10, 2):\n",
    "    print item"
   ]
  },
  {
   "cell_type": "code",
   "execution_count": 64,
   "metadata": {
    "collapsed": false
   },
   "outputs": [
    {
     "data": {
      "text/plain": [
       "[3, 6, 9, 12, 15, 18, 21, 24, 27, 30, 33, 36, 39, 42, 45, 48]"
      ]
     },
     "execution_count": 64,
     "metadata": {},
     "output_type": "execute_result"
    }
   ],
   "source": [
    "# Use List comprehension to create a list of all numbers between 1 and 50 that are divisible by 3.\n",
    "[ x for x in range(1, 50) if not x % 3 ]"
   ]
  },
  {
   "cell_type": "code",
   "execution_count": 63,
   "metadata": {
    "collapsed": false
   },
   "outputs": [
    {
     "data": {
      "text/plain": [
       "[3, 6, 9, 12, 15, 18, 21, 24, 27, 30, 33, 36, 39, 42, 45, 48]"
      ]
     },
     "execution_count": 63,
     "metadata": {},
     "output_type": "execute_result"
    }
   ],
   "source": [
    "[ x for x in range(1, 50) if x % 3 == 0 ]"
   ]
  },
  {
   "cell_type": "code",
   "execution_count": 61,
   "metadata": {
    "collapsed": false
   },
   "outputs": [
    {
     "name": "stdout",
     "output_type": "stream",
     "text": [
      "Print is odd\n",
      "every is odd\n",
      "word is even!\n",
      "in is even!\n",
      "this is even!\n",
      "sentence is even!\n",
      "that is even!\n",
      "has is odd\n",
      "an is even!\n",
      "even is even!\n",
      "number is even!\n",
      "of is even!\n",
      "letters is odd\n"
     ]
    }
   ],
   "source": [
    "# Go through the string below and if the length of a word is even print \"even!\"\n",
    "st = 'Print every word in this sentence that has an even number of letters'\n",
    "for word in st.split():\n",
    "    if len(word) % 2 == 0:\n",
    "        print word + \" is even!\"\n",
    "    else:\n",
    "        print word + \" is odd\""
   ]
  },
  {
   "cell_type": "markdown",
   "metadata": {},
   "source": [
    "## Functions\n",
    "\n",
    "Write a Python function to multiply all the numbers in a list.\n",
    "* Sample List : [1, 2, 3, -4]\n",
    "* Expected Output : -24"
   ]
  },
  {
   "cell_type": "code",
   "execution_count": 65,
   "metadata": {
    "collapsed": true
   },
   "outputs": [],
   "source": [
    "def multiply(numbers):  \n",
    "    total = 1\n",
    "    for x in numbers:\n",
    "        total *= x  \n",
    "    return total  "
   ]
  },
  {
   "cell_type": "code",
   "execution_count": 66,
   "metadata": {
    "collapsed": false
   },
   "outputs": [
    {
     "data": {
      "text/plain": [
       "-24"
      ]
     },
     "execution_count": 66,
     "metadata": {},
     "output_type": "execute_result"
    }
   ],
   "source": [
    "multiply([1,2,3,-4])"
   ]
  },
  {
   "cell_type": "markdown",
   "metadata": {},
   "source": [
    "Write a Python function that takes a list and returns a new list with unique elements of the first list.\n",
    "* Sample List : [1,1,1,1,2,2,3,3,3,3,4,5]\n",
    "* Unique List : [1, 2, 3, 4, 5]"
   ]
  },
  {
   "cell_type": "code",
   "execution_count": 67,
   "metadata": {
    "collapsed": true
   },
   "outputs": [],
   "source": [
    "def unique_list(l):\n",
    "    x = []\n",
    "    for a in l:\n",
    "        if a not in x:\n",
    "            x.append(a)\n",
    "    return x"
   ]
  },
  {
   "cell_type": "code",
   "execution_count": 68,
   "metadata": {
    "collapsed": false
   },
   "outputs": [
    {
     "data": {
      "text/plain": [
       "[1, 2, 3, 4, 5]"
      ]
     },
     "execution_count": 68,
     "metadata": {},
     "output_type": "execute_result"
    }
   ],
   "source": [
    "unique_list([1,1,1,1,2,2,3,3,3,3,4,5])"
   ]
  },
  {
   "cell_type": "markdown",
   "metadata": {},
   "source": [
    "Write a Python function that accepts a string and calculate the number of upper case letters and lower case letters.\n",
    "* Sample String : 'Hello Mr. Rogers, how are you this fine Tuesday?'\n",
    "* Expected Output : \n",
    "  * No. of Upper case characters : 4\n",
    "  * No. of Lower case Characters : 33"
   ]
  },
  {
   "cell_type": "code",
   "execution_count": 69,
   "metadata": {
    "collapsed": true
   },
   "outputs": [],
   "source": [
    "def up_low(s):\n",
    "    d={\"upper\":0, \"lower\":0}\n",
    "    for c in s:\n",
    "        if c.isupper():\n",
    "            d[\"upper\"]+=1\n",
    "        elif c.islower():\n",
    "            d[\"lower\"]+=1\n",
    "        else:\n",
    "            pass\n",
    "    print \"Original String : \", s\n",
    "    print \"No. of Upper case characters : \", d[\"upper\"]\n",
    "    print \"No. of Lower case Characters : \", d[\"lower\"]"
   ]
  },
  {
   "cell_type": "code",
   "execution_count": 70,
   "metadata": {
    "collapsed": false
   },
   "outputs": [
    {
     "name": "stdout",
     "output_type": "stream",
     "text": [
      "Original String :  Hello Mr. Rogers, how are you this fine Tuesday?\n",
      "No. of Upper case characters :  4\n",
      "No. of Lower case Characters :  33\n"
     ]
    }
   ],
   "source": [
    "s = 'Hello Mr. Rogers, how are you this fine Tuesday?'\n",
    "up_low(s)"
   ]
  },
  {
   "cell_type": "markdown",
   "metadata": {},
   "source": [
    "## Numpy\n",
    "\n",
    "1. Create a 3x3 identity matrix \n",
    "2. Create a 4x4x4 array with random values\n",
    "3. Find A*B of the two matrices\n",
    "4. Multiply a 5x3 matrix by a 3x2 matrix (real matrix product)"
   ]
  },
  {
   "cell_type": "code",
   "execution_count": 72,
   "metadata": {
    "collapsed": false
   },
   "outputs": [
    {
     "data": {
      "text/plain": [
       "(array([[ 1.,  0.,  0.],\n",
       "        [ 0.,  1.,  0.],\n",
       "        [ 0.,  0.,  1.]]), (3, 3))"
      ]
     },
     "execution_count": 72,
     "metadata": {},
     "output_type": "execute_result"
    }
   ],
   "source": [
    "# 1\n",
    "import numpy as np\n",
    "I = np.identity(3)\n",
    "I , I.shape"
   ]
  },
  {
   "cell_type": "code",
   "execution_count": 73,
   "metadata": {
    "collapsed": false
   },
   "outputs": [
    {
     "data": {
      "text/plain": [
       "(array([[[[ 0.22196312,  0.65776685,  0.6521291 ,  0.9072798 ],\n",
       "          [ 0.91147486,  0.58376615,  0.80567461,  0.08764928],\n",
       "          [ 0.41574899,  0.56234302,  0.06203241,  0.53036254],\n",
       "          [ 0.51329504,  0.22087541,  0.82650387,  0.97009833]],\n",
       " \n",
       "         [[ 0.14336296,  0.15819425,  0.99153733,  0.27862075],\n",
       "          [ 0.53731063,  0.25991467,  0.12359439,  0.9682852 ],\n",
       "          [ 0.16067752,  0.42641312,  0.37101127,  0.1752464 ],\n",
       "          [ 0.52327966,  0.31873373,  0.16490054,  0.62032392]],\n",
       " \n",
       "         [[ 0.74522987,  0.33092033,  0.51375711,  0.96103729],\n",
       "          [ 0.88065778,  0.06199209,  0.03117194,  0.13378162],\n",
       "          [ 0.44021835,  0.33808157,  0.08101711,  0.1134016 ],\n",
       "          [ 0.37454946,  0.39571979,  0.29770061,  0.44132951]],\n",
       " \n",
       "         [[ 0.60519975,  0.02627404,  0.84655131,  0.63652222],\n",
       "          [ 0.0160491 ,  0.07727144,  0.57471266,  0.26183921],\n",
       "          [ 0.1641963 ,  0.28380577,  0.43025163,  0.95501262],\n",
       "          [ 0.11493239,  0.81665358,  0.95387571,  0.29035977]]],\n",
       " \n",
       " \n",
       "        [[[ 0.76031271,  0.96191831,  0.9507535 ,  0.22336457],\n",
       "          [ 0.58796689,  0.19205427,  0.155437  ,  0.5815927 ],\n",
       "          [ 0.1049716 ,  0.18688293,  0.84055404,  0.36142808],\n",
       "          [ 0.59516913,  0.76580514,  0.27067951,  0.91295822]],\n",
       " \n",
       "         [[ 0.11962779,  0.95785039,  0.35262078,  0.30925071],\n",
       "          [ 0.07706769,  0.32293829,  0.99149009,  0.2565149 ],\n",
       "          [ 0.99026237,  0.21825495,  0.95752959,  0.75216161],\n",
       "          [ 0.07926808,  0.34027388,  0.87148188,  0.56306136]],\n",
       " \n",
       "         [[ 0.91049294,  0.29801556,  0.91906681,  0.4531645 ],\n",
       "          [ 0.24027225,  0.3403357 ,  0.13615066,  0.03945096],\n",
       "          [ 0.15959563,  0.18401581,  0.19879378,  0.44425502],\n",
       "          [ 0.90022579,  0.59705423,  0.56861772,  0.53178085]],\n",
       " \n",
       "         [[ 0.50145168,  0.94971813,  0.27295593,  0.19480655],\n",
       "          [ 0.15828881,  0.11681428,  0.82935031,  0.94873017],\n",
       "          [ 0.17148505,  0.2463359 ,  0.69069946,  0.31057629],\n",
       "          [ 0.8201646 ,  0.6259863 ,  0.53491047,  0.42818067]]],\n",
       " \n",
       " \n",
       "        [[[ 0.36013266,  0.41987045,  0.90928923,  0.54314304],\n",
       "          [ 0.54722354,  0.79821233,  0.32006854,  0.48507935],\n",
       "          [ 0.80784394,  0.72792594,  0.69709357,  0.36265645],\n",
       "          [ 0.76982497,  0.52441661,  0.84378416,  0.96369352]],\n",
       " \n",
       "         [[ 0.25858958,  0.45667778,  0.024225  ,  0.28296418],\n",
       "          [ 0.35890884,  0.77683365,  0.85676033,  0.75446058],\n",
       "          [ 0.09195315,  0.40988497,  0.53592074,  0.9284334 ],\n",
       "          [ 0.60506016,  0.70977913,  0.443632  ,  0.45426428]],\n",
       " \n",
       "         [[ 0.63638043,  0.96302208,  0.88848245,  0.77349544],\n",
       "          [ 0.11312012,  0.80477438,  0.41411996,  0.83093254],\n",
       "          [ 0.36774081,  0.79526962,  0.42881813,  0.25413941],\n",
       "          [ 0.73694595,  0.53690364,  0.72624599,  0.33379606]],\n",
       " \n",
       "         [[ 0.27216354,  0.75731151,  0.41073803,  0.7868343 ],\n",
       "          [ 0.11778065,  0.86365196,  0.52141034,  0.95866915],\n",
       "          [ 0.76343952,  0.90430595,  0.02204471,  0.94139888],\n",
       "          [ 0.15820493,  0.09279835,  0.40567797,  0.17759467]]],\n",
       " \n",
       " \n",
       "        [[[ 0.33811651,  0.41665   ,  0.74729575,  0.90278751],\n",
       "          [ 0.4680733 ,  0.14691353,  0.05731231,  0.3763081 ],\n",
       "          [ 0.35609005,  0.93172369,  0.41682212,  0.95806053],\n",
       "          [ 0.82339044,  0.57926317,  0.67077833,  0.32846286]],\n",
       " \n",
       "         [[ 0.63323379,  0.58110167,  0.53096744,  0.77445881],\n",
       "          [ 0.20887036,  0.61557483,  0.71025969,  0.62365882],\n",
       "          [ 0.59056689,  0.79002204,  0.6108828 ,  0.95302424],\n",
       "          [ 0.07539671,  0.66842658,  0.33275074,  0.29187804]],\n",
       " \n",
       "         [[ 0.24695574,  0.22175611,  0.75588306,  0.42343983],\n",
       "          [ 0.44495872,  0.04315281,  0.0381803 ,  0.74686379],\n",
       "          [ 0.76347305,  0.52176664,  0.51723206,  0.68468663],\n",
       "          [ 0.94719979,  0.18626443,  0.75317486,  0.33600642]],\n",
       " \n",
       "         [[ 0.53825269,  0.12960992,  0.40944356,  0.28362099],\n",
       "          [ 0.009553  ,  0.00164721,  0.69400184,  0.14166865],\n",
       "          [ 0.23873035,  0.92947357,  0.21031959,  0.54178062],\n",
       "          [ 0.96889177,  0.82996967,  0.31629386,  0.13024462]]]]),\n",
       " (4, 4, 4, 4))"
      ]
     },
     "execution_count": 73,
     "metadata": {},
     "output_type": "execute_result"
    }
   ],
   "source": [
    "# 2\n",
    "R = np.random.rand(4,4,4,4)\n",
    "R , R.shape"
   ]
  },
  {
   "cell_type": "code",
   "execution_count": 74,
   "metadata": {
    "collapsed": false
   },
   "outputs": [
    {
     "ename": "ValueError",
     "evalue": "shapes (3,3) and (4,4,4,4) not aligned: 3 (dim 1) != 4 (dim 2)",
     "output_type": "error",
     "traceback": [
      "\u001b[0;31m---------------------------------------------------------------------------\u001b[0m",
      "\u001b[0;31mValueError\u001b[0m                                Traceback (most recent call last)",
      "\u001b[0;32m<ipython-input-74-80db6fe19b61>\u001b[0m in \u001b[0;36m<module>\u001b[0;34m()\u001b[0m\n\u001b[0;32m----> 1\u001b[0;31m \u001b[0mprod\u001b[0m \u001b[0;34m=\u001b[0m \u001b[0mnp\u001b[0m\u001b[0;34m.\u001b[0m\u001b[0mdot\u001b[0m\u001b[0;34m(\u001b[0m\u001b[0mI\u001b[0m\u001b[0;34m,\u001b[0m\u001b[0mR\u001b[0m\u001b[0;34m)\u001b[0m\u001b[0;34m\u001b[0m\u001b[0m\n\u001b[0m",
      "\u001b[0;31mValueError\u001b[0m: shapes (3,3) and (4,4,4,4) not aligned: 3 (dim 1) != 4 (dim 2)"
     ]
    }
   ],
   "source": [
    "prod = np.dot(I, R)"
   ]
  },
  {
   "cell_type": "code",
   "execution_count": 76,
   "metadata": {
    "collapsed": false
   },
   "outputs": [
    {
     "data": {
      "text/plain": [
       "array([ 4.5,  5.4,  6.4])"
      ]
     },
     "execution_count": 76,
     "metadata": {},
     "output_type": "execute_result"
    }
   ],
   "source": [
    "# \n",
    "F = np.array([4.5, 5.4, 6.4])\n",
    "G = np.array()"
   ]
  },
  {
   "cell_type": "code",
   "execution_count": 82,
   "metadata": {
    "collapsed": false
   },
   "outputs": [
    {
     "data": {
      "text/plain": [
       "array([[  0. ,   1.2,   2.4],\n",
       "       [  3.6,   4.8,   6. ],\n",
       "       [  7.2,   8.4,   9.6],\n",
       "       [ 10.8,  12. ,  13.2],\n",
       "       [ 14.4,  15.6,  16.8]])"
      ]
     },
     "execution_count": 82,
     "metadata": {},
     "output_type": "execute_result"
    }
   ],
   "source": [
    "A = np.arange(15).reshape(5, 3)\n",
    "A = A * 1.2 \n",
    "A"
   ]
  },
  {
   "cell_type": "code",
   "execution_count": 83,
   "metadata": {
    "collapsed": false
   },
   "outputs": [
    {
     "data": {
      "text/plain": [
       "array([[  0. ,   2.8],\n",
       "       [  5.6,   8.4],\n",
       "       [ 11.2,  14. ]])"
      ]
     },
     "execution_count": 83,
     "metadata": {},
     "output_type": "execute_result"
    }
   ],
   "source": [
    "B = np.arange(6).reshape(3, 2)\n",
    "B = B * 2.8\n",
    "B"
   ]
  },
  {
   "cell_type": "code",
   "execution_count": 85,
   "metadata": {
    "collapsed": true
   },
   "outputs": [],
   "source": [
    "prod_A_B = np.dot(A, B)"
   ]
  },
  {
   "cell_type": "code",
   "execution_count": 86,
   "metadata": {
    "collapsed": false
   },
   "outputs": [
    {
     "data": {
      "text/plain": [
       "array([[  33.6 ,   43.68],\n",
       "       [  94.08,  134.4 ],\n",
       "       [ 154.56,  225.12],\n",
       "       [ 215.04,  315.84],\n",
       "       [ 275.52,  406.56]])"
      ]
     },
     "execution_count": 86,
     "metadata": {},
     "output_type": "execute_result"
    }
   ],
   "source": [
    "prod_A_B"
   ]
  },
  {
   "cell_type": "code",
   "execution_count": 119,
   "metadata": {
    "collapsed": false
   },
   "outputs": [
    {
     "name": "stderr",
     "output_type": "stream",
     "text": [
      "/Users/starignus/anaconda/lib/python2.7/site-packages/matplotlib/font_manager.py:273: UserWarning: Matplotlib is building the font cache using fc-list. This may take a moment.\n",
      "  warnings.warn('Matplotlib is building the font cache using fc-list. This may take a moment.')\n"
     ]
    }
   ],
   "source": [
    "# import numpy\n",
    "import numpy as np\n",
    "# Import pandas\n",
    "import pandas as pd\n",
    "import matplotlib.pyplot as plt\n",
    "# Make figures appear in-line within the notebook\n",
    "%matplotlib inline"
   ]
  },
  {
   "cell_type": "code",
   "execution_count": 120,
   "metadata": {
    "collapsed": true
   },
   "outputs": [],
   "source": [
    "df_survey = pd.read_csv(\"surveys.csv\")"
   ]
  },
  {
   "cell_type": "code",
   "execution_count": 121,
   "metadata": {
    "collapsed": true
   },
   "outputs": [],
   "source": [
    "plot_names = df_survey[\"plot_id\"]"
   ]
  },
  {
   "cell_type": "code",
   "execution_count": 126,
   "metadata": {
    "collapsed": false
   },
   "outputs": [
    {
     "data": {
      "text/plain": [
       "array([ 2,  3,  7,  1,  6,  5,  8,  4, 11, 14, 15, 13,  9, 10, 17, 16, 20,\n",
       "       23, 18, 21, 22, 19, 12, 24])"
      ]
     },
     "execution_count": 126,
     "metadata": {},
     "output_type": "execute_result"
    }
   ],
   "source": [
    "plot_names.unique()"
   ]
  },
  {
   "cell_type": "code",
   "execution_count": 123,
   "metadata": {
    "collapsed": true
   },
   "outputs": [],
   "source": [
    "plot_specie = df_survey[\"species_id\"]"
   ]
  },
  {
   "cell_type": "code",
   "execution_count": 125,
   "metadata": {
    "collapsed": false
   },
   "outputs": [
    {
     "data": {
      "text/plain": [
       "array(['NL', 'DM', 'PF', 'PE', 'DS', 'PP', 'SH', 'OT', 'DO', 'OX', 'SS',\n",
       "       'OL', 'RM', nan, 'SA', 'PM', 'AH', 'DX', 'AB', 'CB', 'CM', 'CQ',\n",
       "       'RF', 'PC', 'PG', 'PH', 'PU', 'CV', 'UR', 'UP', 'ZL', 'UL', 'CS',\n",
       "       'SC', 'BA', 'SF', 'RO', 'AS', 'SO', 'PI', 'ST', 'CU', 'SU', 'RX',\n",
       "       'PB', 'PL', 'PX', 'CT', 'US'], dtype=object)"
      ]
     },
     "execution_count": 125,
     "metadata": {},
     "output_type": "execute_result"
    }
   ],
   "source": [
    "plot_specie.unique()"
   ]
  },
  {
   "cell_type": "code",
   "execution_count": null,
   "metadata": {
    "collapsed": true
   },
   "outputs": [],
   "source": []
  }
 ],
 "metadata": {
  "anaconda-cloud": {},
  "kernelspec": {
   "display_name": "Python [conda root]",
   "language": "python",
   "name": "conda-root-py"
  },
  "language_info": {
   "codemirror_mode": {
    "name": "ipython",
    "version": 2
   },
   "file_extension": ".py",
   "mimetype": "text/x-python",
   "name": "python",
   "nbconvert_exporter": "python",
   "pygments_lexer": "ipython2",
   "version": "2.7.12"
  }
 },
 "nbformat": 4,
 "nbformat_minor": 1
}
