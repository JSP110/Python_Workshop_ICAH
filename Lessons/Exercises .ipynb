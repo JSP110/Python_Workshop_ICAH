{
 "cells": [
  {
   "cell_type": "markdown",
   "metadata": {},
   "source": [
    "## Data Structures"
   ]
  },
  {
   "cell_type": "code",
   "execution_count": 1,
   "metadata": {
    "collapsed": false,
    "jupyter": {
     "outputs_hidden": false
    }
   },
   "outputs": [
    {
     "data": {
      "text/plain": [
       "'y'"
      ]
     },
     "execution_count": 1,
     "metadata": {},
     "output_type": "execute_result"
    }
   ],
   "source": [
    "# Given the string 'Hello Python' give an index command that returns 'y'. Use the code below:\n",
    "s = 'Hello Python'\n",
    "# Code here\n",
    "s[7]"
   ]
  },
  {
   "cell_type": "code",
   "execution_count": 2,
   "metadata": {
    "collapsed": false,
    "jupyter": {
     "outputs_hidden": false
    }
   },
   "outputs": [
    {
     "data": {
      "text/plain": [
       "'nohtyP olleH'"
      ]
     },
     "execution_count": 2,
     "metadata": {},
     "output_type": "execute_result"
    }
   ],
   "source": [
    "# Reverse the string using indexing\n",
    "s[::-1]"
   ]
  },
  {
   "cell_type": "code",
   "execution_count": 3,
   "metadata": {
    "collapsed": false,
    "jupyter": {
     "outputs_hidden": false
    }
   },
   "outputs": [
    {
     "data": {
      "text/plain": [
       "'l'"
      ]
     },
     "execution_count": 3,
     "metadata": {},
     "output_type": "execute_result"
    }
   ],
   "source": [
    "# Give two methods of producing the letter 'l' using indexing.\n",
    "# Method 1\n",
    "s[2]"
   ]
  },
  {
   "cell_type": "code",
   "execution_count": 4,
   "metadata": {
    "collapsed": false,
    "jupyter": {
     "outputs_hidden": false
    }
   },
   "outputs": [
    {
     "data": {
      "text/plain": [
       "'l'"
      ]
     },
     "execution_count": 4,
     "metadata": {},
     "output_type": "execute_result"
    }
   ],
   "source": [
    "s[-9]"
   ]
  },
  {
   "cell_type": "code",
   "execution_count": 5,
   "metadata": {
    "collapsed": false,
    "jupyter": {
     "outputs_hidden": false
    }
   },
   "outputs": [
    {
     "data": {
      "text/plain": [
       "[0, 0, 0]"
      ]
     },
     "execution_count": 5,
     "metadata": {},
     "output_type": "execute_result"
    }
   ],
   "source": [
    "# Build this list [0,0,0] using two different methods\n",
    "# Method 1\n",
    "zero_list = [0] * 3\n",
    "zero_list"
   ]
  },
  {
   "cell_type": "code",
   "execution_count": 6,
   "metadata": {
    "collapsed": false,
    "jupyter": {
     "outputs_hidden": false
    }
   },
   "outputs": [
    {
     "data": {
      "text/plain": [
       "[0, 0, 0]"
      ]
     },
     "execution_count": 6,
     "metadata": {},
     "output_type": "execute_result"
    }
   ],
   "source": [
    "# Method 2\n",
    "[0 for i in range(3)]"
   ]
  },
  {
   "cell_type": "code",
   "execution_count": 7,
   "metadata": {
    "collapsed": false,
    "jupyter": {
     "outputs_hidden": false
    }
   },
   "outputs": [
    {
     "data": {
      "text/plain": [
       "range(0, 3)"
      ]
     },
     "execution_count": 7,
     "metadata": {},
     "output_type": "execute_result"
    }
   ],
   "source": [
    "range(3)"
   ]
  },
  {
   "cell_type": "code",
   "execution_count": 8,
   "metadata": {
    "collapsed": false,
    "jupyter": {
     "outputs_hidden": false
    }
   },
   "outputs": [
    {
     "data": {
      "text/plain": [
       "['a', 'b', [3, 4, 'Java']]"
      ]
     },
     "execution_count": 8,
     "metadata": {},
     "output_type": "execute_result"
    }
   ],
   "source": [
    "# Reassign 'Python' in this nested list to say 'Java' item in this list.\n",
    "l = ['a', 'b',[3, 4,'Python']]\n",
    "l[2][2] = 'Java'\n",
    "l"
   ]
  },
  {
   "cell_type": "code",
   "execution_count": 9,
   "metadata": {
    "collapsed": false,
    "jupyter": {
     "outputs_hidden": false
    }
   },
   "outputs": [
    {
     "data": {
      "text/plain": [
       "['Python']"
      ]
     },
     "execution_count": 9,
     "metadata": {},
     "output_type": "execute_result"
    }
   ],
   "source": [
    "# Using keys and indexing, grab the 'Python' from the following dictionary\n",
    "d = {'First_key':[{'Nest_key':['Deep_key',['Python']]}]}\n",
    "d['First_key'][0]['Nest_key'][1]"
   ]
  },
  {
   "cell_type": "markdown",
   "metadata": {},
   "source": [
    "Q: Can you sort a dictionary? Why or why not?\n",
    "\n",
    "R: You can't sort a dictionary because it is not an iterable or sequence, it is mapping."
   ]
  },
  {
   "cell_type": "markdown",
   "metadata": {},
   "source": [
    "Q: What is the major difference between tuples and lists?\n",
    "\n",
    "R: Tupples are inmutable, you can not change their elements. In a list you can change their elements."
   ]
  },
  {
   "cell_type": "code",
   "execution_count": 10,
   "metadata": {
    "collapsed": false,
    "jupyter": {
     "outputs_hidden": false
    }
   },
   "outputs": [
    {
     "data": {
      "text/plain": [
       "(1, 2, 3)"
      ]
     },
     "execution_count": 10,
     "metadata": {},
     "output_type": "execute_result"
    }
   ],
   "source": [
    "# How do you create a tuple?\n",
    "example_tuple = tuple([1, 2, 3])\n",
    "example_tuple"
   ]
  },
  {
   "cell_type": "code",
   "execution_count": 11,
   "metadata": {
    "collapsed": false,
    "jupyter": {
     "outputs_hidden": false
    }
   },
   "outputs": [
    {
     "data": {
      "text/plain": [
       "True"
      ]
     },
     "execution_count": 11,
     "metadata": {},
     "output_type": "execute_result"
    }
   ],
   "source": [
    "# Final Question: What is the boolean output of the cell block below? \n",
    "# two nested lists\n",
    "list_one = [5, 6,[7, 4]]\n",
    "list_two = [1,2,{'key':4}]\n",
    "\n",
    "#True or False?\n",
    "list_one[2][0] >= list_two[2]['key']"
   ]
  },
  {
   "cell_type": "markdown",
   "metadata": {},
   "source": [
    "## Python Statements "
   ]
  },
  {
   "cell_type": "code",
   "execution_count": 13,
   "metadata": {
    "collapsed": false,
    "jupyter": {
     "outputs_hidden": false
    }
   },
   "outputs": [
    {
     "name": "stdout",
     "output_type": "stream",
     "text": [
      "start\n",
      "s\n",
      "sentence\n"
     ]
    }
   ],
   "source": [
    "# Use for, split(), and if to create a Statement that will print out words that start with 's'\n",
    "st = 'Print only the words that start with s in this sentence'\n",
    "for item in st.split():\n",
    "    if item.startswith('s'):\n",
    "        print (item)"
   ]
  },
  {
   "cell_type": "code",
   "execution_count": 14,
   "metadata": {
    "collapsed": false,
    "jupyter": {
     "outputs_hidden": false
    }
   },
   "outputs": [
    {
     "name": "stdout",
     "output_type": "stream",
     "text": [
      "0\n",
      "2\n",
      "4\n",
      "6\n",
      "8\n"
     ]
    }
   ],
   "source": [
    "# Use range() to print all the even numbers from 0 to 10.\n",
    "for item in range(0, 10, 2):\n",
    "    print (item)"
   ]
  },
  {
   "cell_type": "code",
   "execution_count": 15,
   "metadata": {
    "collapsed": false,
    "jupyter": {
     "outputs_hidden": false
    }
   },
   "outputs": [
    {
     "data": {
      "text/plain": [
       "[3, 6, 9, 12, 15, 18, 21, 24, 27, 30, 33, 36, 39, 42, 45, 48]"
      ]
     },
     "execution_count": 15,
     "metadata": {},
     "output_type": "execute_result"
    }
   ],
   "source": [
    "# Use List comprehension to create a list of all numbers between 1 and 50 that are divisible by 3.\n",
    "[ x for x in range(1, 50) if not x % 3 ]"
   ]
  },
  {
   "cell_type": "code",
   "execution_count": 16,
   "metadata": {
    "collapsed": false,
    "jupyter": {
     "outputs_hidden": false
    }
   },
   "outputs": [
    {
     "data": {
      "text/plain": [
       "[3, 6, 9, 12, 15, 18, 21, 24, 27, 30, 33, 36, 39, 42, 45, 48]"
      ]
     },
     "execution_count": 16,
     "metadata": {},
     "output_type": "execute_result"
    }
   ],
   "source": [
    "[ x for x in range(1, 50) if x % 3 == 0 ]"
   ]
  },
  {
   "cell_type": "code",
   "execution_count": 19,
   "metadata": {
    "collapsed": false,
    "jupyter": {
     "outputs_hidden": false
    }
   },
   "outputs": [
    {
     "name": "stdout",
     "output_type": "stream",
     "text": [
      "Print is odd\n",
      "every is odd\n",
      "word is even!\n",
      "in is even!\n",
      "this is even!\n",
      "sentence is even!\n",
      "that is even!\n",
      "has is odd\n",
      "an is even!\n",
      "even is even!\n",
      "number is even!\n",
      "of is even!\n",
      "letters is odd\n"
     ]
    }
   ],
   "source": [
    "# Go through the string below and if the length of a word is even print \"even!\"\n",
    "st = 'Print every word in this sentence that has an even number of letters'\n",
    "for word in st.split():\n",
    "    if len(word) % 2 == 0:\n",
    "        print (word + \" is even!\")\n",
    "    else:\n",
    "        print (word + \" is odd\")"
   ]
  },
  {
   "cell_type": "markdown",
   "metadata": {},
   "source": [
    "## Functions\n",
    "\n",
    "Write a Python function to multiply all the numbers in a list.\n",
    "* Sample List : [1, 2, 3, -4]\n",
    "* Expected Output : -24"
   ]
  },
  {
   "cell_type": "code",
   "execution_count": 20,
   "metadata": {},
   "outputs": [],
   "source": [
    "def multiply(numbers):  \n",
    "    total = 1\n",
    "    for x in numbers:\n",
    "        total *= x  \n",
    "    return total  "
   ]
  },
  {
   "cell_type": "code",
   "execution_count": 21,
   "metadata": {
    "collapsed": false,
    "jupyter": {
     "outputs_hidden": false
    }
   },
   "outputs": [
    {
     "data": {
      "text/plain": [
       "-24"
      ]
     },
     "execution_count": 21,
     "metadata": {},
     "output_type": "execute_result"
    }
   ],
   "source": [
    "multiply([1,2,3,-4])"
   ]
  },
  {
   "cell_type": "markdown",
   "metadata": {},
   "source": [
    "Write a Python function that takes a list and returns a new list with unique elements of the first list.\n",
    "* Sample List : [1,1,1,1,2,2,3,3,3,3,4,5]\n",
    "* Unique List : [1, 2, 3, 4, 5]"
   ]
  },
  {
   "cell_type": "code",
   "execution_count": 22,
   "metadata": {},
   "outputs": [],
   "source": [
    "def unique_list(l):\n",
    "    x = []\n",
    "    for a in l:\n",
    "        if a not in x:\n",
    "            x.append(a)\n",
    "    return x"
   ]
  },
  {
   "cell_type": "code",
   "execution_count": 23,
   "metadata": {
    "collapsed": false,
    "jupyter": {
     "outputs_hidden": false
    }
   },
   "outputs": [
    {
     "data": {
      "text/plain": [
       "[1, 2, 3, 4, 5]"
      ]
     },
     "execution_count": 23,
     "metadata": {},
     "output_type": "execute_result"
    }
   ],
   "source": [
    "unique_list([1,1,1,1,2,2,3,3,3,3,4,5])"
   ]
  },
  {
   "cell_type": "markdown",
   "metadata": {},
   "source": [
    "Write a Python function that accepts a string and calculate the number of upper case letters and lower case letters.\n",
    "* Sample String : 'Hello Mr. Rogers, how are you this fine Tuesday?'\n",
    "* Expected Output : \n",
    "  * No. of Upper case characters : 4\n",
    "  * No. of Lower case Characters : 33"
   ]
  },
  {
   "cell_type": "code",
   "execution_count": 28,
   "metadata": {},
   "outputs": [],
   "source": [
    "def up_low(s):\n",
    "    d={\"upper\":0, \"lower\":0}\n",
    "    for c in s:\n",
    "        if c.isupper():\n",
    "            d[\"upper\"]+=1\n",
    "        elif c.islower():\n",
    "            d[\"lower\"]+=1\n",
    "        else:\n",
    "            pass\n",
    "    print (\"Original String : \", s)\n",
    "    print (\"No. of Upper case characters : \", d[\"upper\"])\n",
    "    print (\"No. of Lower case Characters : \", d[\"lower\"])"
   ]
  },
  {
   "cell_type": "code",
   "execution_count": 29,
   "metadata": {
    "collapsed": false,
    "jupyter": {
     "outputs_hidden": false
    }
   },
   "outputs": [
    {
     "name": "stdout",
     "output_type": "stream",
     "text": [
      "Original String :  Hello Mr. Rogers, how are you this fine Tuesday?\n",
      "No. of Upper case characters :  4\n",
      "No. of Lower case Characters :  33\n"
     ]
    }
   ],
   "source": [
    "s = 'Hello Mr. Rogers, how are you this fine Tuesday?'\n",
    "up_low(s)"
   ]
  },
  {
   "cell_type": "markdown",
   "metadata": {},
   "source": [
    "## Numpy\n",
    "\n",
    "1. Create a 3x3 identity matrix \n",
    "2. Create a 4x4x4 array with random values\n",
    "3. Find A*B of the two matrices\n",
    "4. Multiply a 5x3 matrix by a 3x2 matrix (real matrix product)"
   ]
  },
  {
   "cell_type": "code",
   "execution_count": 33,
   "metadata": {
    "collapsed": false,
    "jupyter": {
     "outputs_hidden": false
    }
   },
   "outputs": [
    {
     "data": {
      "text/plain": [
       "(array([[1., 0., 0., 0.],\n",
       "        [0., 1., 0., 0.],\n",
       "        [0., 0., 1., 0.],\n",
       "        [0., 0., 0., 1.]]), (4, 4))"
      ]
     },
     "execution_count": 33,
     "metadata": {},
     "output_type": "execute_result"
    }
   ],
   "source": [
    "# 1\n",
    "import numpy as np\n",
    "I = np.identity(4)\n",
    "I , I.shape"
   ]
  },
  {
   "cell_type": "code",
   "execution_count": 34,
   "metadata": {
    "collapsed": false,
    "jupyter": {
     "outputs_hidden": false
    }
   },
   "outputs": [
    {
     "data": {
      "text/plain": [
       "(array([[[[0.80067244, 0.58476959, 0.77677603, 0.19876249],\n",
       "          [0.69936189, 0.89764855, 0.37236043, 0.68047971],\n",
       "          [0.18248872, 0.87864937, 0.22292693, 0.78252406],\n",
       "          [0.574382  , 0.36558986, 0.3660828 , 0.11823408]],\n",
       " \n",
       "         [[0.09422998, 0.71512538, 0.7215991 , 0.4253975 ],\n",
       "          [0.8995352 , 0.31481302, 0.19931883, 0.10040408],\n",
       "          [0.61330405, 0.36187456, 0.53699153, 0.48749507],\n",
       "          [0.2987458 , 0.27916601, 0.81751909, 0.95465793]],\n",
       " \n",
       "         [[0.1390904 , 0.28049617, 0.96128242, 0.57034295],\n",
       "          [0.46779208, 0.97762336, 0.52965271, 0.02341401],\n",
       "          [0.49126253, 0.99950586, 0.50502685, 0.29896068],\n",
       "          [0.72805964, 0.18027039, 0.72448102, 0.5193453 ]],\n",
       " \n",
       "         [[0.24096347, 0.77219222, 0.72107429, 0.22365599],\n",
       "          [0.52640562, 0.60210746, 0.35412455, 0.29641705],\n",
       "          [0.9699442 , 0.10880035, 0.07022871, 0.68097466],\n",
       "          [0.68264331, 0.72413545, 0.29448797, 0.02413981]]],\n",
       " \n",
       " \n",
       "        [[[0.10627083, 0.03270102, 0.38411493, 0.74807788],\n",
       "          [0.72423538, 0.97979865, 0.84910234, 0.00265967],\n",
       "          [0.13533811, 0.66415954, 0.97457872, 0.34352157],\n",
       "          [0.26107341, 0.30289085, 0.0041048 , 0.85590671]],\n",
       " \n",
       "         [[0.03528566, 0.91407707, 0.17722016, 0.4399472 ],\n",
       "          [0.42565143, 0.19998966, 0.43548344, 0.11320648],\n",
       "          [0.51257072, 0.46705729, 0.92957048, 0.40386806],\n",
       "          [0.43980959, 0.78309763, 0.89377389, 0.99511419]],\n",
       " \n",
       "         [[0.97811821, 0.92470403, 0.86884731, 0.56327565],\n",
       "          [0.9391417 , 0.40970385, 0.44364721, 0.17335856],\n",
       "          [0.09989329, 0.17960231, 0.75459663, 0.66858014],\n",
       "          [0.0837902 , 0.82379368, 0.62432891, 0.95666082]],\n",
       " \n",
       "         [[0.11951174, 0.45204386, 0.78821533, 0.33936962],\n",
       "          [0.42284113, 0.93365053, 0.97294745, 0.34933671],\n",
       "          [0.11430541, 0.54717903, 0.13254469, 0.88033307],\n",
       "          [0.50491475, 0.80343782, 0.96058227, 0.67528795]]],\n",
       " \n",
       " \n",
       "        [[[0.14594384, 0.24114134, 0.9470648 , 0.46806249],\n",
       "          [0.02703917, 0.76807933, 0.00351365, 0.67855812],\n",
       "          [0.38039479, 0.76863776, 0.04247738, 0.265809  ],\n",
       "          [0.67952067, 0.62167704, 0.25171171, 0.81484973]],\n",
       " \n",
       "         [[0.38270751, 0.79818534, 0.92915462, 0.71535426],\n",
       "          [0.64839874, 0.35549501, 0.82233591, 0.71872979],\n",
       "          [0.28094965, 0.55755471, 0.30703762, 0.05857898],\n",
       "          [0.24800404, 0.48965945, 0.76857176, 0.82181043]],\n",
       " \n",
       "         [[0.15991452, 0.46594983, 0.69558503, 0.41017965],\n",
       "          [0.54181784, 0.27189472, 0.27837747, 0.86804424],\n",
       "          [0.11595169, 0.41898882, 0.17171289, 0.80553582],\n",
       "          [0.401903  , 0.87474386, 0.80373316, 0.38229187]],\n",
       " \n",
       "         [[0.87184888, 0.09790068, 0.30957039, 0.73852324],\n",
       "          [0.79276084, 0.39910906, 0.85901588, 0.23364747],\n",
       "          [0.72588417, 0.91918503, 0.59960198, 0.19233747],\n",
       "          [0.17921809, 0.09878248, 0.8635656 , 0.84943482]]],\n",
       " \n",
       " \n",
       "        [[[0.02829727, 0.89802004, 0.92228472, 0.86063902],\n",
       "          [0.36707414, 0.85260705, 0.84051379, 0.53805143],\n",
       "          [0.92307372, 0.74697007, 0.21152677, 0.72042991],\n",
       "          [0.26032074, 0.61330314, 0.27059916, 0.0336591 ]],\n",
       " \n",
       "         [[0.54116542, 0.2474413 , 0.64119218, 0.28154156],\n",
       "          [0.21435098, 0.78612011, 0.67447087, 0.08017703],\n",
       "          [0.92673852, 0.80600823, 0.26368073, 0.30658495],\n",
       "          [0.06498064, 0.60833143, 0.7083261 , 0.85457854]],\n",
       " \n",
       "         [[0.75604269, 0.26921648, 0.28856168, 0.95298267],\n",
       "          [0.30564361, 0.39140024, 0.50918986, 0.80230173],\n",
       "          [0.9637948 , 0.27194629, 0.36120107, 0.70905791],\n",
       "          [0.8334997 , 0.17674536, 0.61198875, 0.21687722]],\n",
       " \n",
       "         [[0.72716969, 0.92055955, 0.3364258 , 0.35289313],\n",
       "          [0.55339244, 0.50263565, 0.79140215, 0.03799518],\n",
       "          [0.52362487, 0.2501659 , 0.04286935, 0.2888293 ],\n",
       "          [0.13548833, 0.91120047, 0.8196991 , 0.77864707]]]]), (4, 4, 4, 4))"
      ]
     },
     "execution_count": 34,
     "metadata": {},
     "output_type": "execute_result"
    }
   ],
   "source": [
    "# 2\n",
    "R = np.random.rand(4,4,4,4)\n",
    "R , R.shape"
   ]
  },
  {
   "cell_type": "code",
   "execution_count": null,
   "metadata": {
    "collapsed": false,
    "jupyter": {
     "outputs_hidden": false
    }
   },
   "outputs": [],
   "source": [
    "prod = np.dot(I, R)"
   ]
  },
  {
   "cell_type": "code",
   "execution_count": 38,
   "metadata": {
    "collapsed": false,
    "jupyter": {
     "outputs_hidden": false
    }
   },
   "outputs": [
    {
     "data": {
      "text/plain": [
       "array([4.5, 5.4, 6.4])"
      ]
     },
     "execution_count": 38,
     "metadata": {},
     "output_type": "execute_result"
    }
   ],
   "source": [
    "# \n",
    "F = np.array([4.5, 5.4, 6.4])\n",
    "F"
   ]
  },
  {
   "cell_type": "code",
   "execution_count": 39,
   "metadata": {
    "collapsed": false,
    "jupyter": {
     "outputs_hidden": false
    }
   },
   "outputs": [
    {
     "data": {
      "text/plain": [
       "array([[ 0. ,  1.2,  2.4],\n",
       "       [ 3.6,  4.8,  6. ],\n",
       "       [ 7.2,  8.4,  9.6],\n",
       "       [10.8, 12. , 13.2],\n",
       "       [14.4, 15.6, 16.8]])"
      ]
     },
     "execution_count": 39,
     "metadata": {},
     "output_type": "execute_result"
    }
   ],
   "source": [
    "A = np.arange(15).reshape(5, 3)\n",
    "A = A * 1.2 \n",
    "A"
   ]
  },
  {
   "cell_type": "code",
   "execution_count": 40,
   "metadata": {
    "collapsed": false,
    "jupyter": {
     "outputs_hidden": false
    }
   },
   "outputs": [
    {
     "data": {
      "text/plain": [
       "array([[ 0. ,  2.8],\n",
       "       [ 5.6,  8.4],\n",
       "       [11.2, 14. ]])"
      ]
     },
     "execution_count": 40,
     "metadata": {},
     "output_type": "execute_result"
    }
   ],
   "source": [
    "B = np.arange(6).reshape(3, 2)\n",
    "B = B * 2.8\n",
    "B"
   ]
  },
  {
   "cell_type": "code",
   "execution_count": 41,
   "metadata": {},
   "outputs": [],
   "source": [
    "prod_A_B = np.dot(A, B)"
   ]
  },
  {
   "cell_type": "code",
   "execution_count": 42,
   "metadata": {
    "collapsed": false,
    "jupyter": {
     "outputs_hidden": false
    }
   },
   "outputs": [
    {
     "data": {
      "text/plain": [
       "array([[ 33.6 ,  43.68],\n",
       "       [ 94.08, 134.4 ],\n",
       "       [154.56, 225.12],\n",
       "       [215.04, 315.84],\n",
       "       [275.52, 406.56]])"
      ]
     },
     "execution_count": 42,
     "metadata": {},
     "output_type": "execute_result"
    }
   ],
   "source": [
    "prod_A_B"
   ]
  },
  {
   "cell_type": "code",
   "execution_count": 43,
   "metadata": {
    "collapsed": false,
    "jupyter": {
     "outputs_hidden": false
    }
   },
   "outputs": [],
   "source": [
    "# import numpy\n",
    "import numpy as np\n",
    "# Import pandas\n",
    "import pandas as pd\n",
    "import matplotlib.pyplot as plt\n",
    "# Make figures appear in-line within the notebook\n",
    "%matplotlib inline"
   ]
  },
  {
   "cell_type": "code",
   "execution_count": 44,
   "metadata": {},
   "outputs": [],
   "source": [
    "df_survey = pd.read_csv(\"surveys.csv\")"
   ]
  },
  {
   "cell_type": "code",
   "execution_count": 45,
   "metadata": {},
   "outputs": [],
   "source": [
    "plot_names = df_survey[\"plot_id\"]"
   ]
  },
  {
   "cell_type": "code",
   "execution_count": 46,
   "metadata": {
    "collapsed": false,
    "jupyter": {
     "outputs_hidden": false
    }
   },
   "outputs": [
    {
     "data": {
      "text/plain": [
       "array([ 2,  3,  7,  1,  6,  5,  8,  4, 11, 14, 15, 13,  9, 10, 17, 16, 20,\n",
       "       23, 18, 21, 22, 19, 12, 24])"
      ]
     },
     "execution_count": 46,
     "metadata": {},
     "output_type": "execute_result"
    }
   ],
   "source": [
    "plot_names.unique()"
   ]
  },
  {
   "cell_type": "code",
   "execution_count": 47,
   "metadata": {},
   "outputs": [],
   "source": [
    "plot_specie = df_survey[\"species_id\"]"
   ]
  },
  {
   "cell_type": "code",
   "execution_count": 48,
   "metadata": {
    "collapsed": false,
    "jupyter": {
     "outputs_hidden": false
    }
   },
   "outputs": [
    {
     "data": {
      "text/plain": [
       "array(['NL', 'DM', 'PF', 'PE', 'DS', 'PP', 'SH', 'OT', 'DO', 'OX', 'SS',\n",
       "       'OL', 'RM', nan, 'SA', 'PM', 'AH', 'DX', 'AB', 'CB', 'CM', 'CQ',\n",
       "       'RF', 'PC', 'PG', 'PH', 'PU', 'CV', 'UR', 'UP', 'ZL', 'UL', 'CS',\n",
       "       'SC', 'BA', 'SF', 'RO', 'AS', 'SO', 'PI', 'ST', 'CU', 'SU', 'RX',\n",
       "       'PB', 'PL', 'PX', 'CT', 'US'], dtype=object)"
      ]
     },
     "execution_count": 48,
     "metadata": {},
     "output_type": "execute_result"
    }
   ],
   "source": [
    "plot_specie.unique()"
   ]
  },
  {
   "cell_type": "code",
   "execution_count": null,
   "metadata": {},
   "outputs": [],
   "source": []
  },
  {
   "cell_type": "code",
   "execution_count": null,
   "metadata": {},
   "outputs": [],
   "source": []
  },
  {
   "cell_type": "code",
   "execution_count": null,
   "metadata": {},
   "outputs": [],
   "source": []
  }
 ],
 "metadata": {
  "anaconda-cloud": {},
  "kernelspec": {
   "display_name": "Python 3",
   "language": "python",
   "name": "python3"
  },
  "language_info": {
   "codemirror_mode": {
    "name": "ipython",
    "version": 3
   },
   "file_extension": ".py",
   "mimetype": "text/x-python",
   "name": "python",
   "nbconvert_exporter": "python",
   "pygments_lexer": "ipython3",
   "version": "3.7.3"
  }
 },
 "nbformat": 4,
 "nbformat_minor": 4
}
