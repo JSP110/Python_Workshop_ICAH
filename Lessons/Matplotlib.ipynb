{
 "cells": [
  {
   "cell_type": "markdown",
   "metadata": {},
   "source": [
    "# Matplotlib"
   ]
  },
  {
   "cell_type": "markdown",
   "metadata": {},
   "source": [
    "**Matplotlib** is a Python library use to visualise data. The ```toolbox matplotlib.pyplot``` is a collection of functions that make matplotlib work like MATLAB. In most cases, this is all that you will need to use, but there are many other useful tools in matplotlib that you should explore.\n",
    "\n",
    "We will cover a few basic commands for formatting plots in this lesson. A resource for help styling your figures is the [matplotlib gallery](http://matplotlib.org/gallery.html), which includes plots in many different styles and the source code that creates them. The simplest plot is the 2-D line plot. These examples walk through the basic commands for making line plots using pyplots.\n",
    "\n",
    "<img src=\"Histogram.png\" alt=\"jupyter\" style=\"width: 500px;\"/>\n",
    "[Link to plot](http://matplotlib.org/examples/style_sheets/plot_bmh.html)\n",
    "\n",
    "More examples in: [Practical Computing for Biologist](http://people.duke.edu/~ccc14/pcfb/numpympl/MatplotlibBarPlots.html)"
   ]
  },
  {
   "cell_type": "code",
   "execution_count": 85,
   "metadata": {
    "collapsed": false
   },
   "outputs": [],
   "source": [
    "# import numpy\n",
    "import numpy as np\n",
    "# iporting the library\n",
    "import matplotlib.pyplot as plt\n",
    "# Make figures appear in-line within the notebook\n",
    "%matplotlib inline"
   ]
  },
  {
   "cell_type": "markdown",
   "metadata": {},
   "source": [
    "Matplotlib can handle many types of numeric data, including numpy arrays and pandas DataFrames. In this first example we will plot the values of a list of numbers."
   ]
  },
  {
   "cell_type": "code",
   "execution_count": null,
   "metadata": {
    "collapsed": false
   },
   "outputs": [],
   "source": [
    "# First Plot\n",
    "numbers = [1.2, 3, 4.2, 5, 5.4, 6.6, 6.9, 7.8]\n",
    "plt.plot(numbers)\n",
    "plt.show()"
   ]
  },
  {
   "cell_type": "markdown",
   "metadata": {},
   "source": [
    "```plt.show()``` prompts Python to display the figure if you are not using ```%matplotlib inline```, ```plt.plot(numbers)``` creates an object in memory but doesn't produce a visible plot."
   ]
  },
  {
   "cell_type": "markdown",
   "metadata": {},
   "source": [
    "```plot()``` function with only one list of numbers assumes that it is a sequence of y-values and plots them against their index (the first value in the list is plotted at x=0, the second at x=1, etc). If the function ```plot()``` receives two lists, it assumes the first one is the x-values and the second the y-values. The line connecting the points will follow the list in order."
   ]
  },
  {
   "cell_type": "code",
   "execution_count": null,
   "metadata": {
    "collapsed": false
   },
   "outputs": [],
   "source": [
    "plt.plot([1, 3.2, 4, 4.5, 5.2, 6.9, 7.2, 8.3], numbers)"
   ]
  },
  {
   "cell_type": "markdown",
   "metadata": {},
   "source": [
    "plot() has a third optional argument which is a string of characters that indicates the line type and colour for the plot (the default is a continuous blue line). For example, we can make the line red ('r'), with circles at every data point ('o'), and a dot-dash pattern ('-.'). Here is another **marker style**: \n",
    "\n",
    "|Marker\t|Meaning|\n",
    "|:-----:|:------|\n",
    "|'.'|\tpoint|\n",
    "|'o'|\tcircle|\n",
    "|'v'|\ttriangle down\n",
    "|'^'|\ttriangle up\n",
    "|'s'|\tsquare\n",
    "|'p'|\tpentagon\n",
    "|'\\*'|\tstar|\n",
    "|'h'|\thexagon|\n",
    "|'+'|   plus|\n",
    "|'D'|\tdiamond|\n",
    "\n",
    "You can find more in this [link](http://matplotlib.org/api/markers_api.html#module-matplotlib.markers). Some line styles are here:\n",
    "\n",
    "|Value|\tStyle|\n",
    "|:---:|:----|\n",
    "|'-'|\tsolid line (default)|\n",
    "|'–'|\tdashed line|\n",
    "|'-.'|\tdash-dot line|\n",
    "|':'|\tdotted line|\n",
    "\n",
    "List of predefined colours:\n",
    "\n",
    "|Code|\tColor|\n",
    "|:---:|:---:|\n",
    "|b|\tblue|\n",
    "|g|\tgreen|\n",
    "|r|\tred|\n",
    "|c|\tcyan|\n",
    "|m|\tmagenta|\n",
    "|y|\tyellow|\n",
    "|k|\tblack|\n",
    "|w|\twhite|\n",
    "\n",
    "For more colour flexibility, you can specify hexadecimal RGB values like:\n",
    "```ptyhon\n",
    "plt.plot(plot_data, color='#aa5599')\n",
    "```\n",
    "\n",
    "RGB coefficients of range 0-1 can be used too:\n",
    "```python\n",
    "plt.plot(plot_data, color=(0.1, 0.9, 0.6))\n",
    "```\n",
    "\n",
    "We can make it thinner or thicker by specifying ```linewidth``` or ```lw```:\n",
    "```python\n",
    "plt.plot(plot_data, linewidth=3)\n",
    "```"
   ]
  },
  {
   "cell_type": "code",
   "execution_count": null,
   "metadata": {
    "collapsed": false
   },
   "outputs": [],
   "source": [
    "plt.plot([1, 3.2, 4, 4.5, 5.2, 6.9, 7.2, 8.3], numbers, 'ro-.')"
   ]
  },
  {
   "cell_type": "markdown",
   "metadata": {},
   "source": [
    "The command ```plt.axis()``` sets the limits of the axes from a list of [xmin, xmax, ymin, ymax] values."
   ]
  },
  {
   "cell_type": "code",
   "execution_count": null,
   "metadata": {
    "collapsed": false
   },
   "outputs": [],
   "source": [
    "plt.plot([1, 3.2, 4, 4.5, 5.2, 6.9, 7.2, 8.3], numbers, 'go-.')\n",
    "plt.axis([0.5, 8.5, 0,8])"
   ]
  },
  {
   "cell_type": "markdown",
   "metadata": {},
   "source": [
    "A single figure can include multiple lines, and they can be plotted using the same ```plt.plot()``` command by adding more pairs of x values and y values (and optionally line styles). The functions ```xlabel()``` and ```ylabel()``` will label the axes, and ```title()``` will write a title above the figure."
   ]
  },
  {
   "cell_type": "code",
   "execution_count": null,
   "metadata": {
    "collapsed": true
   },
   "outputs": [],
   "source": [
    "# Create a numpy array between 0 and 20, with values evenly spaced every 0.5\n",
    "x = np.arange(0, 20, 0.5)"
   ]
  },
  {
   "cell_type": "code",
   "execution_count": null,
   "metadata": {
    "collapsed": false
   },
   "outputs": [],
   "source": [
    "# Red dashes with no symbols, Blue squares with a solid line, and Green triangles with a dotted line\n",
    "plt.plot(x, x, 'r--', x, x**2, 'bs-', x, x**3, 'g^:', x, x**4, 'ro-.')\n",
    "plt.axis([0, 15, 0,100]) # [xmin, xmax, ymin, ymax]\n",
    "plt.xlabel('X axis')\n",
    "plt.ylabel('Y axis')\n",
    "plt.title('Figure Title')\n",
    "    "
   ]
  },
  {
   "cell_type": "markdown",
   "metadata": {},
   "source": [
    "We can **include a legend** by adding the optional keyword argument label='' in ```plot()```. Caution: We cannot add multiple labels to multiple lines that are plotted simultaneously by the ```plt.plot()``` as we just did because Python will not know to which line to assign the value of the argument label. However,  multiple lines can be plotted in the same figure by calling the ```plot()`` function several times."
   ]
  },
  {
   "cell_type": "code",
   "execution_count": null,
   "metadata": {
    "collapsed": false
   },
   "outputs": [],
   "source": [
    "plt.plot(x, x, 'r--', label='linear')\n",
    "plt.plot(x, x**2, 'bs-', label='square')\n",
    "plt.plot(x, x**3, 'g^:', label='cubic')\n",
    "\n",
    "plt.axis([0, 15, 0,100]) # [xmin, xmax, ymin, ymax]\n",
    "# Adds a legend and the optional keyword arguments change its style.\n",
    "# legend() is by default on the upper right corner and has no shadow.\n",
    "plt.legend(loc='upper right', shadow=True, fontsize='x-large') \n",
    "    \n",
    "plt.xlabel('This is the x axis')\n",
    "plt.ylabel('This is the y axis')\n",
    "plt.title('This is the figure title')"
   ]
  },
  {
   "cell_type": "markdown",
   "metadata": {},
   "source": [
    " To make more than one figure, we use the command ```plt.figure()``` with an increasing figure number inside the parentheses."
   ]
  },
  {
   "cell_type": "code",
   "execution_count": null,
   "metadata": {
    "collapsed": false
   },
   "outputs": [],
   "source": [
    "# First figure\n",
    "plt.figure(1)\n",
    "plt.plot(x, x, 'r--', label='linear')\n",
    "plt.axis([0, 15, 0,100]) # [xmin, xmax, ymin, ymax]\n",
    "\n",
    "plt.legend(loc='upper left', shadow=True, fontsize='x-large')\n",
    "plt.title('This is figure 1')\n",
    "    \n",
    "    \n",
    "# Second figure\n",
    "plt.figure(2)\n",
    "plt.plot(x, x**2, 'bs-', label='square')\n",
    "plt.axis([0, 15, 0,100]) # [xmin, xmax, ymin, ymax]\n",
    "    \n",
    "plt.legend(loc='upper left', shadow=True, fontsize='x-large')\n",
    "plt.title('This is figure 2')\n",
    "\n",
    "# Third figure\n",
    "plt.figure(3)\n",
    "plt.plot(x, x**3, 'g^:', label='cubic')\n",
    "plt.axis([0, 15, 0,100]) # [xmin, xmax, ymin, ymax]\n",
    "\n",
    "plt.legend(loc='upper right', shadow=True, fontsize='x-large')\n",
    "plt.title('This is figure 3')\n"
   ]
  },
  {
   "cell_type": "markdown",
   "metadata": {},
   "source": [
    "We can include multiple plots in a grid pattern in a single figure. We can use the ```subplot()``` command to specify  the number of rows, the number of columns, and the number of the space in the grid that particular plot is occupying."
   ]
  },
  {
   "cell_type": "code",
   "execution_count": null,
   "metadata": {
    "collapsed": false
   },
   "outputs": [],
   "source": [
    "plt.figure(1)\n",
    "plt.subplot(2,2,1) # two row, two columns, position 1\n",
    "plt.plot(x, x, 'r--', label='linear')\n",
    "plt.axis([0, 15, 0,100]) # [xmin, xmax, ymin, ymax]\n",
    "plt.legend(loc='upper left', shadow=True, fontsize='x-large')\n",
    "plt.title('This is figure 1')\n",
    "\n",
    "plt.subplot(2,2,2) # two row, two columns, position 2\n",
    "plt.plot(x, x**2, 'bs-', label='square')\n",
    "plt.axis([0, 15, 0,100]) # [xmin, xmax, ymin, ymax]\n",
    "\n",
    "\n",
    "plt.subplot(2,2,3) # two row, two columns, position 3\n",
    "plt.plot(x, x**3, 'g^:', label='cubic')\n",
    "plt.axis([0, 15, 0,100]) # [xmin, xmax, ymin, ymax]\n",
    "\n"
   ]
  },
  {
   "cell_type": "markdown",
   "metadata": {},
   "source": [
    "### Curve fitting \n",
    "\n",
    "To fit the data to a polynomial, you can use the [polyfit()](https://docs.scipy.org/doc/numpy-1.10.0/reference/generated/numpy.polyfit.html) that use the Least Squares Method to do it. It fits a polynomial p(x) = p[0] * x ^ deg + ... + p[deg] of degree deg to points (x, y). Returns a vector of coefficients p that minimises the squared error.\n",
    "The function construct [poly1d()](https://docs.scipy.org/doc/numpy/reference/generated/numpy.poly1d.html) is used to construct the polinomial with the coefiecients calculated with ```polyfit()```."
   ]
  },
  {
   "cell_type": "code",
   "execution_count": null,
   "metadata": {
    "collapsed": false
   },
   "outputs": [],
   "source": [
    "## the data\n",
    "N = 100 # Random seed\n",
    "x = np.random.randn(N)\n",
    "y = x + np.random.randn(N)*1.01\n",
    "\n",
    "# calculate polynomial\n",
    "z = np.polyfit(x, y, 1)\n",
    "f = np.poly1d(z)\n",
    "\n",
    "X_polfit = np.linspace(-3,4,100)\n",
    "Y_polfit = f(X_polfit)\n",
    "\n",
    "plt.scatter(x,y)\n",
    "plt.plot(X_polfit,Y_polfit, '-', label='Linear fit')\n",
    "plt.legend(loc='upper left', shadow=True, fontsize='x-large')\n",
    "plt.title('Fitting Polinomial')"
   ]
  },
  {
   "cell_type": "code",
   "execution_count": null,
   "metadata": {
    "collapsed": false
   },
   "outputs": [],
   "source": [
    "# You can check the coeficients you got when fitting the polynomial\n",
    "z"
   ]
  },
  {
   "cell_type": "code",
   "execution_count": null,
   "metadata": {
    "collapsed": false
   },
   "outputs": [],
   "source": [
    "# You can prit the explicit expression of the polynomial\n",
    "print f"
   ]
  },
  {
   "cell_type": "code",
   "execution_count": null,
   "metadata": {
    "collapsed": false
   },
   "outputs": [],
   "source": [
    "# Cubic Polynomial\n",
    "x = np.random.randn(N)\n",
    "y = x**3 + np.random.randn(N)*3 * 1.2\n",
    "\n",
    "# calculate polynomial\n",
    "z = np.polyfit(x, y, 3)\n",
    "f = np.poly1d(z)\n",
    "\n",
    "X_polfit = np.linspace(-3,4,100)\n",
    "Y_polfit = f(X_polfit)\n",
    "\n",
    "plt.scatter(x,y)\n",
    "plt.plot(X_polfit,Y_polfit, '-', label='Cubic fit')\n",
    "plt.legend(loc='upper left', shadow=True, fontsize='x-large')\n",
    "plt.title('Fitting Polinomial')\n",
    "plt.savefig('Fiting_Cubic.png') # Saving image"
   ]
  },
  {
   "cell_type": "markdown",
   "metadata": {},
   "source": [
    "We used ```plt.savefig``` to save the figures. The format of the image is deduced from the file name or can be given explicitly using format parameter, e.g., format=\"png\". For raster images,  to enhance quality you can also request particular resolution in dots per inch using dpi parameter. This is useful when creating quality images for printing/publication. Vectorized images are supported, and you can save the file with extension SVG, EPS or PDF. "
   ]
  },
  {
   "cell_type": "markdown",
   "metadata": {},
   "source": [
    "# A quick practise!\n",
    "\n",
    "Matplotlib supports a number of different plot variations, eg. histograms (plt.hist), bar plot (plt.bar), contour plots (plt.contour), pie chart (plt.pie), error bars (plt.errorbar), polar plot (plt.polar).\n",
    "* Make another type of plot using one or more plot types from the [example gallery](http://matplotlib.org/users/screenshots.html),could be an histogram with different bins, change color, add labels, etc."
   ]
  },
  {
   "cell_type": "code",
   "execution_count": null,
   "metadata": {
    "collapsed": true
   },
   "outputs": [],
   "source": []
  }
 ],
 "metadata": {
  "anaconda-cloud": {},
  "kernelspec": {
   "display_name": "Python [conda root]",
   "language": "python",
   "name": "conda-root-py"
  },
  "language_info": {
   "codemirror_mode": {
    "name": "ipython",
    "version": 2
   },
   "file_extension": ".py",
   "mimetype": "text/x-python",
   "name": "python",
   "nbconvert_exporter": "python",
   "pygments_lexer": "ipython2",
   "version": "2.7.12"
  }
 },
 "nbformat": 4,
 "nbformat_minor": 1
}
