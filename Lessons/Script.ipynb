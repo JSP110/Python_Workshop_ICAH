{
 "cells": [
  {
   "cell_type": "markdown",
   "metadata": {},
   "source": [
    "# Script"
   ]
  },
  {
   "cell_type": "markdown",
   "metadata": {},
   "source": [
    "A Script is a sequence of statements (lines) into a file using a text editor and tells Python interpreter to execute the statements in the file.\n",
    "\n",
    "* We can write a program in our script like a recipe or installation of software. At the end of the day, a program is a __sequence__ of steps to be done in order.\n",
    "* Some of the steps can be __conditional__, that means that sometimes they can be skipped.\n",
    "* Sometimes a step or group of steps are to be __repeated__.\n",
    "* Sometimes we store a set of steps that will be used over and over again in several parts of the program (__functions__).\n",
    "\n",
    "__Note:__ Have a look on the code [style guide](https://www.python.org/dev/peps/pep-0008/#indentation) for a good coding practise. As a fist good practise, do not name files or folders with space in between: Awful! --> example 1.py; Great! --> __example_1.py, exampleOne.py, example_one.py__\n",
    "\n",
    "Example of a script you can save by using your text editor as **circle_area.py**:"
   ]
  },
  {
   "cell_type": "code",
   "execution_count": null,
   "metadata": {
    "collapsed": false,
    "jupyter": {
     "outputs_hidden": false
    }
   },
   "outputs": [],
   "source": [
    "'Area of a circle = pi * r**2'\n",
    "\n",
    "pi = 3.1416\n",
    "\n",
    "def area_circle(radius):\n",
    "    'Function that calculates the area of a circle'\n",
    "    area = pi * int(radius) ** 2\n",
    "    return area\n",
    "\n",
    "radius = input('Give the Radius of the circle in cm: ')\n",
    "area = area_circle(radius)\n",
    "print (\"The area of a circle of radius \", radius)\n",
    "print (\"cm is\", area, \"cm^2\")\n"
   ]
  },
  {
   "cell_type": "markdown",
   "metadata": {},
   "source": [
    "How to run it from the terminal:\n",
    "\n",
    "1. You have to open your terminal in Linux/Mac or Anaconda terminal in Windows.\n",
    "2. You must be in the same directory where you saved the script\n",
    "3. Run as shown bellow:\n",
    "\n",
    "```bash\n",
    "python circle_area.py \n",
    "```"
   ]
  },
  {
   "cell_type": "code",
   "execution_count": null,
   "metadata": {
    "collapsed": true,
    "jupyter": {
     "outputs_hidden": true
    }
   },
   "outputs": [],
   "source": []
  }
 ],
 "metadata": {
  "anaconda-cloud": {},
  "kernelspec": {
   "display_name": "Python 3",
   "language": "python",
   "name": "python3"
  },
  "language_info": {
   "codemirror_mode": {
    "name": "ipython",
    "version": 3
   },
   "file_extension": ".py",
   "mimetype": "text/x-python",
   "name": "python",
   "nbconvert_exporter": "python",
   "pygments_lexer": "ipython3",
   "version": "3.7.3"
  }
 },
 "nbformat": 4,
 "nbformat_minor": 4
}
