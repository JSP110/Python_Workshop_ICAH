{
 "cells": [
  {
   "cell_type": "markdown",
   "metadata": {},
   "source": [
    "# Python Statements"
   ]
  },
  {
   "cell_type": "markdown",
   "metadata": {
    "collapsed": true
   },
   "source": [
    "Python statements are made in a different fashion than in other languages such as C++.  We can see it more clearly if we see an example of a statement  \" if x is greater than y, assign 5 to x and 6 to y\".\n",
    "\n",
    "**Stateent 1 (Other Languages)**\n",
    "\n",
    "```c++\n",
    "if (x>y){\n",
    "   x=5;\n",
    "   y=6;\n",
    "}   \n",
    "```\n",
    "\n",
    "**Stateent 2 (Python)**\n",
    "```python\n",
    "if x > y:\n",
    "    x = 5\n",
    "    y = 6\n",
    "```\n",
    "\n",
    "You can notice that in Python syntax is **more readable and tidy**. It is achieved by removing the usage of () and {} by incorporating two main factors: a **colon and whitespace**. The statement is with a colon, and whitespace is used (indentation) to describe what takes place in case of the statement.  In Python, the convention of **indentation** is four white spaces, more details in the programming style guide [PEP](https://www.python.org/dev/peps/pep-0008/).\n",
    "\n",
    "Another significant difference is the lack of semicolons in Python, which are used to denote statement endings in many other languages, but in Python, **the end of a line is the same as the end of a statement**.\n",
    "\n",
    "**Python is so heavily driven by code indentation and whitespace. Therefore, the code readability is a core part of the design of the Python language.**"
   ]
  },
  {
   "cell_type": "markdown",
   "metadata": {},
   "source": [
    "## if,elif,else Statements"
   ]
  },
  {
   "cell_type": "markdown",
   "metadata": {},
   "source": [
    "Now let's do an example where we have a __conditional__ that implies a **decision-making about a situation**. Decision making is the anticipation of conditions occurring while execution of the program and specifying actions taken according to the conditions. The following diagram illustrates the conditional flow:\n",
    "\n",
    "<img src=\"decision_making.jpg\" alt=\"jupyter\" style=\"width: 300px;\"/>\n",
    "\n",
    "\n",
    "Look at the syntax format for if statements in Python: \n",
    "\n",
    "```python\n",
    "if case1:\n",
    "    perform action 1\n",
    "elif case2:\n",
    "    perform action 2\n",
    "else: \n",
    "    perform action 3\n",
    "```    \n",
    "\n",
    "Remember, It is important to keep a **good understanding of how indentation works in Python to maintain the structure and order of your code.** "
   ]
  },
  {
   "cell_type": "code",
   "execution_count": 1,
   "metadata": {
    "collapsed": false
   },
   "outputs": [
    {
     "name": "stdout",
     "output_type": "stream",
     "text": [
      "a is True!\n"
     ]
    }
   ],
   "source": [
    "# Example of a simple statement\n",
    "\n",
    "a = True\n",
    "if a:\n",
    "    print \"a is True!\"   "
   ]
  },
  {
   "cell_type": "code",
   "execution_count": 2,
   "metadata": {
    "collapsed": false
   },
   "outputs": [
    {
     "name": "stdout",
     "output_type": "stream",
     "text": [
      "a is False\n"
     ]
    }
   ],
   "source": [
    "# Adding more logic \n",
    "a = False \n",
    "if a:\n",
    "    print \"a is True!\" \n",
    "else:\n",
    "    print \"a is False\""
   ]
  },
  {
   "cell_type": "code",
   "execution_count": 3,
   "metadata": {
    "collapsed": false
   },
   "outputs": [
    {
     "name": "stdout",
     "output_type": "stream",
     "text": [
      "Smaller\n",
      "Finis\n"
     ]
    }
   ],
   "source": [
    "x = 5\n",
    "if x < 10:\n",
    "    print 'Smaller'\n",
    "elif x > 20:\n",
    "    print 'Bigger'          \n",
    "print 'Finis' #outside conditional"
   ]
  },
  {
   "cell_type": "markdown",
   "metadata": {},
   "source": [
    "<img src=\"Flow_Conditional.png\" alt=\"Conditional\" style=\"width: 300px;\"/>"
   ]
  },
  {
   "cell_type": "code",
   "execution_count": 4,
   "metadata": {
    "collapsed": false
   },
   "outputs": [
    {
     "name": "stdout",
     "output_type": "stream",
     "text": [
      "Welcome to the school!\n"
     ]
    }
   ],
   "source": [
    "# Let's see an example of a nested structure by comparing again variables.\n",
    "location = \"School\"\n",
    "\n",
    "if location == 'Auto Shop':\n",
    "    print 'Welcome to the Auto Shop!'\n",
    "elif location == 'School':\n",
    "    print 'Welcome to the school!'\n",
    "else:\n",
    "    print \"Where are you?\""
   ]
  },
  {
   "cell_type": "markdown",
   "metadata": {},
   "source": [
    "Each nested if statement is checked until a True boolean causes the nested code to run. Each nested *if statement* is checked until a *True boolean* causes the nested code to run.  You can use as many *elif statements* as you want before you close off with an *else*."
   ]
  },
  {
   "cell_type": "markdown",
   "metadata": {},
   "source": [
    "## Loop Statements"
   ]
  },
  {
   "cell_type": "markdown",
   "metadata": {},
   "source": [
    "A __loop statement__ allows us to execute a statement or group of statements multiple times. The following diagram illustrates a loop statement:\n",
    "<img src=\"loop_architecture.jpg\" alt=\"Conditional\" style=\"width: 300px;\"/>"
   ]
  },
  {
   "cell_type": "markdown",
   "metadata": {},
   "source": [
    "### For Loops"
   ]
  },
  {
   "cell_type": "markdown",
   "metadata": {},
   "source": [
    "A **for loop** is an iterator in Python, and it goes through items that are in a sequence or any other iterable item — we already have learned about interable objects such as strings, lists, tuples, and even built in iterables for dictionaries, such as the keys or values.\n",
    "\n",
    "```python\n",
    "for item in iterable_object:\n",
    "    conditional code\n",
    "    print item\n",
    "```\n",
    "\n",
    "The variable name used for the *item* is completely up to you, so try to choose a name that makes sense to the problem you are solving, and you will be able to understand when revisiting your code. This *item* name can then be referenced inside your loop.\n",
    "\n",
    "We will work through several examples of for loops using a variety of data object types. We start simple and build more complexity later on."
   ]
  },
  {
   "cell_type": "code",
   "execution_count": 5,
   "metadata": {
    "collapsed": false
   },
   "outputs": [
    {
     "data": {
      "text/plain": [
       "[0, 1, 2, 3, 4, 5, 6, 7, 8, 9]"
      ]
     },
     "execution_count": 5,
     "metadata": {},
     "output_type": "execute_result"
    }
   ],
   "source": [
    "# Iterating through a list\n",
    "\n",
    "# We'll learn how to automate this sort of list in the next lecture\n",
    "l = list(range(0, 10))\n",
    "l"
   ]
  },
  {
   "cell_type": "code",
   "execution_count": 6,
   "metadata": {
    "collapsed": false
   },
   "outputs": [
    {
     "name": "stdout",
     "output_type": "stream",
     "text": [
      "0\n",
      "1\n",
      "2\n",
      "3\n",
      "4\n",
      "5\n",
      "6\n",
      "7\n",
      "8\n",
      "9\n"
     ]
    }
   ],
   "source": [
    "for num in l:\n",
    "    print num"
   ]
  },
  {
   "cell_type": "code",
   "execution_count": 7,
   "metadata": {
    "collapsed": false
   },
   "outputs": [
    {
     "name": "stdout",
     "output_type": "stream",
     "text": [
      "0 It is an even number!\n",
      "1 It is an odd number!\n",
      "2 It is an even number!\n",
      "3 It is an odd number!\n",
      "4 It is an even number!\n",
      "5 It is an odd number!\n",
      "6 It is an even number!\n",
      "7 It is an odd number!\n",
      "8 It is an even number!\n",
      "9 It is an odd number!\n"
     ]
    }
   ],
   "source": [
    "# We can also include a condition to print even or odd numbers by using module from which we get the remainder\n",
    "for num in l:\n",
    "    if num % 2 == 0:\n",
    "        print num, \"It is an even number!\"\n",
    "    else:\n",
    "        print num, \"It is an odd number!\""
   ]
  },
  {
   "cell_type": "code",
   "execution_count": 8,
   "metadata": {
    "collapsed": false
   },
   "outputs": [
    {
     "name": "stdout",
     "output_type": "stream",
     "text": [
      "The sum is  45\n"
     ]
    }
   ],
   "source": [
    "# Let's do a for loop to sum the itmes of the list\n",
    "sum_num = 0\n",
    "\n",
    "for num in l:\n",
    "    sum_num += num\n",
    "print \"The sum is \", sum_num    "
   ]
  },
  {
   "cell_type": "markdown",
   "metadata": {},
   "source": [
    "#### List Comprehensions\n",
    "\n",
    "Python allow us to construct quickly a list base on fulfilling certain conditions or not. Since we arelady study how loops work we can use then to construct a list. In mathematics we can write the next condition:\n",
    "\n",
    "$$[x + 8 \\mid x \\in W \\land x > 2]$$\n",
    "\n",
    "In Python, it is translated as a list comprenhension: [think_to_return **for** variables **in** iterable **if** condition]"
   ]
  },
  {
   "cell_type": "code",
   "execution_count": 9,
   "metadata": {
    "collapsed": false
   },
   "outputs": [
    {
     "data": {
      "text/plain": [
       "[11, 12, 13, 14, 15, 16, 17]"
      ]
     },
     "execution_count": 9,
     "metadata": {},
     "output_type": "execute_result"
    }
   ],
   "source": [
    "# Build a list comprehension by deconstructing a for loop within a []\n",
    "[x + 8 for x in l if x > 2]"
   ]
  },
  {
   "cell_type": "code",
   "execution_count": 10,
   "metadata": {
    "collapsed": false
   },
   "outputs": [
    {
     "data": {
      "text/plain": [
       "[0, 1, 2, 3, 4, 5, 6, 7, 8, 9]"
      ]
     },
     "execution_count": 10,
     "metadata": {},
     "output_type": "execute_result"
    }
   ],
   "source": [
    "l"
   ]
  },
  {
   "cell_type": "markdown",
   "metadata": {},
   "source": [
    "Making a list conprenhension without a condional"
   ]
  },
  {
   "cell_type": "code",
   "execution_count": 12,
   "metadata": {
    "collapsed": false
   },
   "outputs": [
    {
     "data": {
      "text/plain": [
       "[[1, 2, 3], [4, 5, 6], [7, 8, 9]]"
      ]
     },
     "execution_count": 12,
     "metadata": {},
     "output_type": "execute_result"
    }
   ],
   "source": [
    "# A nested list \n",
    "nested_list = [[1, 2, 3], [4, 5, 6], [7, 8, 9]]\n",
    "nested_list"
   ]
  },
  {
   "cell_type": "code",
   "execution_count": 13,
   "metadata": {
    "collapsed": false
   },
   "outputs": [
    {
     "data": {
      "text/plain": [
       "[1, 4, 7]"
      ]
     },
     "execution_count": 13,
     "metadata": {},
     "output_type": "execute_result"
    }
   ],
   "source": [
    "# Getting the first alement of every nested list (It is like a matrix 3x3)\n",
    "[row[0] for row in nested_list]"
   ]
  },
  {
   "cell_type": "markdown",
   "metadata": {},
   "source": [
    "Now look at how a **for loop** can be used with a **tuple**:"
   ]
  },
  {
   "cell_type": "code",
   "execution_count": 14,
   "metadata": {
    "collapsed": false
   },
   "outputs": [
    {
     "name": "stdout",
     "output_type": "stream",
     "text": [
      "1\n",
      "2\n",
      "3\n",
      "4\n",
      "5\n"
     ]
    }
   ],
   "source": [
    "# Simple looping\n",
    "\n",
    "tup_example = (1, 2, 3, 4, 5)\n",
    "\n",
    "for item in tup_example:\n",
    "    print item"
   ]
  },
  {
   "cell_type": "markdown",
   "metadata": {},
   "source": [
    "\n",
    "In a sequence that contains tuples, we can use a for loop to unpack each tuple and access the individual items inside each tuple. "
   ]
  },
  {
   "cell_type": "code",
   "execution_count": 15,
   "metadata": {
    "collapsed": true
   },
   "outputs": [],
   "source": [
    "list_tup_example = [(6, 23), (4, 28), (1, 2)]"
   ]
  },
  {
   "cell_type": "code",
   "execution_count": 16,
   "metadata": {
    "collapsed": false
   },
   "outputs": [
    {
     "name": "stdout",
     "output_type": "stream",
     "text": [
      "(6, 23)\n",
      "<type 'tuple'>\n",
      "(4, 28)\n",
      "<type 'tuple'>\n",
      "(1, 2)\n",
      "<type 'tuple'>\n"
     ]
    }
   ],
   "source": [
    "for tup in list_tup_example:\n",
    "    print tup\n",
    "    print type(tup)"
   ]
  },
  {
   "cell_type": "code",
   "execution_count": 18,
   "metadata": {
    "collapsed": false
   },
   "outputs": [
    {
     "name": "stdout",
     "output_type": "stream",
     "text": [
      "6 23\n",
      "<type 'int'>\n",
      "4 28\n",
      "<type 'int'>\n",
      "1 2\n",
      "<type 'int'>\n"
     ]
    }
   ],
   "source": [
    "# Now with unpacking!\n",
    "for (v1, v2) in list_tup_example:\n",
    "    print v1, v2\n",
    "    print type(v1)"
   ]
  },
  {
   "cell_type": "markdown",
   "metadata": {},
   "source": [
    "Now look at how a **for loop** can be used with a **dictionary**:"
   ]
  },
  {
   "cell_type": "code",
   "execution_count": 19,
   "metadata": {
    "collapsed": true
   },
   "outputs": [],
   "source": [
    "dictinary_example = {'key1': 1, 'key2': 2, 'key3': 3}"
   ]
  },
  {
   "cell_type": "code",
   "execution_count": 20,
   "metadata": {
    "collapsed": false
   },
   "outputs": [
    {
     "name": "stdout",
     "output_type": "stream",
     "text": [
      "key3\n",
      "key2\n",
      "key1\n"
     ]
    }
   ],
   "source": [
    "# Getting the keys (remember that a dictionary ys a mapping structure not a sequence)\n",
    "for item in dictinary_example:\n",
    "    print item"
   ]
  },
  {
   "cell_type": "markdown",
   "metadata": {},
   "source": [
    "How can we get the values? Or both the keys and the values? \n",
    "The first option is to use **item()** method which will create a list of tuples holding the elements of the dictionary. That could potentially take a lot of extra memory. "
   ]
  },
  {
   "cell_type": "code",
   "execution_count": 21,
   "metadata": {
    "collapsed": false
   },
   "outputs": [
    {
     "data": {
      "text/plain": [
       "[('key3', 3), ('key2', 2), ('key1', 1)]"
      ]
     },
     "execution_count": 21,
     "metadata": {},
     "output_type": "execute_result"
    }
   ],
   "source": [
    "dictinary_example.items()"
   ]
  },
  {
   "cell_type": "code",
   "execution_count": 22,
   "metadata": {
    "collapsed": false
   },
   "outputs": [
    {
     "name": "stdout",
     "output_type": "stream",
     "text": [
      "key3 3\n",
      "key2 2\n",
      "key1 1\n"
     ]
    }
   ],
   "source": [
    "for key, value in dictinary_example.items():\n",
    "    print key, value"
   ]
  },
  {
   "cell_type": "markdown",
   "metadata": {},
   "source": [
    "To avoid using a lot of memory,  we can create a **generator** that do not store data in memory but instead yield the key and values as it goes through an iterable item.  Therefore, a generator is a kind of iterator. There is a difference in its usage in Python 2 and Python 3 that we will explain."
   ]
  },
  {
   "cell_type": "markdown",
   "metadata": {},
   "source": [
    "#### Python 2: Use .iteritems() to iterate through\n",
    "\n",
    "In Python 2 you should use .iteritems() to iterate through the keys and values of a dictionary, which will create a generator."
   ]
  },
  {
   "cell_type": "code",
   "execution_count": 23,
   "metadata": {
    "collapsed": false
   },
   "outputs": [
    {
     "data": {
      "text/plain": [
       "<dictionary-itemiterator at 0x104494890>"
      ]
     },
     "execution_count": 23,
     "metadata": {},
     "output_type": "execute_result"
    }
   ],
   "source": [
    "# Creates a generator\n",
    "dictinary_example.iteritems()"
   ]
  },
  {
   "cell_type": "code",
   "execution_count": 24,
   "metadata": {
    "collapsed": false
   },
   "outputs": [
    {
     "name": "stdout",
     "output_type": "stream",
     "text": [
      "key3 3\n",
      "key2 2\n",
      "key1 1\n"
     ]
    }
   ],
   "source": [
    "# Create a generator\n",
    "for key, value in dictinary_example.iteritems():\n",
    "    print key, value  "
   ]
  },
  {
   "cell_type": "code",
   "execution_count": 25,
   "metadata": {
    "collapsed": false
   },
   "outputs": [
    {
     "data": {
      "text/plain": [
       "[3, 2, 1]"
      ]
     },
     "execution_count": 25,
     "metadata": {},
     "output_type": "execute_result"
    }
   ],
   "source": [
    "# List comprenhension jut get key or value, not both\n",
    "[value for key, value in dictinary_example.iteritems()]"
   ]
  },
  {
   "cell_type": "code",
   "execution_count": 26,
   "metadata": {
    "collapsed": false
   },
   "outputs": [
    {
     "data": {
      "text/plain": [
       "['key3', 'key2', 'key1']"
      ]
     },
     "execution_count": 26,
     "metadata": {},
     "output_type": "execute_result"
    }
   ],
   "source": [
    "[key for key, value in dictinary_example.iteritems()]"
   ]
  },
  {
   "cell_type": "code",
   "execution_count": 27,
   "metadata": {
    "collapsed": false
   },
   "outputs": [
    {
     "data": {
      "text/plain": [
       "['key3', 'key2']"
      ]
     },
     "execution_count": 27,
     "metadata": {},
     "output_type": "execute_result"
    }
   ],
   "source": [
    "# We can also add a condition\n",
    "[key for key, value in dictinary_example.iteritems() if value >= 2]"
   ]
  },
  {
   "cell_type": "code",
   "execution_count": 28,
   "metadata": {
    "collapsed": false
   },
   "outputs": [
    {
     "data": {
      "text/plain": [
       "[32.0, 50.0, 68.18, 94.1]"
      ]
     },
     "execution_count": 28,
     "metadata": {},
     "output_type": "execute_result"
    }
   ],
   "source": [
    "# A practical example, convert Celsius to Fahrenheit\n",
    "celsius = [0,10,20.1,34.5]\n",
    "\n",
    "fahrenheit = [ ((float(9)/5)*temp + 32) for temp in celsius ]\n",
    "\n",
    "fahrenheit"
   ]
  },
  {
   "cell_type": "markdown",
   "metadata": {},
   "source": [
    "#### Dictionary Comprenhension\n",
    "\n",
    "It is not as commonly used as List Comprehensions, but we can use the same type of structure to crate a quick dictionary: {return_key: return_value **for** variables **in** iterable **if** condition}\n",
    "\n",
    "\n"
   ]
  },
  {
   "cell_type": "code",
   "execution_count": null,
   "metadata": {
    "collapsed": false
   },
   "outputs": [],
   "source": [
    "dictinary_example"
   ]
  },
  {
   "cell_type": "code",
   "execution_count": null,
   "metadata": {
    "collapsed": false
   },
   "outputs": [],
   "source": [
    "## Changing the values to keys and the keys to values\n",
    "{value: key for key, value in dictinary_example.iteritems()}"
   ]
  },
  {
   "cell_type": "code",
   "execution_count": null,
   "metadata": {
    "collapsed": false
   },
   "outputs": [],
   "source": [
    "# Adding a conditional\n",
    "{value: key for key, value in dictinary_example.iteritems() if value < 2}"
   ]
  },
  {
   "cell_type": "code",
   "execution_count": null,
   "metadata": {
    "collapsed": false
   },
   "outputs": [],
   "source": [
    "# A different example\n",
    "{x:x**2 for x in range(10)}"
   ]
  },
  {
   "cell_type": "markdown",
   "metadata": {},
   "source": [
    "Here we have used **range()** that allows to create a list of numbers ranging from a starting point up to an ending point. We can also specify step size."
   ]
  },
  {
   "cell_type": "code",
   "execution_count": null,
   "metadata": {
    "collapsed": false
   },
   "outputs": [],
   "source": [
    "range(10)"
   ]
  },
  {
   "cell_type": "code",
   "execution_count": null,
   "metadata": {
    "collapsed": false
   },
   "outputs": [],
   "source": [
    "# range(start,stop)\n",
    "range(2, 10)"
   ]
  },
  {
   "cell_type": "code",
   "execution_count": null,
   "metadata": {
    "collapsed": false
   },
   "outputs": [],
   "source": [
    "# Specifiying step size range(start,stop,2)\n",
    "range(2, 10, 2)"
   ]
  },
  {
   "cell_type": "markdown",
   "metadata": {},
   "source": [
    "Note: Remember that other methods or genetarots are iterkeys() and itervalues()"
   ]
  },
  {
   "cell_type": "markdown",
   "metadata": {},
   "source": [
    "#### Python 3: items()\n",
    "In Python 3 you should use .items() to iterate through the keys and values of a dictionary. It is by default a generator or iterator."
   ]
  },
  {
   "cell_type": "markdown",
   "metadata": {},
   "source": [
    "## While loops"
   ]
  },
  {
   "cell_type": "markdown",
   "metadata": {},
   "source": [
    "One of most general ways to perform iteration is through a **while statement** which will repeatedly execute a single statement or group of statements as long as the condition is true. The reason it is called a 'loop' is that the code statements are looped through over and over again until the condition is no longer met.\n",
    "\n",
    "The general format of a while loop is:\n",
    "```python\n",
    "while test:\n",
    "    code statement\n",
    "else:\n",
    "    final code statements\n",
    "```\n",
    "\n",
    "We will look at some simple examples."
   ]
  },
  {
   "cell_type": "code",
   "execution_count": null,
   "metadata": {
    "collapsed": false
   },
   "outputs": [],
   "source": [
    "# We will execute a print statement while the condition of a < 10 is fullfilled. \n",
    "# How many times the print message will appear?\n",
    "a = 0 # Initialise the variable\n",
    "\n",
    "while a < 10:\n",
    "    print \"The value of 'a' is {0}\".format(a)\n",
    "    print \"'a' is still less than 10\"\n",
    "    print \"Adding 1 to 'a'\"\n",
    "    a += 1"
   ]
  },
  {
   "cell_type": "markdown",
   "metadata": {},
   "source": [
    "Once the a == 10 the value is False, and then the code stops. Let's add a message to know when this happens."
   ]
  },
  {
   "cell_type": "code",
   "execution_count": null,
   "metadata": {
    "collapsed": false
   },
   "outputs": [],
   "source": [
    "a = 0 # Initialise the variable\n",
    "\n",
    "while a < 10:\n",
    "    print \"The value of 'a' is {0}\".format(a)\n",
    "    print \"'a' is still less than 10\"\n",
    "    print \"Adding 1 to 'a'\"\n",
    "    a += 1\n",
    "else:\n",
    "    print \"The value of 'a' is {0}\".format(a)\n",
    "    print \"'a' is greater than 10, the code stops\""
   ]
  },
  {
   "cell_type": "markdown",
   "metadata": {},
   "source": [
    "#### break, continue, pass\n",
    "\n",
    "To have additional functionalities in our loops, we can use a break, continue, and pass statements. Here it is a general format of a how to use **break** and **continue** statements anywhere inside loops, where they can be even further nested along with if statements to perform an action based on some condition.\n",
    "\n",
    "```python\n",
    "while test: \n",
    "    code statement\n",
    "    if test: \n",
    "        break\n",
    "    if test: \n",
    "        continue \n",
    "else:\n",
    "```"
   ]
  },
  {
   "cell_type": "code",
   "execution_count": null,
   "metadata": {
    "collapsed": false
   },
   "outputs": [],
   "source": [
    "a = 0\n",
    "\n",
    "while a < 10:\n",
    "    print \"The value of 'a' is {0}\".format(a)\n",
    "    print \"'a' is still less than 10\"\n",
    "    print \"Adding 1 to 'a'\"\n",
    "    a += 1\n",
    "    if a == 3:\n",
    "        print \"\"\n",
    "        print \"The condition of a == 3 is happening!!\"\n",
    "        print \"\"\n",
    "    else:\n",
    "        print \"Continue...\"\n",
    "else:\n",
    "    print \"The value of 'a' is {0}\".format(a)\n",
    "    print \"'a' is greater than 10, the code stops\""
   ]
  },
  {
   "cell_type": "markdown",
   "metadata": {},
   "source": [
    "Now we add a **break** once a ==3 and see if the result makes sense:"
   ]
  },
  {
   "cell_type": "code",
   "execution_count": null,
   "metadata": {
    "collapsed": false
   },
   "outputs": [],
   "source": [
    "a = 0 \n",
    "while a < 10:\n",
    "    print \"The value of 'a' is {0}\".format(a)\n",
    "    print \"'a' is still less than 10\"\n",
    "    print \"Adding 1 to 'a'\"\n",
    "    a += 1\n",
    "    if a == 3:\n",
    "        print \"\"\n",
    "        print \"The condition of a == 3 is happening!!\"\n",
    "        print \"\"\n",
    "        break\n",
    "    else:\n",
    "        print \"Continue...\"\n",
    "        continue\n",
    "else:\n",
    "    print \"The value of 'a' is {0}\".format(a)\n",
    "    print \"'a' is greater than 10, the code stops\""
   ]
  },
  {
   "cell_type": "markdown",
   "metadata": {},
   "source": [
    "Note how the other *else statement* wasn't reached and continuing was never printed! Now you should feel comfortable using while statements. However, **BE CAREFUL** since you **can create an infinitely running loop with while statements**. Sometimes you will intentionally do it, just be careful when you do not mean to do it."
   ]
  },
  {
   "cell_type": "markdown",
   "metadata": {},
   "source": [
    " **DO NOT RUN THIS CODE!!!! **\n",
    " \n",
    " ```python\n",
    " while True:\n",
    "    print 'Uh Oh infinite Loop!'\n",
    " ```"
   ]
  },
  {
   "cell_type": "markdown",
   "metadata": {},
   "source": [
    "# A quick practice!"
   ]
  },
  {
   "cell_type": "code",
   "execution_count": null,
   "metadata": {
    "collapsed": true
   },
   "outputs": [],
   "source": [
    "# Use for, split(), and if to create a Statement that will print out words that start with 's'\n",
    "st = 'Print only the words that start with s in this sentence'"
   ]
  },
  {
   "cell_type": "code",
   "execution_count": null,
   "metadata": {
    "collapsed": true
   },
   "outputs": [],
   "source": [
    "# Use range() to print all the even numbers from 0 to 10."
   ]
  },
  {
   "cell_type": "code",
   "execution_count": null,
   "metadata": {
    "collapsed": true
   },
   "outputs": [],
   "source": [
    "# Use List comprehension to create a list of all numbers between 1 and 50 that are divisible by 3."
   ]
  },
  {
   "cell_type": "code",
   "execution_count": null,
   "metadata": {
    "collapsed": true
   },
   "outputs": [],
   "source": [
    "# Go through the string below and if the length of a word is even print \"even!\"\n",
    "st = 'Print every word in this sentence that has an even number of letters'"
   ]
  }
 ],
 "metadata": {
  "anaconda-cloud": {},
  "kernelspec": {
   "display_name": "Python [conda root]",
   "language": "python",
   "name": "conda-root-py"
  },
  "language_info": {
   "codemirror_mode": {
    "name": "ipython",
    "version": 2
   },
   "file_extension": ".py",
   "mimetype": "text/x-python",
   "name": "python",
   "nbconvert_exporter": "python",
   "pygments_lexer": "ipython2",
   "version": "2.7.12"
  }
 },
 "nbformat": 4,
 "nbformat_minor": 1
}
